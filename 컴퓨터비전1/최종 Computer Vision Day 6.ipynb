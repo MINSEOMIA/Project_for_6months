{
 "cells": [
  {
   "cell_type": "markdown",
   "id": "493767be",
   "metadata": {},
   "source": [
    "# 컬러 영상 다루기"
   ]
  },
  {
   "cell_type": "code",
   "execution_count": 16,
   "id": "5476b751",
   "metadata": {},
   "outputs": [],
   "source": [
    "import cv2\n",
    "import numpy as np\n",
    "import matplotlib.pyplot as plt"
   ]
  },
  {
   "cell_type": "markdown",
   "id": "ab0df16c",
   "metadata": {},
   "source": [
    "## 컬러 영상의 픽셀값 참조"
   ]
  },
  {
   "cell_type": "code",
   "execution_count": 3,
   "id": "81170f7e",
   "metadata": {},
   "outputs": [
    {
     "data": {
      "text/plain": [
       "((356, 493, 3), dtype('uint8'))"
      ]
     },
     "execution_count": 3,
     "metadata": {},
     "output_type": "execute_result"
    }
   ],
   "source": [
    "src = cv2.imread(\"./data/butterfly.jpg\", cv2.IMREAD_COLOR)\n",
    "src.shape, src.dtype"
   ]
  },
  {
   "cell_type": "code",
   "execution_count": 5,
   "id": "834982ad",
   "metadata": {},
   "outputs": [
    {
     "data": {
      "text/plain": [
       "(47, 88, 50)"
      ]
     },
     "execution_count": 5,
     "metadata": {},
     "output_type": "execute_result"
    }
   ],
   "source": [
    "# 좌상단 (0,0) 좌표의 각 b, g, r의 픽셀값(광도)을 출력해보기\n",
    "\n",
    "b = src[0][0][0]\n",
    "g = src[0][0][1]\n",
    "r = src[0][0][2]\n",
    "b, g, r"
   ]
  },
  {
   "cell_type": "markdown",
   "id": "d35beb10",
   "metadata": {},
   "source": [
    "- (참고)"
   ]
  },
  {
   "cell_type": "code",
   "execution_count": 9,
   "id": "11331241",
   "metadata": {},
   "outputs": [],
   "source": [
    "# matplotlib의 default backend\n",
    "%matplotlib inline\n",
    "plt.imshow(src)"
   ]
  },
  {
   "cell_type": "code",
   "execution_count": 11,
   "id": "3d56a07a",
   "metadata": {},
   "outputs": [
    {
     "data": {
      "text/plain": [
       "<matplotlib.image.AxesImage at 0x239be1c5820>"
      ]
     },
     "execution_count": 11,
     "metadata": {},
     "output_type": "execute_result"
    }
   ],
   "source": [
    "# matplotlib의 backend로 qt 사용시 픽셀의 RGB값 표시됨\n",
    "%matplotlib qt\n",
    "\n",
    "import matplotlib.image as mpimg\n",
    "import matplotlib.pyplot as plt\n",
    "\n",
    "plt.imshow(src)"
   ]
  },
  {
   "cell_type": "markdown",
   "id": "ce10317f",
   "metadata": {},
   "source": [
    "## 컬러 영상의 픽셀값 반전"
   ]
  },
  {
   "cell_type": "code",
   "execution_count": 19,
   "id": "1c6c8377",
   "metadata": {},
   "outputs": [],
   "source": [
    "src = cv2.imread(\"./data/butterfly.jpg\", cv2.IMREAD_COLOR)\n",
    "\n",
    "# option 1. 전체 이미지 반전\n",
    "dst = 255 - src[:,:,:3] \n",
    "\n",
    "# option 2. 채널별 이미지 반전\n",
    "# dst[:, :, 0] = 255 - src[:,:,0]\n",
    "# dst[:, :, 1] = 255 - src[:,:,1]\n",
    "# dst[:, :, 2] = 255 - src[:,:,2]\n",
    "\n",
    "\n",
    "cv2.imshow(\"src\", src)\n",
    "cv2.imshow(\"dst\", dst)\n",
    "cv2.waitKey()\n",
    "cv2.destroyAllWindows()"
   ]
  },
  {
   "cell_type": "markdown",
   "id": "afc409de",
   "metadata": {},
   "source": [
    "## 색공간 변환"
   ]
  },
  {
   "cell_type": "code",
   "execution_count": 20,
   "id": "a6f1b783",
   "metadata": {},
   "outputs": [],
   "source": [
    "src = cv2.imread(\"./data/butterfly.jpg\", cv2.IMREAD_COLOR)\n",
    "\n",
    "# BGR2GRAY로 변환후 gray 이미지 표시\n",
    "gray = cv2.cvtColor(src, cv2.COLOR_BGR2GRAY)\n",
    "\n",
    "cv2.imshow(\"src\", src)\n",
    "cv2.imshow(\"gray\", gray)\n",
    "cv2.waitKey()\n",
    "cv2.destroyAllWindows()"
   ]
  },
  {
   "cell_type": "markdown",
   "id": "06f00128",
   "metadata": {},
   "source": [
    "## 색상 채널 나누기"
   ]
  },
  {
   "cell_type": "code",
   "execution_count": 32,
   "id": "ae348102",
   "metadata": {},
   "outputs": [],
   "source": [
    "src = cv2.imread(\"./data/butterfly.jpg\", cv2.IMREAD_COLOR)\n",
    "\n",
    "# BGR2HSV로 변환후, h, s, v 채널을 각각 윈도우에 표시\n",
    "hsv = cv2.cvtColor(src, cv2.COLOR_BGR2HSV)\n",
    "h, s, v = cv2.split(hsv)\n",
    "\n",
    "cv2.imshow(\"src\", src)\n",
    "cv2.imshow(\"h\", h)\n",
    "cv2.imshow(\"s\", s)\n",
    "cv2.imshow(\"v\", v)\n",
    "cv2.waitKey()\n",
    "cv2.destroyAllWindows()"
   ]
  },
  {
   "cell_type": "code",
   "execution_count": 33,
   "id": "46a4ec2a",
   "metadata": {},
   "outputs": [],
   "source": [
    "src = cv2.imread(\"./data/butterfly.jpg\", cv2.IMREAD_COLOR)\n",
    "# BGR2YCrCb로 변환후, y, cr, cb 채널을 각각 윈도우에 표시\n",
    "# gray scale로도 변환하여 픽셀 밝기값이 ycrcb의 y값과 같은지 확인\n",
    "gray = cv2.cvtColor(src, cv2.COLOR_BGR2GRAY)\n",
    "ycrcb = cv2.cvtColor(src, cv2.COLOR_BGR2YCrCb)\n",
    "y, cr, cb = cv2.split(ycrcb)\n",
    "\n",
    "cv2.imshow(\"src\", src)\n",
    "cv2.imshow(\"y\", y)\n",
    "cv2.imshow(\"cr\", cr)\n",
    "cv2.imshow(\"cb\", cb)\n",
    "cv2.waitKey()\n",
    "cv2.destroyAllWindows()"
   ]
  },
  {
   "cell_type": "code",
   "execution_count": 34,
   "id": "08ca84ac",
   "metadata": {},
   "outputs": [
    {
     "name": "stdout",
     "output_type": "stream",
     "text": [
      "175502 6\n",
      "(356, 493)\n",
      "175508\n"
     ]
    }
   ],
   "source": [
    "print((y == gray).sum(), (y != gray).sum()) # 거의 같음\n",
    "\n",
    "print(gray.shape)\n",
    "\n",
    "print(356*493)"
   ]
  },
  {
   "cell_type": "code",
   "execution_count": 35,
   "id": "718fe7c5",
   "metadata": {},
   "outputs": [],
   "source": [
    "src = cv2.imread(\"./data/candies.png\", cv2.IMREAD_COLOR)\n",
    "\n",
    "# b, g, r로 channel split 후 채널마다 윈도우에 표시\n",
    "b, g, r = cv2.split(src)\n",
    "\n",
    "cv2.imshow('src', src)\n",
    "cv2.imshow('b', b)\n",
    "cv2.imshow('g', g)\n",
    "cv2.imshow('r', r)\n",
    "cv2.waitKey()\n",
    "cv2.destroyAllWindows()"
   ]
  },
  {
   "cell_type": "markdown",
   "id": "c90e347f",
   "metadata": {},
   "source": [
    "# 컬러 영상 처리 기법"
   ]
  },
  {
   "cell_type": "markdown",
   "id": "c3b97f6f",
   "metadata": {},
   "source": [
    "## 컬러 히스토그램 평활화"
   ]
  },
  {
   "cell_type": "code",
   "execution_count": 36,
   "id": "13ea1e9d",
   "metadata": {},
   "outputs": [],
   "source": [
    "# 명암비를 조정한다는것은 \"밝기\"값하고만 상관이 있음\n",
    "src = cv2.imread(\"./data/pepper.bmp\")\n",
    "src_yCrCb = cv2.cvtColor(src, cv2.COLOR_BGR2YCrCb) # YCrCb : Y(밝기 정보), Cr(붉은색 색상정보), Cb(푸른색 색상정보)\n",
    "\n",
    "y, Cr, Cb = cv2.split(src_yCrCb)\n",
    "\n",
    "y_equalized = cv2.equalizeHist(y) # 밝기 정보만을 담고 있는 y 채널에 대해서만 평활화를 수행\n",
    "\n",
    "dst_yCrCb = cv2.merge([y_equalized, Cr, Cb])\n",
    "\n",
    "dst = cv2.cvtColor(dst_yCrCb, cv2.COLOR_YCrCb2BGR)\n",
    "\n",
    "cv2.imshow(\"src\", src)\n",
    "cv2.imshow(\"dst\", dst)\n",
    "cv2.waitKey()\n",
    "cv2.destroyAllWindows()\n"
   ]
  },
  {
   "cell_type": "markdown",
   "id": "bbd0fe48",
   "metadata": {},
   "source": [
    "## 색상 범위 지정에 의한 영역 분할"
   ]
  },
  {
   "cell_type": "code",
   "execution_count": null,
   "id": "043fe56a",
   "metadata": {},
   "outputs": [],
   "source": [
    "src = cv2.imread(\"./data/hand.jpg\")\n",
    "hsv = cv2.cvtColor(src, cv2.COLOR_BGR2HSV)\n",
    "\n",
    "# picker tool 기준 살색의 hsv값\n",
    "# h : 21 (0~360)\n",
    "# s : 38 (0~100)\n",
    "# v : 66 (0~100)\n",
    "\n",
    "# opencv 기준 hsv 값으로 대략 바꾸면\n",
    "# h : 10~11 (0~179)\n",
    "# s : 90~110 (0~255)\n",
    "# v : 165 (0~255)\n",
    "\n",
    "lowerb = (0, 20, 0)\n",
    "upperb = (20, 160, 255)\n",
    "dst = cv2.inRange(hsv, lowerb, upperb) # dst : lowerb~upperb(흰색), 그외(검은색)\n",
    "\n",
    "\n",
    "cv2.imshow(\"src\", src)\n",
    "cv2.imshow(\"dst\", dst)\n",
    "cv2.waitKey()\n",
    "cv2.destroyAllWindows()"
   ]
  },
  {
   "cell_type": "code",
   "execution_count": 46,
   "id": "c9e00fc8",
   "metadata": {},
   "outputs": [],
   "source": [
    "def on_level_change(pos) :\n",
    "    lower_h = cv2.getTrackbarPos('Lower H', 'dst')\n",
    "    upper_h = cv2.getTrackbarPos('Upper H', 'dst')\n",
    "    lower_s = cv2.getTrackbarPos('Lower S', 'dst')\n",
    "    upper_s = cv2.getTrackbarPos('Upper S', 'dst')\n",
    "    lowerb = (lower_h, lower_s, 0)\n",
    "    upperb = (upper_h, upper_s, 255)\n",
    "    dst = cv2.inRange(hsv, lowerb, upperb)\n",
    "    cv2.imshow('dst', dst)\n",
    "\n",
    "src = cv2.imread(\"./data/candies.png\")\n",
    "hsv = cv2.cvtColor(src, cv2.COLOR_BGR2HSV)\n",
    "h, s, v = cv2.split(hsv)\n",
    "cv2.imshow('src', src)\n",
    "cv2.namedWindow('dst')\n",
    "\n",
    "cv2.createTrackbar('Lower H', 'dst', 0, 255, on_level_change)\n",
    "cv2.createTrackbar('Upper H', 'dst', 0, 255, on_level_change)\n",
    "cv2.createTrackbar('Lower S', 'dst', 0, 255, on_level_change)\n",
    "cv2.createTrackbar('Upper S', 'dst', 0, 255, on_level_change)\n",
    "cv2.setTrackbarPos('Lower H', 'dst', 0)\n",
    "cv2.setTrackbarPos('Upper H', 'dst', 180)\n",
    "cv2.setTrackbarPos('Lower S', 'dst', 0)\n",
    "cv2.setTrackbarPos('Upper S', 'dst', 200)\n",
    "\n",
    "cv2.waitKey()\n",
    "cv2.destroyAllWindows()"
   ]
  },
  {
   "cell_type": "markdown",
   "id": "4e75c5d8",
   "metadata": {},
   "source": [
    "## 히스토그램 역투영"
   ]
  },
  {
   "cell_type": "code",
   "execution_count": 48,
   "id": "a71e979c",
   "metadata": {},
   "outputs": [
    {
     "data": {
      "text/plain": [
       "array([[9.],\n",
       "       [3.],\n",
       "       [2.],\n",
       "       [2.]], dtype=float32)"
      ]
     },
     "execution_count": 48,
     "metadata": {},
     "output_type": "execute_result"
    }
   ],
   "source": [
    "src = np.array([[0, 0, 0, 0],\n",
    "                [1, 1, 3, 5],\n",
    "                [6, 1, 1, 3],\n",
    "                [4, 3, 1, 7]], dtype=np.uint8)\n",
    "\n",
    "hist = cv2.calcHist(images = [src], channels=[0], mask=None, histSize=[4], ranges=[0, 8])\n",
    "hist"
   ]
  },
  {
   "cell_type": "code",
   "execution_count": 49,
   "id": "1d249aa2",
   "metadata": {},
   "outputs": [
    {
     "data": {
      "text/plain": [
       "array([[9, 9, 9, 9],\n",
       "       [9, 9, 3, 2],\n",
       "       [2, 9, 9, 3],\n",
       "       [2, 3, 9, 2]], dtype=uint8)"
      ]
     },
     "execution_count": 49,
     "metadata": {},
     "output_type": "execute_result"
    }
   ],
   "source": [
    "backP = cv2.calcBackProject([src], [0], hist, [0, 8], scale=1)\n",
    "backP"
   ]
  },
  {
   "cell_type": "code",
   "execution_count": 52,
   "id": "424339e9",
   "metadata": {},
   "outputs": [],
   "source": [
    "ref = cv2.imread(\"./data/ref.png\", cv2.IMREAD_COLOR)\n",
    "mask = cv2.imread(\"./data/mask.bmp\", cv2.IMREAD_GRAYSCALE)\n",
    "\n",
    "ref_yrcrcb = cv2.cvtColor(ref, cv2.COLOR_BGR2YCrCb)\n",
    "\n",
    "channels = [1, 2] # cr, cb channel\n",
    "histSize = [128, 128] # cr의 histSize, cb의 histSize\n",
    "ranges = [0, 256] + [0, 256]\n",
    "\n",
    "hist = cv2.calcHist(images=[ref_yrcrcb], channels=channels, mask=mask, histSize=histSize, ranges=ranges)\n",
    "\n",
    "src = cv2.imread(\"./data/kids.png\", cv2.IMREAD_COLOR)\n",
    "src_ycrcb = cv2.cvtColor(src, cv2.COLOR_BGR2YCrCb)\n",
    "\n",
    "\n",
    "back_proj = cv2.calcBackProject([src_ycrcb], channels, hist, ranges, 1)\n",
    "\n",
    "cv2.imshow(\"ref\", ref)\n",
    "cv2.imshow(\"mask\", mask)\n",
    "cv2.imshow(\"back_proj\", back_proj)\n",
    "\n",
    "cv2.waitKey()\n",
    "cv2.destroyAllWindows()"
   ]
  },
  {
   "cell_type": "code",
   "execution_count": 55,
   "id": "741a9141",
   "metadata": {},
   "outputs": [
    {
     "data": {
      "text/plain": [
       "array([[0., 0., 0., ..., 0., 0., 0.],\n",
       "       [0., 0., 0., ..., 0., 0., 0.],\n",
       "       [0., 0., 0., ..., 0., 0., 0.],\n",
       "       ...,\n",
       "       [0., 0., 0., ..., 0., 0., 0.],\n",
       "       [0., 0., 0., ..., 0., 0., 0.],\n",
       "       [0., 0., 0., ..., 0., 0., 0.]], dtype=float32)"
      ]
     },
     "execution_count": 55,
     "metadata": {},
     "output_type": "execute_result"
    }
   ],
   "source": [
    "hist"
   ]
  },
  {
   "cell_type": "code",
   "execution_count": 56,
   "id": "f840b20e",
   "metadata": {},
   "outputs": [
    {
     "data": {
      "text/plain": [
       "array([[0, 0, 0, ..., 1, 1, 1],\n",
       "       [0, 0, 0, ..., 1, 1, 1],\n",
       "       [0, 0, 0, ..., 1, 1, 1],\n",
       "       ...,\n",
       "       [0, 0, 0, ..., 1, 0, 0],\n",
       "       [0, 0, 0, ..., 1, 1, 0],\n",
       "       [0, 0, 0, ..., 1, 1, 0]], dtype=uint8)"
      ]
     },
     "execution_count": 56,
     "metadata": {},
     "output_type": "execute_result"
    }
   ],
   "source": [
    "back_proj"
   ]
  },
  {
   "cell_type": "markdown",
   "id": "94ea56ad",
   "metadata": {},
   "source": [
    "# 영상의 이진화"
   ]
  },
  {
   "cell_type": "markdown",
   "id": "dc8fee57",
   "metadata": {},
   "source": [
    "## 전역 이진화"
   ]
  },
  {
   "cell_type": "markdown",
   "id": "3e9e7c2d",
   "metadata": {},
   "source": [
    "- Trackbar 이용"
   ]
  },
  {
   "cell_type": "code",
   "execution_count": 57,
   "id": "9615c416",
   "metadata": {},
   "outputs": [],
   "source": [
    "def on_threshold(pos):\n",
    "    _, dst = cv2.threshold(src, pos, 255, cv2.THRESH_BINARY)\n",
    "    cv2.imshow(\"dst\", dst)\n",
    "    \n",
    "src = cv2.imread(\"./data/neutrophils.png\", cv2.IMREAD_GRAYSCALE)\n",
    "\n",
    "cv2.imshow(\"src\", src)\n",
    "cv2.imshow(\"dst\", dst)\n",
    "\n",
    "cv2.createTrackbar(\"threhold\", \"dst\", 0, 255, on_threshold)\n",
    "cv2.setTrackbarPos(\"threhold\", \"dst\", 128)\n",
    "cv2.waitKey()\n",
    "cv2.destroyAllWindows()"
   ]
  },
  {
   "cell_type": "markdown",
   "id": "2b3eb61c",
   "metadata": {},
   "source": [
    "- Otsu 알고리즘에 의한 임계값 사용"
   ]
  },
  {
   "cell_type": "code",
   "execution_count": 62,
   "id": "3a919b93",
   "metadata": {},
   "outputs": [
    {
     "name": "stdout",
     "output_type": "stream",
     "text": [
      "thresh :  206.0\n"
     ]
    }
   ],
   "source": [
    "src = cv2.imread(\"./data/neutrophils.png\", cv2.IMREAD_GRAYSCALE)\n",
    "\n",
    "thresh, dst = cv2.threshold(src, 0, 255, cv2.THRESH_BINARY | cv2.THRESH_OTSU)\n",
    "\n",
    "print(\"thresh : \",thresh)\n",
    "\n",
    "cv2.imshow(\"src\", src)\n",
    "cv2.imshow(\"dst\", dst)\n",
    "\n",
    "\n",
    "cv2.waitKey()\n",
    "cv2.destroyAllWindows()"
   ]
  },
  {
   "cell_type": "markdown",
   "id": "f5d1cc9d",
   "metadata": {},
   "source": [
    "- Otsu 알고리즘에 의한 임계값 사용"
   ]
  },
  {
   "cell_type": "code",
   "execution_count": 63,
   "id": "06d5a842",
   "metadata": {},
   "outputs": [
    {
     "name": "stdout",
     "output_type": "stream",
     "text": [
      "thresh :  175.0\n"
     ]
    }
   ],
   "source": [
    "src = cv2.imread(\"./data/heart10.jpg\", cv2.IMREAD_GRAYSCALE)\n",
    "\n",
    "thresh, dst = cv2.threshold(src, 0, 255, cv2.THRESH_BINARY | cv2.THRESH_OTSU)\n",
    "\n",
    "print(\"thresh : \",thresh)\n",
    "\n",
    "cv2.imshow(\"src\", src)\n",
    "cv2.imshow(\"dst\", dst)\n",
    "\n",
    "\n",
    "cv2.waitKey()\n",
    "cv2.destroyAllWindows()"
   ]
  },
  {
   "cell_type": "markdown",
   "id": "28074bf7",
   "metadata": {},
   "source": [
    "## 적응형 이진화"
   ]
  },
  {
   "cell_type": "code",
   "execution_count": 70,
   "id": "d9b179fc",
   "metadata": {},
   "outputs": [
    {
     "name": "stdout",
     "output_type": "stream",
     "text": [
      "thresh :  97.0\n"
     ]
    }
   ],
   "source": [
    "# 불균형한 조명의 이미지는 전역 이진화가 잘되지 않음\n",
    "src = cv2.imread(\"./data/sudoku.jpg\", cv2.IMREAD_GRAYSCALE)\n",
    "\n",
    "thresh, dst = cv2.threshold(src, 0, 255, cv2.THRESH_BINARY | cv2.THRESH_OTSU)\n",
    "\n",
    "print(\"thresh : \",thresh)\n",
    "cv2.imshow(\"src\", src)\n",
    "cv2.imshow(\"dst\", dst)\n",
    "\n",
    "\n",
    "cv2.waitKey()\n",
    "cv2.destroyAllWindows()"
   ]
  },
  {
   "cell_type": "code",
   "execution_count": 83,
   "id": "5e392b14",
   "metadata": {},
   "outputs": [],
   "source": [
    "def on_trackbar(pos):\n",
    "    bsize = pos\n",
    "    \n",
    "    if bsize % 2== 0: # 짝수\n",
    "        bsize = bsize+1\n",
    "        \n",
    "    if bsize < 3:\n",
    "        bsize = 3\n",
    "        \n",
    "    dst = cv2.adaptiveThreshold(src, 255, cv2.ADAPTIVE_THRESH_GAUSSIAN_C, cv2.THRESH_BINARY, bsize, 5)\n",
    "    cv2.imshow(\"dst\", dst)\n",
    "\n",
    "src = cv2.imread(\"./data/sudoku.jpg\", cv2.IMREAD_GRAYSCALE)\n",
    "\n",
    "cv2.imshow(\"src\", src)\n",
    "cv2.namedWindow(\"dst\")\n",
    "\n",
    "cv2.createTrackbar(\"block size\", \"dst\", 0, 200, on_trackbar)\n",
    "cv2.setTrackbarPos(\"block size\", \"dst\", 11)\n",
    "\n",
    "cv2.waitKey()\n",
    "cv2.destroyAllWindows()"
   ]
  },
  {
   "cell_type": "markdown",
   "id": "0b5aa070",
   "metadata": {},
   "source": [
    "# 모폴로지 연산"
   ]
  },
  {
   "cell_type": "markdown",
   "id": "e5df8ffc",
   "metadata": {},
   "source": [
    "## 침식과 팽창"
   ]
  },
  {
   "cell_type": "code",
   "execution_count": 86,
   "id": "34789d13",
   "metadata": {},
   "outputs": [],
   "source": [
    "src = cv2.imread(\"./data/milkdrop.bmp\", cv2.IMREAD_GRAYSCALE)\n",
    "\n",
    "thresh, src_bin = cv2.threshold(src, 0, 255, cv2.THRESH_BINARY | cv2.THRESH_OTSU)\n",
    "\n",
    "erode = cv2.erode(src_bin, None)\n",
    "dilate = cv2.dilate(src_bin, None)\n",
    "\n",
    "\n",
    "cv2.imshow(\"src\", src)\n",
    "cv2.imshow(\"src_bin\", src_bin)\n",
    "cv2.imshow(\"erode\", erode)\n",
    "cv2.imshow(\"dilate\", dilate)\n",
    "\n",
    "cv2.waitKey()\n",
    "cv2.destroyAllWindows()"
   ]
  },
  {
   "cell_type": "markdown",
   "id": "c2839717",
   "metadata": {},
   "source": [
    "## 열기와 닫기"
   ]
  },
  {
   "cell_type": "code",
   "execution_count": 88,
   "id": "cb074e39",
   "metadata": {},
   "outputs": [],
   "source": [
    "src = cv2.imread(\"./data/milkdrop.bmp\", cv2.IMREAD_GRAYSCALE)\n",
    "\n",
    "thresh, src_bin = cv2.threshold(src, 0, 255, cv2.THRESH_BINARY | cv2.THRESH_OTSU)\n",
    "\n",
    "# 열기 : 침식 -> 팽창\n",
    "opening = cv2.morphologyEx(src_bin, cv2.MORPH_OPEN, None, iterations=1)\n",
    "\n",
    "# 닫기 : 팽창 -> 침식\n",
    "closing = cv2.morphologyEx(src_bin, cv2.MORPH_CLOSE, None, iterations=1)\n",
    "\n",
    "\n",
    "cv2.imshow(\"src_bin\", src_bin)\n",
    "cv2.imshow(\"opening\", opening)\n",
    "cv2.imshow(\"closing\", closing)\n",
    "\n",
    "cv2.waitKey()\n",
    "cv2.destroyAllWindows()\n"
   ]
  },
  {
   "cell_type": "markdown",
   "id": "a5599ebe",
   "metadata": {},
   "source": [
    "# 레이블링과 외곽선 검출"
   ]
  },
  {
   "cell_type": "code",
   "execution_count": 95,
   "id": "7391552f",
   "metadata": {},
   "outputs": [
    {
     "name": "stdout",
     "output_type": "stream",
     "text": [
      "4\n",
      "[[0 0 1 1 0 0 0 0]\n",
      " [1 1 1 1 0 0 2 0]\n",
      " [1 1 1 1 0 0 0 0]\n",
      " [0 0 0 0 0 3 3 0]\n",
      " [0 0 0 3 3 3 3 0]\n",
      " [0 0 0 3 0 0 3 0]\n",
      " [0 0 3 3 3 3 3 0]\n",
      " [0 0 0 0 0 0 0 0]]\n"
     ]
    }
   ],
   "source": [
    "src = np.array([[0, 0, 1, 1, 0, 0, 0, 0],\n",
    "                [1, 1, 1, 1, 0, 0, 1, 0],\n",
    "                [1, 1, 1, 1, 0, 0, 0, 0],\n",
    "                [0, 0, 0, 0, 0, 1, 1, 0],\n",
    "                [0, 0, 0, 1, 1, 1, 1, 0],\n",
    "                [0, 0, 0, 1, 0, 0, 1, 0],\n",
    "                [0, 0, 1, 1, 1, 1, 1, 0],\n",
    "                [0, 0, 0, 0, 0, 0, 0, 0]]).astype(np.uint8)\n",
    "\n",
    "\n",
    "src = src * 255\n",
    "\n",
    "cnt, labels = cv2.connectedComponents(src) # 배경:0, 객체: 0이 아님\n",
    "\n",
    "print(cnt)\n",
    "print(labels)"
   ]
  },
  {
   "cell_type": "markdown",
   "id": "d1f74183",
   "metadata": {},
   "source": [
    "- circles.jpg에 있는 원(객체)을 서로 다른 색으로 표시하기"
   ]
  },
  {
   "cell_type": "code",
   "execution_count": 112,
   "id": "53ccf69e",
   "metadata": {},
   "outputs": [],
   "source": [
    "src = cv2.imread(\"./data/circles.jpg\")\n",
    "gray = cv2.cvtColor(src, cv2.COLOR_BGR2GRAY)\n",
    "\n",
    "thresh, src_bin = cv2.threshold(gray, 0, 255, cv2.THRESH_BINARY_INV | cv2.THRESH_OTSU)\n",
    "\n",
    "cnt, labels = cv2.connectedComponents(src_bin)\n",
    "\n",
    "dst = np.zeros(src.shape,src.dtype) # 객체별로 색깔을 표시할 array (3차원)\n",
    "\n",
    "for i in range(1, cnt): # 객체 1, 2, 3     \n",
    "    b = np.random.randint(0, 256)\n",
    "    g = np.random.randint(0, 256)\n",
    "    r = np.random.randint(0, 256)\n",
    "    dst[labels==i] = [b, g, r]\n",
    "       \n",
    "cv2.imshow(\"gray\", gray)\n",
    "cv2.imshow(\"src_bin\", src_bin)\n",
    "cv2.imshow(\"dst\", dst)\n",
    "cv2.waitKey()\n",
    "cv2.destroyAllWindows()"
   ]
  }
 ],
 "metadata": {
  "kernelspec": {
   "display_name": "Python 3 (ipykernel)",
   "language": "python",
   "name": "python3"
  },
  "language_info": {
   "codemirror_mode": {
    "name": "ipython",
    "version": 3
   },
   "file_extension": ".py",
   "mimetype": "text/x-python",
   "name": "python",
   "nbconvert_exporter": "python",
   "pygments_lexer": "ipython3",
   "version": "3.9.5"
  }
 },
 "nbformat": 4,
 "nbformat_minor": 5
}
