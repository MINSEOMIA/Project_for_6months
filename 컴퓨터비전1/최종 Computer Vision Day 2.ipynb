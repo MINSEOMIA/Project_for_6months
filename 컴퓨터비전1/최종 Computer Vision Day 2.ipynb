{
 "cells": [
  {
   "cell_type": "markdown",
   "id": "e6da92e1",
   "metadata": {},
   "source": [
    "# 동영상 파일 다루기"
   ]
  },
  {
   "cell_type": "code",
   "execution_count": 1,
   "id": "a8f9a062",
   "metadata": {},
   "outputs": [],
   "source": [
    "import cv2\n",
    "import sys"
   ]
  },
  {
   "cell_type": "markdown",
   "id": "3fa8d164",
   "metadata": {},
   "source": [
    "### 파일로된 영상"
   ]
  },
  {
   "cell_type": "code",
   "execution_count": 5,
   "id": "ff2b9856",
   "metadata": {},
   "outputs": [
    {
     "name": "stdout",
     "output_type": "stream",
     "text": [
      "frame width, height 640 480\n",
      "fps 30\n"
     ]
    }
   ],
   "source": [
    "cap = cv2.VideoCapture('./data/stopwatch.avi')\n",
    "\n",
    "if not cap.isOpened():\n",
    "    print(\"Camera open failed!\")\n",
    "    sys.exit()\n",
    "    \n",
    "w, h = int(cap.get(cv2.CAP_PROP_FRAME_WIDTH)), int(cap.get(cv2.CAP_PROP_FRAME_HEIGHT))\n",
    "fps = int(cap.get(cv2.CAP_PROP_FPS))\n",
    "\n",
    "print(\"frame width, height\", w, h)\n",
    "print(\"fps\", fps)\n",
    "\n",
    "while True:\n",
    "    ret, frame = cap.read()\n",
    "    \n",
    "    if not ret:\n",
    "        print(\"frame read error\")\n",
    "        break\n",
    "    \n",
    "    inversed = ~frame\n",
    "    cv2.imshow(\"frame\", frame)\n",
    "    cv2.imshow(\"inversed\", inversed)\n",
    "    #cv2.imshow(\"inversed\", 1 - frame[:, :, :])\n",
    "    \n",
    "    if cv2.waitKey(fps) == 27: #27 (Esc Key), 10 : 10ms delay\n",
    "        break\n",
    "        \n",
    "if cap.isOpened():\n",
    "    cap.release()\n",
    "cv2.destroyAllWindows()    "
   ]
  },
  {
   "cell_type": "markdown",
   "id": "aa29c209",
   "metadata": {},
   "source": [
    "### 동영상 저장"
   ]
  },
  {
   "cell_type": "code",
   "execution_count": 9,
   "id": "9b6df712",
   "metadata": {},
   "outputs": [
    {
     "name": "stdout",
     "output_type": "stream",
     "text": [
      "frame width, height 640 480\n",
      "fps 30\n"
     ]
    }
   ],
   "source": [
    "cap = cv2.VideoCapture(0) # 카메라 입력\n",
    "\n",
    "if not cap.isOpened():\n",
    "    print(\"Camera open failed!\")\n",
    "    sys.exit()\n",
    "    \n",
    "# outputVideo = cv2.VideoWriter(파일명, 코덱, fps, (width, height))\n",
    "\n",
    "fourcc = cv2.VideoWriter_fourcc(\"D\", \"I\", \"V\", \"X\")\n",
    "#fourcc = cv2.VideoWriter_fourcc(*\"DIVX\")\n",
    "w, h = int(cap.get(cv2.CAP_PROP_FRAME_WIDTH)), int(cap.get(cv2.CAP_PROP_FRAME_HEIGHT))\n",
    "fps = int(cap.get(cv2.CAP_PROP_FPS))\n",
    "\n",
    "outputVideo = cv2.VideoWriter('./out/output.avi', fourcc, fps, (w, h))\n",
    "\n",
    "print(\"frame width, height\", w, h)\n",
    "print(\"fps\", fps)\n",
    "\n",
    "while True:\n",
    "    ret, frame = cap.read()\n",
    "    \n",
    "    if not ret:\n",
    "        print(\"frame read error\")\n",
    "        break\n",
    "   \n",
    "    outputVideo.write(frame)\n",
    "    cv2.imshow(\"frame\", frame)\n",
    "    \n",
    "    if cv2.waitKey(fps) == 27: #27 (Esc Key), 10 : 10ms delay\n",
    "        break\n",
    "        \n",
    "if cap.isOpened():\n",
    "    cap.release()\n",
    "outputVideo.release()    \n",
    "cv2.destroyAllWindows()    "
   ]
  },
  {
   "cell_type": "markdown",
   "id": "53e765fd",
   "metadata": {},
   "source": [
    "### 드로이드캠 영상"
   ]
  },
  {
   "cell_type": "markdown",
   "id": "bf8ced87",
   "metadata": {},
   "source": [
    "안드로이드 스마트폰 앱 중 DroidCam을 이용하면 스마트폰 카메라에서 촬영한 영상을 소켓 통신을 통해 보내고 받을 수 있다.\n",
    "- 사용 순서\n",
    "1. 플레이스토어에서 DroidCam 설치\n",
    "2. 스마트폰에서 DroidCam 앱을 실행하고 와이파이 IP, 포트 번호, 'mpegfeed'를 사용해 VideoCapture 객체 cap을 생성(http://IP:port/mjpegfeed')\n",
    "3. 와이파이 IP, 포트 번호는 스마트폰 및 와이파이 환경에 따라 다르고, 'mjpegfeed' 문자열은 앱에 따라 다를 수 있음.\n",
    "아이폰의 경우 (http://IP:port/video')"
   ]
  },
  {
   "cell_type": "code",
   "execution_count": 10,
   "id": "e4e0b647",
   "metadata": {},
   "outputs": [
    {
     "name": "stdout",
     "output_type": "stream",
     "text": [
      "frame width, height 640 480\n",
      "fps 25\n"
     ]
    }
   ],
   "source": [
    "cap = cv2.VideoCapture(\"http://192.168.22.70:4747/mjpegfeed\") # 드로이드캠에서 wifi에 접속해서 할당받은 ip\n",
    "#cap = cv2.VideoCapture(\"http://192.168.22.70:4747/video\") # 아이폰의 경우\n",
    "if not cap.isOpened():\n",
    "    print(\"Camera open failed!\")\n",
    "    sys.exit()\n",
    "    \n",
    "# outputVideo = cv2.VideoWriter(파일명, 코덱, fps, (width, height))\n",
    "\n",
    "fourcc = cv2.VideoWriter_fourcc(\"D\", \"I\", \"V\", \"X\")\n",
    "#fourcc = cv2.VideoWriter_fourcc(*\"DIVX\")\n",
    "w, h = int(cap.get(cv2.CAP_PROP_FRAME_WIDTH)), int(cap.get(cv2.CAP_PROP_FRAME_HEIGHT))\n",
    "fps = int(cap.get(cv2.CAP_PROP_FPS))\n",
    "\n",
    "outputVideo = cv2.VideoWriter('./out/droidcam.avi', fourcc, fps, (w, h))\n",
    "\n",
    "print(\"frame width, height\", w, h)\n",
    "print(\"fps\", fps)\n",
    "\n",
    "while True:\n",
    "    ret, frame = cap.read()\n",
    "    \n",
    "    if not ret:\n",
    "        print(\"frame read error\")\n",
    "        break\n",
    "   \n",
    "    outputVideo.write(frame)\n",
    "    cv2.imshow(\"frame\", frame)\n",
    "    \n",
    "    if cv2.waitKey(fps) == 27: #27 (Esc Key), 10 : 10ms delay\n",
    "        break\n",
    "        \n",
    "if cap.isOpened():\n",
    "    cap.release()\n",
    "outputVideo.release()    \n",
    "cv2.destroyAllWindows()    "
   ]
  },
  {
   "cell_type": "markdown",
   "id": "2a0f0f8a",
   "metadata": {},
   "source": [
    "### 유튜브 영상"
   ]
  },
  {
   "cell_type": "markdown",
   "id": "7ce584da",
   "metadata": {},
   "source": [
    "- pafy : 비디오에서 메타데이터 획득, 비디오/오디오를 다운로드 하는 패키지\n",
    "- youtube_dl : patfy의 backend에서 유튜브 동영상을 다운로드\n",
    "\n",
    "**설치방법**\n",
    "- pip install pafy\n",
    "- pip install youtube_dl"
   ]
  },
  {
   "cell_type": "code",
   "execution_count": 17,
   "id": "50c67b23",
   "metadata": {},
   "outputs": [
    {
     "name": "stdout",
     "output_type": "stream",
     "text": [
      "title BTS - \"Permission to Dance\" performed at the United Nations General Assembly | SDGs | Official Video\n",
      "rating None\n",
      "duration 00:03:43\n",
      "https://rr2---sn-nxwvob-pjos.googlevideo.com/videoplayback?expire=1651131687&ei=x_BpYtjkFobz2roPi4K5iA4&ip=210.126.217.236&id=o-AMGuWOB5TIcPITmwlsIUna51BkSirmhRc7Fz8YEx5Okp&itag=18&source=youtube&requiressl=yes&mh=e9&mm=31%2C29&mn=sn-nxwvob-pjos%2Csn-oguesn6d&ms=au%2Crdu&mv=m&mvi=2&pcm2cms=yes&pl=20&initcwndbps=1571250&spc=4ocVC1Kqxc3gc3rqdqk6bMbdNSKW&vprv=1&mime=video%2Fmp4&ns=B5sNxpe1bjUpixa-pJBvCMUG&gir=yes&clen=19255716&ratebypass=yes&dur=223.445&lmt=1632650578912066&mt=1651109583&fvip=2&fexp=24001373%2C24007246&c=WEB&txp=5538434&n=covCvbVEe1Dqz9knR&sparams=expire%2Cei%2Cip%2Cid%2Citag%2Csource%2Crequiressl%2Cspc%2Cvprv%2Cmime%2Cns%2Cgir%2Cclen%2Cratebypass%2Cdur%2Clmt&sig=AOq0QJ8wRQIgKp3rrWHSLrvqVZ3Xu1DnvowAoSGrrPQ6Mkok-Aev3_QCIQC4gUXUmFpA6yPKbvW5Mb4FFrA3_WCL74xZ2PZCn1KkIA%3D%3D&lsparams=mh%2Cmm%2Cmn%2Cms%2Cmv%2Cmvi%2Cpcm2cms%2Cpl%2Cinitcwndbps&lsig=AG3C_xAwRQIhAMC5F8123o9IrZLITT0LCbhzCxtiToxWqTStQ6FxDIT4AiBjUmO3Yx8Ah-hbX9YtqujMp1zYRaYmt71ADG4AXiRxhw%3D%3D\n"
     ]
    }
   ],
   "source": [
    "import pafy\n",
    "import youtube_dl\n",
    "\n",
    "url = \"https://www.youtube.com/watch?v=9SmQOZWNyWE&list=RD9SmQOZWNyWE&index=2\" # 스트리밍 주소\n",
    "\n",
    "video = pafy.new(url)\n",
    "print(\"title\", video.title)\n",
    "print(\"rating\", video.rating)\n",
    "print(\"duration\", video.duration)\n",
    "\n",
    "best = video.getbest()\n",
    "# best.url : download 가능한 url\n",
    "# best.resolution : video의 해상도\n",
    "print(best.url)"
   ]
  },
  {
   "cell_type": "code",
   "execution_count": 18,
   "id": "ff4ab12b",
   "metadata": {},
   "outputs": [
    {
     "name": "stdout",
     "output_type": "stream",
     "text": [
      "frame width, height 640 360\n",
      "fps 29\n"
     ]
    }
   ],
   "source": [
    "cap = cv2.VideoCapture(best.url) # 다운로드 가능한 주소\n",
    "\n",
    "if not cap.isOpened():\n",
    "    print(\"Camera open failed!\")\n",
    "    sys.exit()\n",
    "    \n",
    "# outputVideo = cv2.VideoWriter(파일명, 코덱, fps, (width, height))\n",
    "\n",
    "fourcc = cv2.VideoWriter_fourcc(\"D\", \"I\", \"V\", \"X\")\n",
    "#fourcc = cv2.VideoWriter_fourcc(*\"DIVX\")\n",
    "w, h = int(cap.get(cv2.CAP_PROP_FRAME_WIDTH)), int(cap.get(cv2.CAP_PROP_FRAME_HEIGHT))\n",
    "fps = int(cap.get(cv2.CAP_PROP_FPS))\n",
    "\n",
    "outputVideo = cv2.VideoWriter('./out/youtube.avi', fourcc, fps, (w, h))\n",
    "\n",
    "print(\"frame width, height\", w, h)\n",
    "print(\"fps\", fps)\n",
    "\n",
    "while True:\n",
    "    ret, frame = cap.read()\n",
    "    \n",
    "    if not ret:\n",
    "        print(\"frame read error\")\n",
    "        break\n",
    "   \n",
    "    outputVideo.write(frame)\n",
    "    cv2.imshow(\"frame\", frame)\n",
    "    \n",
    "    if cv2.waitKey(fps) == 27: #27 (Esc Key), 10 : 10ms delay\n",
    "        break\n",
    "        \n",
    "if cap.isOpened():\n",
    "    cap.release()\n",
    "outputVideo.release()    \n",
    "cv2.destroyAllWindows()    "
   ]
  },
  {
   "cell_type": "markdown",
   "id": "2f8bf384",
   "metadata": {},
   "source": [
    "# 다양한 그리기 함수"
   ]
  },
  {
   "cell_type": "code",
   "execution_count": 19,
   "id": "6d30fde5",
   "metadata": {},
   "outputs": [],
   "source": [
    "import numpy as np"
   ]
  },
  {
   "cell_type": "markdown",
   "id": "a90d5e39",
   "metadata": {},
   "source": [
    "### 직선 그리기"
   ]
  },
  {
   "cell_type": "code",
   "execution_count": 29,
   "id": "1e219b43",
   "metadata": {},
   "outputs": [],
   "source": [
    "img = np.full((400, 400, 3), 255, np.uint8)\n",
    "\n",
    "# (Note) 행렬에서 위치를 찾아가는 방법과 반대 \n",
    "# 색인과 슬라이싱을 할 때, 행(수직방향) 다음에 열(수평방향)\n",
    "\n",
    "# cv2.line(도화지, 시작하는점, 끝나는점, 색깔, 굵기...)\n",
    "\n",
    "# 수평선\n",
    "pt1 = ( 50, 100) # 시작점의 x좌표, y좌표 (수평방향, 수직방향에서의 위치)\n",
    "pt2 = (150, 100) # 끝나는점의 x좌표, y좌표\n",
    "cv2.line(img, pt1, pt2, (0, 0, 255)) # pt: (x, y), color : (b, g, r)\n",
    "\n",
    "\n",
    "# 대각선\n",
    "pt3 = (200, 100) # 시작점의 x좌표, y좌표 (수평방향, 수직방향에서의 위치)\n",
    "pt4 = (300, 250) # 끝나는점의 x좌표, y좌표\n",
    "\n",
    "pt5 = (200, 150) # 시작점의 x좌표, y좌표 (수평방향, 수직방향에서의 위치)\n",
    "pt6 = (300, 300) # 끝나는점의 x좌표, y좌표\n",
    "\n",
    "pt7 = (200, 200) # 시작점의 x좌표, y좌표 (수평방향, 수직방향에서의 위치)\n",
    "pt8 = (300, 350) # 끝나는점의 x좌표, y좌표\n",
    "\n",
    "cv2.line(img, pt3, pt4, (0, 0, 255), 3, cv2.LINE_4) # pt: (x, y), color : (b, g, r)\n",
    "cv2.line(img, pt5, pt6, (0, 0, 255), 3, cv2.LINE_8) # pt: (x, y), color : (b, g, r)\n",
    "cv2.line(img, pt7, pt8, (0, 0, 255), 3, cv2.LINE_AA) # pt: (x, y), color : (b, g, r)\n",
    "\n",
    "\n",
    "cv2.imshow(\"img\",img)\n",
    "cv2.waitKey()\n",
    "cv2.destroyAllWindows()"
   ]
  },
  {
   "cell_type": "markdown",
   "id": "12842633",
   "metadata": {},
   "source": [
    "### 도형 그리기"
   ]
  },
  {
   "cell_type": "code",
   "execution_count": 66,
   "id": "85329abd",
   "metadata": {},
   "outputs": [],
   "source": [
    "img = np.full((400, 400, 3), 255, np.uint8)\n",
    "\n",
    "# rectangle\n",
    "# cv2.rectangle(도화지, 시작하는점, 끝나는점, 색깔, 굵기...) # 시작점과 끝점은 대각 방향으로 바라보는 점\n",
    "cv2.rectangle(img, (50, 50), (150, 100), (0, 0, 255), 3)\n",
    "cv2.rectangle(img, (50, 150), (150, 200), (255, 0, 0), -1) # 굵기에 -1을 지정하면 내부가 채워짐\n",
    "\n",
    "# circle\n",
    "# cv2.circle(도화지, 중심점, 반지름, 색깔, 굵기...)\n",
    "cv2.circle(img, (300, 120), 30, (255, 255, 0), 2)\n",
    "cv2.circle(img, (300, 200), 30, (0, 255, 0), -1)\n",
    "\n",
    "# ellipse\n",
    "# cv2.ellipse(도화지, 중심점, 반지름쌍, 기울기, 시작각도, 끝각도, 색깔, 굵기...)\n",
    "cv2.ellipse(img, (100, 300), (60, 30), 0, 0, 360, (255, 0, 0), 3)\n",
    "\n",
    "# polylines\n",
    "# cv2.polylines(도화지, [다각형을 이룰 점들], 다각형을 닫을지, 색깔,굵기 )\n",
    "pts = np.array([[250, 250], [300, 250], [300, 300], [350, 300], [350, 350], [250, 350]])\n",
    "cv2.polylines(img, [pts], True, (255, 0, 255), 2)\n",
    "\n",
    "cv2.imshow(\"img\",img)\n",
    "cv2.waitKey()\n",
    "cv2.destroyAllWindows()"
   ]
  },
  {
   "cell_type": "markdown",
   "id": "9efcb6fe",
   "metadata": {},
   "source": [
    "### 문자열 출력하기"
   ]
  },
  {
   "cell_type": "code",
   "execution_count": 69,
   "id": "b3a0de18",
   "metadata": {},
   "outputs": [],
   "source": [
    "img = np.full((400, 400, 3), 255, np.uint8)\n",
    "\n",
    "# cv2.putText(도화지, 텍스트, 텍스트의 좌하단좌표, 폰트, 스케일, 색깔...)\n",
    "cv2.putText(img, \"Hello\", (20,50), cv2.FONT_HERSHEY_SIMPLEX, 1, (255, 255, 0), 3)\n",
    "\n",
    "cv2.imshow(\"img\",img)\n",
    "cv2.waitKey()\n",
    "cv2.destroyAllWindows()"
   ]
  },
  {
   "cell_type": "code",
   "execution_count": null,
   "id": "b3cbfdb2",
   "metadata": {},
   "outputs": [],
   "source": [
    "# Hello, OpenCV를 출력하되, 텍스트의 좌하단에 동그라미를 그리기"
   ]
  },
  {
   "cell_type": "code",
   "execution_count": 81,
   "id": "b86ead77",
   "metadata": {},
   "outputs": [],
   "source": [
    "img = np.full((200, 640, 3), 255, np.uint8)\n",
    "\n",
    "text = \"Hello, OpenCV\"\n",
    "fontFace = cv2.FONT_HERSHEY_TRIPLEX\n",
    "fontScale = 2.0\n",
    "thickness = 1\n",
    "\n",
    "sizeText, _ = cv2.getTextSize(text, fontFace, fontScale, thinkness)\n",
    "# sizeText : 문자열을 감싸고 있는 사각형의 사이즈\n",
    "\n",
    "# img.shape[1] : 도화지의 width, \n",
    "# img.shape[0] : 도화지의 height\n",
    "\n",
    "org = (img.shape[1] - sizeText[0])//2, (img.shape[0] + sizeText[1])//2\n",
    "\n",
    "cv2.putText(img, text, org, fontFace, fontScale, (255, 0, 0), thickness) # org : 좌하단\n",
    "\n",
    "\n",
    "cv2.rectangle(img, org, (org[0] + sizeText[0], org[1]-sizeText[1]), (0, 255, 0), 1)\n",
    "\n",
    "cv2.imshow(\"img\", img)\n",
    "cv2.waitKey()\n",
    "cv2.destroyAllWindows() "
   ]
  },
  {
   "cell_type": "markdown",
   "id": "e234d6bb",
   "metadata": {},
   "source": [
    "### Workshop : 카운트 다운 영상 만들기"
   ]
  },
  {
   "cell_type": "markdown",
   "id": "adbab567",
   "metadata": {},
   "source": [
    "- 강사님 코드"
   ]
  },
  {
   "cell_type": "code",
   "execution_count": 86,
   "id": "6a17a10b",
   "metadata": {},
   "outputs": [],
   "source": [
    "img = np.full((512, 512, 3), 255, np.uint8)\n",
    "cx, cy = img.shape[0]//2, img.shape[1]//2\n",
    "fontFace = cv2.FONT_HERSHEY_TRIPLEX\n",
    "fontScale = 5\n",
    "thickness = 2\n",
    "\n",
    "frame_size = img.shape[0], img.shape[1]\n",
    "fps = 1\n",
    "coutdown_writer = cv2.VideoWriter(\"./out/countdown0.mp4\", fourcc, fps, frame_size)\n",
    "\n",
    "for count in range(5, 0, -1):\n",
    "    text = str(count)\n",
    "    sizeText, _ = cv2.getTextSize(text, fontFace, fontScale, thickness)\n",
    "    org = (img.shape[1] - sizeText[0])//2, (img.shape[0] + sizeText[1])//2\n",
    "    cv2.putText(img, text, org, fontFace, fontScale, (255, 0, 0), 3)\n",
    "    \n",
    "    cv2.circle(img, (cx, cy), int(np.max(sizeText) * count * 0.5), (255, 255, 0), 4)\n",
    "    coutdown_writer.write(img)\n",
    "    \n",
    "    cv2.imshow(\"img\", img)\n",
    "    cv2.waitKey(1000)\n",
    "    img = np.full((512, 512, 3), 255, np.uint8)\n",
    "\n",
    "coutdown_writer.release()\n",
    "cv2.destroyAllWindows()"
   ]
  },
  {
   "cell_type": "markdown",
   "id": "b24836e9",
   "metadata": {},
   "source": [
    "- 지훈씨 코드"
   ]
  },
  {
   "cell_type": "code",
   "execution_count": 87,
   "id": "3e82e990",
   "metadata": {},
   "outputs": [],
   "source": [
    "texts = [7,6,5,4,3,2,1]\n",
    "fontFace = cv2.FONT_HERSHEY_TRIPLEX\n",
    "fontScale = 2.0\n",
    "thinkness = 1\n",
    "colors = {7:(0,0,255),6:(0,94,255),5:(0,228,255),4:(0,147,0),\n",
    "          3:(255,0,1),2:(111,0,0),1:(225,18,113)}\n",
    "\n",
    "sizeText, _ = cv2.getTextSize(str(texts[0]), fontFace, fontScale, thinkness)\n",
    "org = (img.shape[1] - sizeText[0])//2, (img.shape[0] + sizeText[1])//2\n",
    "\n",
    "# 비디오 설정\n",
    "fourcc = cv2.VideoWriter_fourcc(*'DIVX')\n",
    "w, h = (650, 650)\n",
    "fps = 0.8\n",
    "outputVideo = cv2.VideoWriter('./out/count.avi', fourcc, fps, (w, h))\n",
    "\n",
    "for text in texts:\n",
    "    img = np.full((w, h, 3), -1, np.uint8)\n",
    "    sizeText, _ = cv2.getTextSize(str(text), fontFace, fontScale, thinkness)\n",
    "    org = (img.shape[1])//2, (img.shape[0])//2\n",
    "    cv2.putText(img, str(text), (org[0]-(10*text),org[1]+(10*text)),\n",
    "                fontFace, text, colors[text], thinkness, cv2.LINE_AA)\n",
    "    cv2.circle(img, org, sizeText[0]*text, colors[text], 5, cv2.LINE_AA)\n",
    "    outputVideo.write(img)\n",
    "    cv2.imshow('img', img)\n",
    "    if cv2.waitKey(500) == 27 :\n",
    "        print('강제 종료')\n",
    "        cv2.destroyAllWindows() # esc 사용시 강제 종료\n",
    "        break\n",
    "\n",
    "if text == 1 :\n",
    "    outputVideo.release()\n",
    "    cv2.destroyAllWindows() # 자동종료"
   ]
  },
  {
   "cell_type": "markdown",
   "id": "c05da0bf",
   "metadata": {},
   "source": [
    "- 승범씨 코드"
   ]
  },
  {
   "cell_type": "code",
   "execution_count": 88,
   "id": "c3962547",
   "metadata": {},
   "outputs": [],
   "source": [
    "for i in range(10, -1, -1):\n",
    "    img = np.full((500, 500, 3), 255, np.uint8)\n",
    "    \n",
    "    text = str(i)\n",
    "    fontFace = cv2.FONT_HERSHEY_SIMPLEX\n",
    "    fontScale = 5\n",
    "    thickness = 3\n",
    "    sizeText, _ = cv2.getTextSize(text, fontFace, fontScale, thickness)\n",
    "    \n",
    "    org = (img.shape[1] - sizeText[0])//2, (img.shape[0] + sizeText[1])//2\n",
    "    \n",
    "    cv2.ellipse(img, (250, 250), (150, 150), 0, 0, 360-(36*(10-i)), (255, 0, 0), 100, lineType=cv2.LINE_AA)\n",
    "    cv2.putText(img, text, org, fontFace, fontScale, (0, 0, 0), thickness)\n",
    "    \n",
    "    cv2.imshow('img', img)\n",
    "    cv2.waitKey(1000)\n",
    "cv2.destroyAllWindows()"
   ]
  },
  {
   "cell_type": "markdown",
   "id": "a87754e8",
   "metadata": {},
   "source": [
    "# 이벤트 처리"
   ]
  },
  {
   "cell_type": "markdown",
   "id": "88d18510",
   "metadata": {},
   "source": [
    "### Keyboard Event"
   ]
  },
  {
   "cell_type": "code",
   "execution_count": 89,
   "id": "d2a408e3",
   "metadata": {},
   "outputs": [],
   "source": [
    "img = cv2.imread('./data/lenna.bmp')\n",
    "\n",
    "if img is None:\n",
    "    print('Image load failed!')\n",
    "    sys.exit()\n",
    "\n",
    "cv2.imshow('img', img)\n",
    "\n",
    "while True: # 무한반복에서는 break가 반드시 있어야 함\n",
    "    keycode = cv2.waitKey()\n",
    "    \n",
    "    if keycode == ord('i') or keycode == ord(\"I\"):\n",
    "        img = ~img\n",
    "        cv2.imshow(\"img\", img)\n",
    "        \n",
    "    elif keycode == ord('q') or keycode == ord(\"Q\"):\n",
    "        break\n",
    "\n",
    "cv2.destroyAllWindows()"
   ]
  },
  {
   "cell_type": "markdown",
   "id": "c2428156",
   "metadata": {},
   "source": [
    "### Workshop : 키보드 이벤트 처리"
   ]
  },
  {
   "cell_type": "code",
   "execution_count": 93,
   "id": "959fe136",
   "metadata": {},
   "outputs": [],
   "source": [
    "img = np.full((512, 512, 3), 255, np.uint8)\n",
    "\n",
    "x, y = img.shape[0]//2, img.shape[1]//2\n",
    "width , height = img.shape[1], img.shape[0]\n",
    "\n",
    "R = 50\n",
    "direction = 0\n",
    "\n",
    "while True:\n",
    "    keycode = cv2.waitKeyEx(50)\n",
    "    if keycode == 27:\n",
    "        break;\n",
    "        \n",
    "    elif keycode == 0x270000: # right key\n",
    "        direction = 0\n",
    "    elif keycode == 0x280000: # down key\n",
    "        direction = 1    \n",
    "    elif keycode == 0x250000: # left key\n",
    "        direction = 2\n",
    "    elif keycode == 0x260000: # up key\n",
    "        direction = 3\n",
    "\n",
    "    if direction == 0:\n",
    "        x += 10\n",
    "    elif direction == 1:\n",
    "        y += 10\n",
    "    elif direction == 2:\n",
    "        x -= 10\n",
    "    elif direction == 3:\n",
    "        y -=10\n",
    "        \n",
    "        \n",
    "    # 경계처리\n",
    "    if x < R:\n",
    "        x = R\n",
    "        direction = 0\n",
    "    if x > width - R:\n",
    "        x = width -R\n",
    "        direction = 2\n",
    "    \n",
    "    if y < R:\n",
    "        y = R\n",
    "        direction = 1\n",
    "    if y > height - R:\n",
    "        y = height - R\n",
    "        direction = 3\n",
    "    \n",
    "    \n",
    "    cv2.circle(img, (x, y), R, (0, 0, 255), -1)    \n",
    "    cv2.imshow('img', img)\n",
    "    \n",
    "    img = np.full((512, 512, 3), 255, np.uint8)\n",
    "    \n",
    "cv2.destroyAllWindows()"
   ]
  },
  {
   "cell_type": "markdown",
   "id": "69234eac",
   "metadata": {},
   "source": [
    "### Mouse Event"
   ]
  },
  {
   "cell_type": "code",
   "execution_count": 98,
   "id": "802bffd3",
   "metadata": {},
   "outputs": [],
   "source": [
    "def on_mouse(event, x, y, flags, param):\n",
    "    # mouse event 의 종류를 조사\n",
    "    # case 마다 해당 액션\n",
    "    global old_x, old_y\n",
    "    if event == cv2.EVENT_LBUTTONDOWN:\n",
    "        old_x, old_y = x, y\n",
    "    elif event == cv2.EVENT_LBUTTONUP:\n",
    "        pass\n",
    "    elif event == cv2.EVENT_MOUSEMOVE:\n",
    "        if flags & cv2.EVENT_FLAG_LBUTTON:\n",
    "            cv2.line(img, (old_x, old_y), (x, y), (0, 255, 255), 2)\n",
    "            cv2.imshow(\"img\", img)\n",
    "            old_x, old_y = x, y\n",
    "        \n",
    "img = cv2.imread(\"./data/lenna.bmp\")\n",
    "\n",
    "if img is None:\n",
    "    print(\"Image load failed!\")\n",
    "    sys.exit()\n",
    "\n",
    "cv2.imshow(\"img\", img)\n",
    "cv2.setMouseCallback(\"img\", on_mouse) # 마우스 이벤트가 발생했을때 처리될 함수를 등록(만)!\n",
    "    \n",
    "cv2.imshow(\"img\", img)    \n",
    "cv2.waitKey()\n",
    "cv2.destroyAllWindows()"
   ]
  },
  {
   "cell_type": "markdown",
   "id": "7572a481",
   "metadata": {},
   "source": [
    "### Trackbar"
   ]
  },
  {
   "cell_type": "code",
   "execution_count": 102,
   "id": "4567694b",
   "metadata": {},
   "outputs": [
    {
     "data": {
      "text/plain": [
       "[0, 16, 32, 48, 64, 80, 96, 112, 128, 144, 160, 176, 192, 208, 224, 240, 256]"
      ]
     },
     "execution_count": 102,
     "metadata": {},
     "output_type": "execute_result"
    }
   ],
   "source": [
    "[pos * 16 for pos in range(17)]"
   ]
  },
  {
   "cell_type": "code",
   "execution_count": 112,
   "id": "cebbed84",
   "metadata": {},
   "outputs": [],
   "source": [
    "def saturated(value):\n",
    "    if value > 255:\n",
    "        value = 255\n",
    "    elif value < 0:\n",
    "        value = 0\n",
    "    return value\n",
    "    \n",
    "\n",
    "def on_level_change(pos):\n",
    "    # 이벤트가 발생했을때마다 화면의 밝기가 바뀌도록 구현\n",
    "    img[:] = saturated(pos * 16)\n",
    "    cv2.imshow(\"img\", img)\n",
    "\n",
    "img = np.full((512, 512, 3), 0, np.uint8)\n",
    "\n",
    "cv2.imshow(\"img\", img)    \n",
    "cv2.createTrackbar(\"level\", \"img\", 0, 16, on_level_change)\n",
    "cv2.setTrackbarPos(\"level\", \"img\", 0)\n",
    "\n",
    "\n",
    "cv2.waitKey()\n",
    "cv2.destroyAllWindows()"
   ]
  },
  {
   "cell_type": "markdown",
   "id": "d8660a91",
   "metadata": {},
   "source": [
    "### Workshop : 트랙바 이벤트 처리"
   ]
  },
  {
   "cell_type": "code",
   "execution_count": 118,
   "id": "6dd19b46",
   "metadata": {},
   "outputs": [],
   "source": [
    "def on_level_change(pos):\n",
    "    # 이벤트가 발생했을때마다 R, G, B 각 밝기가 바뀌도록 구현\n",
    "    # 트랙바의 위치 값 = cv2.getTrackbarPos(트랙바 이름, 윈도우이름)\n",
    "    r = cv2.getTrackbarPos(\"R\", \"img\")\n",
    "    g = cv2.getTrackbarPos(\"G\", \"img\")\n",
    "    b = cv2.getTrackbarPos(\"B\", \"img\")\n",
    "    \n",
    "    img[:] = (b, g, r)\n",
    "    \n",
    "    cv2.imshow(\"img\", img)\n",
    "\n",
    "img = np.full((512, 512, 3), 0, np.uint8)\n",
    "\n",
    "cv2.imshow(\"img\", img)    \n",
    "cv2.createTrackbar(\"R\", \"img\", 0, 255, on_level_change)\n",
    "cv2.createTrackbar(\"G\", \"img\", 0, 255, on_level_change)\n",
    "cv2.createTrackbar(\"B\", \"img\", 0, 255, on_level_change)\n",
    "\n",
    "cv2.setTrackbarPos(\"B\", \"img\", 255)\n",
    "\n",
    "cv2.waitKey()\n",
    "cv2.destroyAllWindows()"
   ]
  },
  {
   "cell_type": "markdown",
   "id": "d98985f3",
   "metadata": {},
   "source": [
    "# 유용한 기능들"
   ]
  },
  {
   "cell_type": "markdown",
   "id": "d37b2e7b",
   "metadata": {},
   "source": [
    "## 마스크 연산"
   ]
  },
  {
   "cell_type": "code",
   "execution_count": 128,
   "id": "c99be742",
   "metadata": {},
   "outputs": [],
   "source": [
    "src = cv2.imread('./data/lenna.bmp', cv2.IMREAD_COLOR)\n",
    "mask = cv2.imread('./data/mask_smile.bmp', cv2.IMREAD_GRAYSCALE) \n",
    "\n",
    "src[mask > 0] = (0, 255, 255)\n",
    "\n",
    "cv2.imshow(\"src\", src) \n",
    "cv2.imshow(\"mask\", mask) \n",
    "cv2.waitKey()\n",
    "cv2.destroyAllWindows()"
   ]
  },
  {
   "cell_type": "code",
   "execution_count": 123,
   "id": "3bcebf28",
   "metadata": {},
   "outputs": [
    {
     "data": {
      "text/plain": [
       "65584"
      ]
     },
     "execution_count": 123,
     "metadata": {},
     "output_type": "execute_result"
    }
   ],
   "source": [
    "# (mask>0).sum()\n",
    "# (mask==0).sum()\n",
    "# mask.shape\n",
    "# 512*512 == 65584 + 196560"
   ]
  },
  {
   "cell_type": "code",
   "execution_count": 133,
   "id": "b6a1c0ed",
   "metadata": {},
   "outputs": [],
   "source": [
    "src = cv2.imread('./data/airplane.bmp', cv2.IMREAD_COLOR)\n",
    "mask = cv2.imread('./data/mask_plane.bmp', cv2.IMREAD_GRAYSCALE)\n",
    "dst = cv2.imread('./data/field.bmp', cv2.IMREAD_COLOR)\n",
    "\n",
    "# todo\n",
    "dst[mask>0] = src[mask>0]\n",
    "\n",
    "cv2.imshow(\"src\", src) \n",
    "cv2.imshow(\"mask\", mask) \n",
    "cv2.imshow(\"dst\", dst) \n",
    "cv2.waitKey()\n",
    "cv2.destroyAllWindows()"
   ]
  },
  {
   "cell_type": "markdown",
   "id": "808aea85",
   "metadata": {},
   "source": [
    "## 연산 시간 측정"
   ]
  },
  {
   "cell_type": "code",
   "execution_count": 137,
   "id": "41d67fd8",
   "metadata": {},
   "outputs": [
    {
     "name": "stdout",
     "output_type": "stream",
     "text": [
      "847.290 ms\n"
     ]
    }
   ],
   "source": [
    "src = cv2.imread(\"./data/lenna.bmp\", cv2.IMREAD_GRAYSCALE)\n",
    "dst = np.empty(src.shape, src.dtype)\n",
    "\n",
    "tm = cv2.TickMeter()\n",
    "tm.start()\n",
    "# option 1 : python을 이용해서 반전\n",
    "for y in range(src.shape[0]):\n",
    "    for x in range(src.shape[1]):\n",
    "        dst[y, x] = 255 - src[y, x]\n",
    "\n",
    "tm.stop()\n",
    "print(\"%4.3f ms\"% tm.getTimeMilli())\n",
    "\n",
    "cv2.imshow(\"src\", src) \n",
    "cv2.waitKey()\n",
    "cv2.destroyAllWindows()"
   ]
  },
  {
   "cell_type": "code",
   "execution_count": 138,
   "id": "11f148f4",
   "metadata": {},
   "outputs": [
    {
     "name": "stdout",
     "output_type": "stream",
     "text": [
      "0.403 ms\n"
     ]
    }
   ],
   "source": [
    "src = cv2.imread(\"./data/lenna.bmp\", cv2.IMREAD_GRAYSCALE)\n",
    "dst = np.empty(src.shape, src.dtype)\n",
    "\n",
    "tm = cv2.TickMeter()\n",
    "tm.start()\n",
    "# option 2 : numpy를 이용해서 반전\n",
    "\n",
    "dst = 255 - src # 벡터 연산, broadcasting\n",
    "\n",
    "tm.stop()\n",
    "print(\"%4.3f ms\"% tm.getTimeMilli())\n",
    "\n",
    "cv2.imshow(\"src\", src) \n",
    "cv2.waitKey()\n",
    "cv2.destroyAllWindows()"
   ]
  },
  {
   "cell_type": "code",
   "execution_count": 139,
   "id": "f01c3169",
   "metadata": {},
   "outputs": [
    {
     "data": {
      "text/plain": [
       "2101.7369727047144"
      ]
     },
     "execution_count": 139,
     "metadata": {},
     "output_type": "execute_result"
    }
   ],
   "source": [
    "847/0.403"
   ]
  },
  {
   "cell_type": "markdown",
   "id": "d41596c8",
   "metadata": {},
   "source": [
    "## 유용한 함수들"
   ]
  },
  {
   "cell_type": "markdown",
   "id": "9b171fdb",
   "metadata": {},
   "source": [
    "- np.sum(), np.mean()"
   ]
  },
  {
   "cell_type": "code",
   "execution_count": 141,
   "id": "1c88de16",
   "metadata": {},
   "outputs": [
    {
     "data": {
      "text/plain": [
       "(32518590, 124.04857635498047)"
      ]
     },
     "execution_count": 141,
     "metadata": {},
     "output_type": "execute_result"
    }
   ],
   "source": [
    "src = cv2.imread(\"./data/lenna.bmp\", cv2.IMREAD_GRAYSCALE)\n",
    "np.sum(src), np.mean(src)"
   ]
  },
  {
   "cell_type": "markdown",
   "id": "d65be20c",
   "metadata": {},
   "source": [
    "- cv2.minMaxLoc()"
   ]
  },
  {
   "cell_type": "code",
   "execution_count": 142,
   "id": "497ae370",
   "metadata": {},
   "outputs": [
    {
     "data": {
      "text/plain": [
       "(25.0, 245.0, (508, 71), (116, 273))"
      ]
     },
     "execution_count": 142,
     "metadata": {},
     "output_type": "execute_result"
    }
   ],
   "source": [
    "minVal, maxVal, minPos, maxPos = cv2.minMaxLoc(src)\n",
    "minVal, maxVal, minPos, maxPos  # minPos, maxPos : (x, y)"
   ]
  },
  {
   "cell_type": "code",
   "execution_count": 143,
   "id": "861f3871",
   "metadata": {},
   "outputs": [
    {
     "name": "stdout",
     "output_type": "stream",
     "text": [
      "25\n",
      "245\n"
     ]
    }
   ],
   "source": [
    "print(src[71, 508])  # 25  : 행렬은 y행, x열\n",
    "print(src[273, 116])  # 245 : 행렬은 y행, x열"
   ]
  },
  {
   "cell_type": "markdown",
   "id": "62c9e77f",
   "metadata": {},
   "source": [
    "- cv2.normalize()"
   ]
  },
  {
   "cell_type": "code",
   "execution_count": 144,
   "id": "279a912d",
   "metadata": {},
   "outputs": [
    {
     "data": {
      "text/plain": [
       "array([[  0,  64, 128, 191, 255]], dtype=uint8)"
      ]
     },
     "execution_count": 144,
     "metadata": {},
     "output_type": "execute_result"
    }
   ],
   "source": [
    "data = np.array([[-1, -0.5, 0, 0.5, 1]], dtype=np.float32)\n",
    "normed_data = cv2.normalize(data, None, 0, 255, cv2.NORM_MINMAX, cv2.CV_8U)\n",
    "normed_data"
   ]
  },
  {
   "cell_type": "code",
   "execution_count": null,
   "id": "99dd3e38",
   "metadata": {},
   "outputs": [],
   "source": []
  }
 ],
 "metadata": {
  "kernelspec": {
   "display_name": "Python 3 (ipykernel)",
   "language": "python",
   "name": "python3"
  },
  "language_info": {
   "codemirror_mode": {
    "name": "ipython",
    "version": 3
   },
   "file_extension": ".py",
   "mimetype": "text/x-python",
   "name": "python",
   "nbconvert_exporter": "python",
   "pygments_lexer": "ipython3",
   "version": "3.9.5"
  }
 },
 "nbformat": 4,
 "nbformat_minor": 5
}
