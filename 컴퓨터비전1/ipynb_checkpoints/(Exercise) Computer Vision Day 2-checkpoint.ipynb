{
 "cells": [
  {
   "cell_type": "markdown",
   "id": "e6da92e1",
   "metadata": {},
   "source": [
    "# 동영상 파일 다루기"
   ]
  },
  {
   "cell_type": "code",
   "execution_count": 1,
   "id": "a8f9a062",
   "metadata": {},
   "outputs": [],
   "source": [
    "import cv2\n",
    "import sys"
   ]
  },
  {
   "cell_type": "markdown",
   "id": "81cb71a7",
   "metadata": {},
   "source": [
    "### 파일로된 영상"
   ]
  },
  {
   "cell_type": "code",
   "execution_count": 2,
   "id": "31122620",
   "metadata": {},
   "outputs": [
    {
     "name": "stdout",
     "output_type": "stream",
     "text": [
      "Caamera open failed\n"
     ]
    },
    {
     "ename": "AttributeError",
     "evalue": "module 'cv2' has no attribute 'VdieoWriter_fourcc'",
     "output_type": "error",
     "traceback": [
      "\u001b[1;31m---------------------------------------------------------------------------\u001b[0m",
      "\u001b[1;31mAttributeError\u001b[0m                            Traceback (most recent call last)",
      "\u001b[1;32m~\\AppData\\Local\\Temp/ipykernel_1896/2330775159.py\u001b[0m in \u001b[0;36m<module>\u001b[1;34m\u001b[0m\n\u001b[0;32m      7\u001b[0m \u001b[1;31m#outputvideo= cv2VideoWriter(파일명,코덱,fps,(width,height))\u001b[0m\u001b[1;33m\u001b[0m\u001b[1;33m\u001b[0m\u001b[0m\n\u001b[0;32m      8\u001b[0m \u001b[1;33m\u001b[0m\u001b[0m\n\u001b[1;32m----> 9\u001b[1;33m \u001b[0mfourcc\u001b[0m \u001b[1;33m=\u001b[0m \u001b[0mcv2\u001b[0m\u001b[1;33m.\u001b[0m\u001b[0mVdieoWriter_fourcc\u001b[0m\u001b[1;33m(\u001b[0m\u001b[1;34m'D'\u001b[0m\u001b[1;33m,\u001b[0m\u001b[1;34m'I'\u001b[0m\u001b[1;33m,\u001b[0m\u001b[1;34m'V'\u001b[0m\u001b[1;33m,\u001b[0m\u001b[1;34m'X'\u001b[0m\u001b[1;33m)\u001b[0m\u001b[1;33m\u001b[0m\u001b[1;33m\u001b[0m\u001b[0m\n\u001b[0m\u001b[0;32m     10\u001b[0m \u001b[0mw\u001b[0m\u001b[1;33m,\u001b[0m \u001b[0mh\u001b[0m \u001b[1;33m=\u001b[0m \u001b[0mint\u001b[0m\u001b[1;33m(\u001b[0m\u001b[0mcap\u001b[0m\u001b[1;33m.\u001b[0m\u001b[0mget\u001b[0m\u001b[1;33m(\u001b[0m\u001b[0mcv2\u001b[0m\u001b[1;33m.\u001b[0m\u001b[0mCAP_PROP_FRAME_WIDTH\u001b[0m\u001b[1;33m)\u001b[0m\u001b[1;33m)\u001b[0m\u001b[1;33m,\u001b[0m \u001b[0mint\u001b[0m\u001b[1;33m(\u001b[0m\u001b[0mcap\u001b[0m\u001b[1;33m.\u001b[0m\u001b[0mget\u001b[0m\u001b[1;33m(\u001b[0m\u001b[0mcv2\u001b[0m\u001b[1;33m.\u001b[0m\u001b[0mCAP_PROP_FRAME_HEIGHT\u001b[0m\u001b[1;33m)\u001b[0m\u001b[1;33m)\u001b[0m\u001b[1;33m\u001b[0m\u001b[1;33m\u001b[0m\u001b[0m\n\u001b[0;32m     11\u001b[0m \u001b[0mfps\u001b[0m \u001b[1;33m=\u001b[0m \u001b[0mint\u001b[0m\u001b[1;33m(\u001b[0m\u001b[0mcap\u001b[0m\u001b[1;33m.\u001b[0m\u001b[0mget\u001b[0m\u001b[1;33m(\u001b[0m\u001b[0mcv2\u001b[0m\u001b[1;33m.\u001b[0m\u001b[0mCAP_PROP_FPS\u001b[0m\u001b[1;33m)\u001b[0m\u001b[1;33m)\u001b[0m\u001b[1;33m\u001b[0m\u001b[1;33m\u001b[0m\u001b[0m\n",
      "\u001b[1;31mAttributeError\u001b[0m: module 'cv2' has no attribute 'VdieoWriter_fourcc'"
     ]
    }
   ],
   "source": [
    "cap = cv2.VideoCapture('./data/stopwatch,avi')\n",
    "\n",
    "if not cap.isOpened():\n",
    "    print('Caamera open failed')\n",
    "    sys.exit\n",
    "\n",
    "#outputvideo= cv2VideoWriter(파일명,코덱,fps,(width,height))\n",
    "\n",
    "fourcc = cv2.VdieoWriter_fourcc('D','I','V','X')\n",
    "w, h = int(cap.get(cv2.CAP_PROP_FRAME_WIDTH)), int(cap.get(cv2.CAP_PROP_FRAME_HEIGHT))\n",
    "fps = int(cap.get(cv2.CAP_PROP_FPS))\n",
    "\n",
    "outputvideo= cv2VideoWriter('./out/output.avi',fourcc,fps,(w,h))\n",
    "\n",
    "print('frame width, height', w, h)\n",
    "print('fps', fps)\n",
    "\n",
    "while True:\n",
    "    ret, frame = cap.read()\n",
    "    \n",
    "    if not ret:\n",
    "        print('frame read error')\n",
    "        break\n",
    "        \n",
    "    outputVideo.write(frame)\n",
    "    cv2.imshow('frame', frame)\n",
    "    #cv2.imshow('inversed', 1 - frame[:,:,:]) 색반전?\n",
    "    \n",
    "    if cv2.waitkey(fps) == 27: #27 (esc key)\n",
    "        break\n",
    "        \n",
    "if cap.isOpened():\n",
    "    cap.release()\n",
    "cv2.destroyAllWindows()"
   ]
  },
  {
   "cell_type": "code",
   "execution_count": null,
   "id": "407109d2",
   "metadata": {},
   "outputs": [],
   "source": [
    "cap = cv2.VideoCapture(0) # 카메라 입력\n",
    "\n",
    "if not cap.isOpened():\n",
    "    print(\"Camera open failed!\")\n",
    "    sys.exit()\n",
    "    \n",
    "# outputVideo = cv2.VideoWriter(파일명, 코덱, fps, (width, height))\n",
    "\n",
    "fourcc = cv2.VideoWriter_fourcc(\"D\", \"I\", \"V\", \"X\")\n",
    "w, h = int(cap.get(cv2.CAP_PROP_FRAME_WIDTH)), int(cap.get(cv2.CAP_PROP_FRAME_HEIGHT))\n",
    "fps = int(cap.get(cv2.CAP_PROP_FPS))\n",
    "\n",
    "outputVideo = cv2.VideoWriter('./out/output.avi', fourcc, fps, (w, h))\n",
    "\n",
    "print(\"frame width, height\", w, h)\n",
    "print(\"fps\", fps)\n",
    "\n",
    "while True:\n",
    "    ret, frame = cap.read()\n",
    "    \n",
    "    if not ret:\n",
    "        print(\"frame read error\")\n",
    "        break\n",
    "   \n",
    "    outputVideo.write(frame)\n",
    "    cv2.imshow(\"frame\", frame)\n",
    "    \n",
    "    if cv2.waitKey(fps) == 27: #27 (Esc Key), 10 : 10ms delay\n",
    "        break\n",
    "        \n",
    "if cap.isOpened():\n",
    "    cap.release()\n",
    "cv2.destroyAllWindows()\n"
   ]
  },
  {
   "cell_type": "markdown",
   "id": "53e765fd",
   "metadata": {},
   "source": [
    "### 드로이드캠 영상"
   ]
  },
  {
   "cell_type": "markdown",
   "id": "bf8ced87",
   "metadata": {},
   "source": [
    "안드로이드 스마트폰 앱 중 DroidCam을 이용하면 스마트폰 카메라에서 촬영한 영상을 소켓 통신을 통해 보내고 받을 수 있다.\n",
    "- 사용 순서\n",
    "1. 플레이스토어에서 DroidCam 설치\n",
    "2. 스마트폰에서 DroidCam 앱을 실행하고 와이파이 IP, 포트 번호, 'mpegfeed'를 사용해 VideoCapture 객체 cap을 생성(http://IP:port/mjpegfeed')\n",
    "3. 와이파이 IP, 포트 번호는 스마트폰 및 와이파이 환경에 따라 다르고, 'mjpegfeed' 문자열은 앱에 따라 다를 수 있음.\n",
    "아이폰의 경우 (http://IP:port/video')"
   ]
  },
  {
   "cell_type": "code",
   "execution_count": null,
   "id": "4b8406d9",
   "metadata": {},
   "outputs": [],
   "source": [
    "cap = cv2.VideoCapture('http://192.168.22.70:4747/video') # 드로이드캠 wifi 접속\n",
    "\n",
    "if not cap.isOpened():\n",
    "    print(\"Camera open failed!\")\n",
    "    sys.exit()\n",
    "    \n",
    "# outputVideo = cv2.VideoWriter(파일명, 코덱, fps, (width, height))\n",
    "\n",
    "fourcc = cv2.VideoWriter_fourcc(\"D\", \"I\", \"V\", \"X\")\n",
    "w, h = int(cap.get(cv2.CAP_PROP_FRAME_WIDTH)), int(cap.get(cv2.CAP_PROP_FRAME_HEIGHT))\n",
    "fps = int(cap.get(cv2.CAP_PROP_FPS))\n",
    "\n",
    "outputVideo = cv2.VideoWriter('./out/droidcam.avi', fourcc, fps, (w, h))\n",
    "\n",
    "print(\"frame width, height\", w, h)\n",
    "print(\"fps\", fps)\n",
    "\n",
    "while True:\n",
    "    ret, frame = cap.read()\n",
    "    \n",
    "    if not ret:\n",
    "        print(\"frame read error\")\n",
    "        break\n",
    "   \n",
    "    outputVideo.write(frame)\n",
    "    cv2.imshow(\"frame\", frame)\n",
    "    \n",
    "    if cv2.waitKey(fps) == 27: #27 (Esc Key), 10 : 10ms delay\n",
    "        break\n",
    "        \n",
    "if cap.isOpened():\n",
    "    cap.release()\n",
    "cv2.destroyAllWindows()"
   ]
  },
  {
   "cell_type": "code",
   "execution_count": null,
   "id": "1a0b0f65",
   "metadata": {},
   "outputs": [],
   "source": []
  },
  {
   "cell_type": "markdown",
   "id": "2a0f0f8a",
   "metadata": {},
   "source": [
    "### 유튜브 영상"
   ]
  },
  {
   "cell_type": "markdown",
   "id": "7ce584da",
   "metadata": {},
   "source": [
    "- pafy : 비디오에서 메타데이터 획득, 비디오/오디오를 다운로드 하는 패키지\n",
    "- youtube_dl : patfy의 backend에서 유튜브 동영상을 다운로드\n",
    "\n",
    "**설치방법**\n",
    "- pip install pafy\n",
    "- pip install youtube_dl"
   ]
  },
  {
   "cell_type": "code",
   "execution_count": null,
   "id": "53c5a989",
   "metadata": {},
   "outputs": [],
   "source": [
    "import pafy\n",
    "import youtube_dl"
   ]
  },
  {
   "cell_type": "code",
   "execution_count": null,
   "id": "73dcf4a0",
   "metadata": {},
   "outputs": [],
   "source": [
    "url = \"https://www.youtube.com/watch?v=9SmQOZWNyWE&list=RD9SmQOZWNyWE&index=2\"\n",
    "\n",
    "video = pafy.new(url)\n",
    "print(\"title\", video.title)\n",
    "print(\"rating\", video.rating)\n",
    "print(\"duration\", video.duration)\n",
    "\n",
    "best = video.getbest()\n",
    "# best.url : download 가능한 url\n",
    "# best.resolution : video의 해상도\n"
   ]
  },
  {
   "cell_type": "code",
   "execution_count": null,
   "id": "43d9742d",
   "metadata": {},
   "outputs": [],
   "source": [
    "backend_youtube_dl.py #위 파일에 가서 약 54 라인 정도에 dislike_count 가 나오는 코드를 주석 처리하기,커널을 내렸다가 다시 주피터 열기\n"
   ]
  },
  {
   "cell_type": "code",
   "execution_count": null,
   "id": "935a072a",
   "metadata": {},
   "outputs": [],
   "source": [
    "print(best.url)"
   ]
  },
  {
   "cell_type": "code",
   "execution_count": null,
   "id": "e7dd3c83",
   "metadata": {},
   "outputs": [],
   "source": [
    "cap=cv2.VideoCapture(best.url) #유투브  영상"
   ]
  },
  {
   "cell_type": "code",
   "execution_count": null,
   "id": "59485551",
   "metadata": {},
   "outputs": [],
   "source": [
    "cap = cv2.VideoCapture('http://192.168.22.70:4747/mjpegfeed') # 유튜브 url\n",
    "\n",
    "if not cap.isOpened():\n",
    "    print(\"Camera open failed!\")\n",
    "    sys.exit()\n",
    "    \n",
    "# outputVideo = cv2.VideoWriter(파일명, 코덱, fps, (width, height))\n",
    "\n",
    "fourcc = cv2.VideoWriter_fourcc(\"D\", \"I\", \"V\", \"X\")\n",
    "w, h = int(cap.get(cv2.CAP_PROP_FRAME_WIDTH)), int(cap.get(cv2.CAP_PROP_FRAME_HEIGHT))\n",
    "fps = int(cap.get(cv2.CAP_PROP_FPS))\n",
    "\n",
    "outputVideo = cv2.VideoWriter('./out/youtube.avi', fourcc, fps, (w, h))\n",
    "\n",
    "print(\"frame width, height\", w, h)\n",
    "print(\"fps\", fps)\n",
    "\n",
    "while True:\n",
    "    ret, frame = cap.read()\n",
    "    \n",
    "    if not ret:\n",
    "        print(\"frame read error\")\n",
    "        break\n",
    "   \n",
    "    outputVideo.write(frame)\n",
    "    cv2.imshow(\"frame\", frame)\n",
    "    \n",
    "    if cv2.waitKey(fps) == 27: #27 (Esc Key), 10 : 10ms delay\n",
    "        break\n",
    "        \n",
    "if cap.isOpened():\n",
    "    cap.release()\n",
    "cv2.destroyAllWindows()"
   ]
  },
  {
   "cell_type": "code",
   "execution_count": null,
   "id": "231cf4ed",
   "metadata": {},
   "outputs": [],
   "source": [
    "print(best.url)"
   ]
  },
  {
   "cell_type": "code",
   "execution_count": null,
   "id": "5a9da1e7",
   "metadata": {},
   "outputs": [],
   "source": [
    "cap=cv2.VideoCapture(best.url)"
   ]
  },
  {
   "cell_type": "code",
   "execution_count": null,
   "id": "9ab8d8b7",
   "metadata": {},
   "outputs": [],
   "source": []
  },
  {
   "cell_type": "code",
   "execution_count": null,
   "id": "5fe92563",
   "metadata": {},
   "outputs": [],
   "source": [
    "import numpy as np"
   ]
  },
  {
   "cell_type": "markdown",
   "id": "2f8bf384",
   "metadata": {},
   "source": [
    "# 다양한 그리기 함수"
   ]
  },
  {
   "cell_type": "markdown",
   "id": "a90d5e39",
   "metadata": {},
   "source": [
    "### 직선 그리기"
   ]
  },
  {
   "cell_type": "code",
   "execution_count": null,
   "id": "64397273",
   "metadata": {},
   "outputs": [],
   "source": [
    "img = np.full((400,400,3),255, np.uint8)\n",
    "\n",
    "pt1 = (50,100)\n",
    "pt2=(150,100)\n",
    "\n",
    "cv2.line(img,pt1,ppt2, (00,0,255))\n",
    "\n",
    "pt3= (200,100)\n",
    "py3= (200,100)\n",
    "\n",
    "\n",
    "cv2.imshow('img',img)\n",
    "cv2.waitkey()\n",
    "cv2.destroyAllWindows()"
   ]
  },
  {
   "cell_type": "code",
   "execution_count": null,
   "id": "4a8cfa48",
   "metadata": {},
   "outputs": [],
   "source": []
  },
  {
   "cell_type": "markdown",
   "id": "12842633",
   "metadata": {},
   "source": [
    "### 도형 그리기"
   ]
  },
  {
   "cell_type": "code",
   "execution_count": null,
   "id": "5c750465",
   "metadata": {
    "scrolled": true
   },
   "outputs": [],
   "source": [
    "img = np.full((400,400,3),255, np.uint8)\n",
    "\n",
    "#rectangle\n",
    "#cv2.rectangle(도화지,시작점,끝점,색,굴기___)\n",
    "cv2.rectangle(img,(50,50),(150,100),(0,0,255),3)\n",
    "cv2.rectangle(img,(50,50),(150,100),(255,0,0),-1)\n",
    "\n",
    "#circle\n",
    "#cv.circle(도화지,중심점,반지름,색깔,굵기)\n",
    "cv2.circle(img,(300,120),30,(255,255,0),2)\n",
    "cv2.circle(img,(300,200),60,(0,255,0),-1)\n",
    "\n",
    "#ellipse\n",
    "cv2.ellipse(img,(50,200),(60,30),color=(255,0,0))\n",
    "\n",
    "#polylines\n",
    "\n",
    "\n",
    "cv2.imshow('img',img)\n",
    "cv2.waitKey()\n",
    "cv2.destryAllWindows()"
   ]
  },
  {
   "cell_type": "code",
   "execution_count": null,
   "id": "2d6fd1cc",
   "metadata": {},
   "outputs": [],
   "source": []
  },
  {
   "cell_type": "markdown",
   "id": "9efcb6fe",
   "metadata": {},
   "source": [
    "### 문자열 출력하기"
   ]
  },
  {
   "cell_type": "code",
   "execution_count": null,
   "id": "91d8d9f4",
   "metadata": {},
   "outputs": [],
   "source": [
    "cv2.pullText(img,'Hello',(20,50),cv2.FONT_HERSHEHY_SIMPLEX,1,(255,255,0),3)\n",
    "\n",
    "\n",
    "cv2.imshow('img',img)\n",
    "cv2.waitKey()\n",
    "cv2.destryAllWindows()"
   ]
  },
  {
   "cell_type": "code",
   "execution_count": null,
   "id": "3a3f587d",
   "metadata": {},
   "outputs": [],
   "source": [
    "img= np.full((200,640,5),255,np.uint8)\n",
    "\n",
    "text = 'Hello, OpenCV'\n",
    "fontFace= cv2.HERSHEY_TRIPLEX\n",
    "fontScale= 2.0\n",
    "thickness =1\n",
    "\n",
    "sizeText, _ = cv2.getTextSize(text,fontFace, fontScale, thinkness)\n",
    "\n",
    "org= (img.shape[1]-sizeText[0])//2, (img.shape[0] +sixeText[1])//2\n",
    "cr2.putText = (img.shape[1]- sizeTextSize(text,fontFace,fontScale,(255,0,0),thickness))\n",
    "\n",
    "cr2.putText = (img.shape[1]- sizeTextSize(text,fontFace,fontScale,(255,0,0),thickness))\n",
    "cv2.imshow('img',img)\n",
    "cv2.waitKey()\n",
    "cv2.destryAllWindows()"
   ]
  },
  {
   "cell_type": "code",
   "execution_count": null,
   "id": "2d873f2a",
   "metadata": {},
   "outputs": [],
   "source": [
    "img = np.full((200, 640, 3), 255, np.uint8)\n",
    "\n",
    "text = \"Hello, OpenCV\"\n",
    "fontFace = cv2.FONT_HERSHEY_TRIPLEX\n",
    "fontScale = 2.0\n",
    "thickness = 1\n",
    "\n",
    "sizeText, _ = cv2.getTextSize(text, fontFace, fontScale, thickness)\n",
    "#sizettext = 문자열을 감싸고있는 사격형의 사이즈\n",
    "\n",
    "\n",
    "# img.shape[1] : 도화지의 width, \n",
    "# img.shape[0] : 도화지의 height\n",
    "\n",
    "org = (img.shape[1] - sizeText[0])//2, (img.shape[0] + sizeText[1])//2\n",
    "\n",
    "cv2.putText(img, text, org, fontFace, fontScale, (255, 0, 0), thickness) # org : 좌하단\n",
    "\n",
    "\n",
    "cv2.rectangle(img, org, (org[0] + sizeText[0], org[1]-sizeText[1]), (0, 255, 0), 1)\n",
    "\n",
    "cv2.imshow(\"img\", img)\n",
    "cv2.waitKey()\n",
    "cv2.destroyAllWindows()\n"
   ]
  },
  {
   "cell_type": "markdown",
   "id": "e234d6bb",
   "metadata": {},
   "source": [
    "### Workshop : 카운트 다운 영상 만들기"
   ]
  },
  {
   "cell_type": "code",
   "execution_count": null,
   "id": "1b0d4430",
   "metadata": {},
   "outputs": [],
   "source": [
    "texts = [7,6,5,4,3,2,1]\n",
    "fontFace = cv2.FONT_HERSHEY_TRIPLEX\n",
    "fontScale = 2.0\n",
    "thinkness = 1\n",
    "colors = {7:(0,0,255),6:(0,94,255),5:(0,228,255),4:(0,147,0),\n",
    "          3:(255,0,1),2:(111,0,0),1:(225,18,113)}\n",
    "\n",
    "sizeText, _ = cv2.getTextSize(str(texts[0]), fontFace, fontScale, thinkness)\n",
    "org = (img.shape[1] - sizeText[0])//2, (img.shape[0] + sizeText[1])//2\n",
    "\n",
    "# 비디오 설정\n",
    "fourcc = cv2.VideoWriter_fourcc(*'DIVX')\n",
    "w, h = (650, 650)\n",
    "fps = 0.8\n",
    "outputVideo = cv2.VideoWriter('./out/count.avi', fourcc, fps, (w, h))\n",
    "\n",
    "for text in texts:\n",
    "    img = np.full((w, h, 3), -1, np.uint8)\n",
    "    sizeText, _ = cv2.getTextSize(str(text), fontFace, fontScale, thinkness)\n",
    "    org = (img.shape[1])//2, (img.shape[0])//2\n",
    "    cv2.putText(img, str(text), (org[0]-(10*text),org[1]+(10*text)),\n",
    "                fontFace, text, colors[text], thinkness, cv2.LINE_AA)\n",
    "    cv2.circle(img, org, sizeText[0]*text, colors[text], 5, cv2.LINE_AA)\n",
    "    outputVideo.write(img)\n",
    "    cv2.imshow('img', img)\n",
    "    if cv2.waitKey(500) == 27 :\n",
    "        print('강제 종료')\n",
    "        cv2.destroyAllWindows() # esc 사용시 강제 종료\n",
    "        break\n",
    "\n",
    "if text == 1 :\n",
    "    outputVideo.release()\n",
    "    cv2.destroyAllWindows() # 자동종료"
   ]
  },
  {
   "cell_type": "code",
   "execution_count": null,
   "id": "b941747e",
   "metadata": {},
   "outputs": [],
   "source": [
    "for i in range(10, -1, -1):\n",
    "    img = np.full((500, 500, 3), 255, np.uint8)\n",
    "    \n",
    "    text = str(i)\n",
    "    fontFace = cv2.FONT_HERSHEY_SIMPLEX\n",
    "    fontScale = 5\n",
    "    thickness = 3\n",
    "    sizeText, _ = cv2.getTextSize(text, fontFace, fontScale, thickness)\n",
    "    \n",
    "    org = (img.shape[1] - sizeText[0])//2, (img.shape[0] + sizeText[1])//2\n",
    "    \n",
    "    cv2.ellipse(img, (250, 250), (150, 150), 0, 0, 360-(36*(10-i)), (255, 0, 0), 100, lineType=cv2.LINE_AA)\n",
    "    cv2.putText(img, text, org, fontFace, fontScale, (0, 0, 0), thickness)\n",
    "    \n",
    "    cv2.imshow('img', img)\n",
    "    cv2.waitKey(1000)\n",
    "cv2.destroyAllWindows()"
   ]
  },
  {
   "cell_type": "markdown",
   "id": "a87754e8",
   "metadata": {},
   "source": [
    "# 이벤트 처리"
   ]
  },
  {
   "cell_type": "markdown",
   "id": "88d18510",
   "metadata": {},
   "source": [
    "### Keyboard Event"
   ]
  },
  {
   "cell_type": "code",
   "execution_count": null,
   "id": "4021cb05",
   "metadata": {},
   "outputs": [],
   "source": []
  },
  {
   "cell_type": "code",
   "execution_count": null,
   "id": "b24ca456",
   "metadata": {},
   "outputs": [],
   "source": []
  },
  {
   "cell_type": "markdown",
   "id": "c2428156",
   "metadata": {},
   "source": [
    "### Workshop : 키보드 이벤트 처리"
   ]
  },
  {
   "cell_type": "code",
   "execution_count": null,
   "id": "249c99ad",
   "metadata": {},
   "outputs": [],
   "source": []
  },
  {
   "cell_type": "code",
   "execution_count": null,
   "id": "4e9287cf",
   "metadata": {},
   "outputs": [],
   "source": []
  },
  {
   "cell_type": "markdown",
   "id": "69234eac",
   "metadata": {},
   "source": [
    "### Mouse Event"
   ]
  },
  {
   "cell_type": "code",
   "execution_count": null,
   "id": "13361b98",
   "metadata": {},
   "outputs": [],
   "source": [
    "def on_mouse(event,x,y,flags, param):\n",
    "     # mouse event 종류 조사\n",
    "     #  \n",
    "    global old_x, old_y\n",
    "    if event == cv2.EVENT_LBUTTONDOWN:\n",
    "        old_x, old_y=x,y\n",
    "    elif event == cv2.EVENT_LBUTTONDOUP:\n",
    "    elif event == cv2.EVENT_MOUSEMOVE:\n",
    "        if flags & cv2.EVENT_FLAG_LBUTTON:\n",
    "            cv2.line(img,(old_x, old_y),(x,y),(0,255,255),2)\n",
    "            cv2.imshow('img',img)\n",
    "            old_x, old_y = x,y\n",
    "        \n",
    "        \n",
    "        \n",
    "img = cv2.imread('./data/lenna.bmp')\n",
    "\n",
    "if img is None:\n",
    "    print('image load failed?')\n",
    "    sys.exit()\n",
    "   \n",
    "\n",
    "cv2.imshow('img',img)\n",
    "cv2.setMouseCallback('img', on_mouse)\n",
    "\n",
    "\n",
    "    \n",
    "cv2.imshow('img', img)\n",
    "cv2.waitKey(1000)\n",
    "cv2.destroyAllWindows()"
   ]
  },
  {
   "cell_type": "code",
   "execution_count": null,
   "id": "bebe2ef8",
   "metadata": {},
   "outputs": [],
   "source": [
    "def on_mouse(event, x, y, flags, param):\n",
    "    # mouse event 의 종류를 조사\n",
    "    # case 마다 해당 액션\n",
    "    global old_x, old_y\n",
    "    if event == cv2.EVENT_LBUTTONDOWN:\n",
    "        old_x, old_y = x, y\n",
    "    elif event == cv2.EVENT_LBUTTONUP:\n",
    "        pass\n",
    "    elif event == cv2.EVENT_MOUSEMOVE:\n",
    "        if flags & cv2.EVENT_FLAG_LBUTTON:\n",
    "            cv2.line(img, (old_x, old_y), (x, y), (0, 255, 255), 2)\n",
    "            cv2.imshow(\"img\", img)\n",
    "            old_x, old_y = x, y\n",
    "        \n",
    "\n",
    "img = cv2.imread(\"./data/lenna.bmp\")\n",
    "\n",
    "if img is None:\n",
    "    print(\"Image load failed!\")\n",
    "    sys.exit()\n",
    "    \n",
    "\n",
    "\n",
    "cv2.imshow(\"img\", img)\n",
    "cv2.setMouseCallback(\"img\", on_mouse) # 마우스 이벤트가 발생했을때 처리될 함수를 등록(만)!\n",
    "\n",
    "\n",
    "    \n",
    "cv2.imshow(\"img\", img)    \n",
    "cv2.waitKey()\n",
    "cv2.destroyAllWindows()\n"
   ]
  },
  {
   "cell_type": "markdown",
   "id": "5e0c7bfa",
   "metadata": {},
   "source": [
    "### Workshop : 마우스 이벤트 처리"
   ]
  },
  {
   "cell_type": "code",
   "execution_count": null,
   "id": "d84e7ca8",
   "metadata": {},
   "outputs": [],
   "source": []
  },
  {
   "cell_type": "code",
   "execution_count": null,
   "id": "dacbc357",
   "metadata": {},
   "outputs": [],
   "source": []
  },
  {
   "cell_type": "markdown",
   "id": "7572a481",
   "metadata": {},
   "source": [
    "### Trackbar"
   ]
  },
  {
   "cell_type": "code",
   "execution_count": null,
   "id": "20c5febf",
   "metadata": {},
   "outputs": [],
   "source": [
    "[pos * 16 for pos in range(17)]"
   ]
  },
  {
   "cell_type": "code",
   "execution_count": null,
   "id": "63529196",
   "metadata": {},
   "outputs": [],
   "source": [
    "def saturated(value):\n",
    "    if value > 255:\n",
    "        value = 255\n",
    "    elif value < 0:\n",
    "         value = 0\n",
    "    return value\n",
    "\n",
    "\n",
    "\n",
    "def on_level_change(pos):\n",
    "     #이벤트발생때마다 화면 밝기 변화\n",
    "\n",
    "    img[:] = pos * 16\n",
    "    cv2.imshow('img',img)\n",
    "        \n",
    "img = np.full((512,512,3),255,np.uint8)\n",
    "\n",
    "cv2.imshow('img', img)\n",
    "cv2.createTrackbar('level','img',0,16,on_level_change)\n",
    "cv2.setTrackbarPos('level','img',8)\n",
    "\n",
    "cv2.waitKey()\n",
    "cv2.destroyAllWindows()"
   ]
  },
  {
   "cell_type": "code",
   "execution_count": null,
   "id": "deb230b0",
   "metadata": {},
   "outputs": [],
   "source": []
  },
  {
   "cell_type": "markdown",
   "id": "d8660a91",
   "metadata": {},
   "source": [
    "### Workshop : 트랙바 이벤트 처리"
   ]
  },
  {
   "cell_type": "code",
   "execution_count": null,
   "id": "6fe08268",
   "metadata": {},
   "outputs": [],
   "source": [
    "값 = cv2.getTrackbarPos(트랙바 이름, 윈도우이름)"
   ]
  },
  {
   "cell_type": "code",
   "execution_count": null,
   "id": "80ab1c88",
   "metadata": {},
   "outputs": [],
   "source": [
    "#마스크 연산"
   ]
  },
  {
   "cell_type": "code",
   "execution_count": null,
   "id": "95786b06",
   "metadata": {},
   "outputs": [],
   "source": [
    "src = cv2.imread('./data/airplane.bmp', cv2.IMREAD_COLOR)\n",
    "mask = cv2.imread('./data/mask_plane.bmp', cv2.IMREAD_GRAYSCALE)\n",
    "dst = cv2.imread('./data/field.bmp', cv2.IMREAD_COLOR)\n",
    "\n",
    "cv2.imshow(\"src\", src) \n",
    "cv2.imshow(\"mask\", mask) \n",
    "cv2.imshow(\"dst\", dst) \n",
    "cv2.waitKey()\n",
    "cv2.destroyAllWindows()\n"
   ]
  },
  {
   "cell_type": "code",
   "execution_count": null,
   "id": "25f5be3a",
   "metadata": {},
   "outputs": [],
   "source": [
    "#연산 시간 측정"
   ]
  },
  {
   "cell_type": "code",
   "execution_count": 3,
   "id": "d3fef1e2",
   "metadata": {},
   "outputs": [
    {
     "name": "stdout",
     "output_type": "stream",
     "text": [
      "%4.3f ms 0.0\n"
     ]
    },
    {
     "ename": "AttributeError",
     "evalue": "module 'cv2' has no attribute 'destrpyAllWindows'",
     "output_type": "error",
     "traceback": [
      "\u001b[1;31m---------------------------------------------------------------------------\u001b[0m",
      "\u001b[1;31mAttributeError\u001b[0m                            Traceback (most recent call last)",
      "\u001b[1;32m~\\AppData\\Local\\Temp/ipykernel_1896/2505174980.py\u001b[0m in \u001b[0;36m<module>\u001b[1;34m\u001b[0m\n\u001b[0;32m     10\u001b[0m \u001b[0mcv2\u001b[0m\u001b[1;33m.\u001b[0m\u001b[0mimshow\u001b[0m\u001b[1;33m(\u001b[0m\u001b[1;34m'src'\u001b[0m\u001b[1;33m,\u001b[0m\u001b[0msrc\u001b[0m\u001b[1;33m)\u001b[0m\u001b[1;33m\u001b[0m\u001b[1;33m\u001b[0m\u001b[0m\n\u001b[0;32m     11\u001b[0m \u001b[0mcv2\u001b[0m\u001b[1;33m.\u001b[0m\u001b[0mwaitKey\u001b[0m\u001b[1;33m(\u001b[0m\u001b[1;33m)\u001b[0m\u001b[1;33m\u001b[0m\u001b[1;33m\u001b[0m\u001b[0m\n\u001b[1;32m---> 12\u001b[1;33m \u001b[0mcv2\u001b[0m\u001b[1;33m.\u001b[0m\u001b[0mdestrpyAllWindows\u001b[0m\u001b[1;33m(\u001b[0m\u001b[1;33m)\u001b[0m\u001b[1;33m\u001b[0m\u001b[1;33m\u001b[0m\u001b[0m\n\u001b[0m",
      "\u001b[1;31mAttributeError\u001b[0m: module 'cv2' has no attribute 'destrpyAllWindows'"
     ]
    }
   ],
   "source": [
    "src = cv2.imread('./data/lenna.bmp', cv2.IMREAD_COLOR)\n",
    "\n",
    "tm = cv2.TickMeter()\n",
    "tm.start()\n",
    "#option 1: python를 이용해서 반전\n",
    "\n",
    "tm.stop\n",
    "print('%4.3f ms', tm.getTimeMilli())\n",
    "\n",
    "cv2.imshow('src',src)\n",
    "cv2.waitKey()\n",
    "cv2.destrpyAllWindows()"
   ]
  },
  {
   "cell_type": "code",
   "execution_count": null,
   "id": "76e4dadf",
   "metadata": {},
   "outputs": [],
   "source": [
    "src = cv2.imread('./data/lenna.bmp', cv2.IMREAD_COLOR)\n",
    "\n",
    "tm = cv2.TickMeter()\n",
    "tm.start()\n",
    "#option2: numpy를 이용해서 반전\n",
    "\n",
    "dst= 255-src #벡터연산\n",
    "\n",
    "tm.stop\n",
    "print('%4.3f ms', tm.getTimeMilli())\n",
    "\n",
    "cv2.imshow('src',src)\n",
    "cv2.waitKey()\n",
    "cv2.destrpyAllWindows()"
   ]
  },
  {
   "cell_type": "code",
   "execution_count": null,
   "id": "c61cb453",
   "metadata": {},
   "outputs": [],
   "source": []
  },
  {
   "cell_type": "code",
   "execution_count": null,
   "id": "d79a8ef8",
   "metadata": {},
   "outputs": [],
   "source": []
  }
 ],
 "metadata": {
  "kernelspec": {
   "display_name": "Python 3 (ipykernel)",
   "language": "python",
   "name": "python3"
  },
  "language_info": {
   "codemirror_mode": {
    "name": "ipython",
    "version": 3
   },
   "file_extension": ".py",
   "mimetype": "text/x-python",
   "name": "python",
   "nbconvert_exporter": "python",
   "pygments_lexer": "ipython3",
   "version": "3.9.7"
  }
 },
 "nbformat": 4,
 "nbformat_minor": 5
}
