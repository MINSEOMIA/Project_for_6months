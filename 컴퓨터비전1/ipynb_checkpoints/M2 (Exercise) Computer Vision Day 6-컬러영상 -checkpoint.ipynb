{
 "cells": [
  {
   "cell_type": "markdown",
   "id": "dee5718a",
   "metadata": {},
   "source": [
    "# 컬러 영상 다루기"
   ]
  },
  {
   "cell_type": "code",
   "execution_count": 16,
   "id": "c6b70cd0",
   "metadata": {},
   "outputs": [],
   "source": [
    "import cv2\n",
    "import numpy as np\n",
    "import matplotlib.pyplot as plt"
   ]
  },
  {
   "cell_type": "markdown",
   "id": "4074adba",
   "metadata": {},
   "source": [
    "## 컬러 영상의 픽셀값 참조"
   ]
  },
  {
   "cell_type": "code",
   "execution_count": 3,
   "id": "e3a3311d",
   "metadata": {},
   "outputs": [
    {
     "data": {
      "text/plain": [
       "((356, 493, 3), dtype('uint8'))"
      ]
     },
     "execution_count": 3,
     "metadata": {},
     "output_type": "execute_result"
    }
   ],
   "source": [
    "src = cv2.imread(\"./data/butterfly.jpg\", cv2.IMREAD_COLOR)\n",
    "src.shape, src.dtype"
   ]
  },
  {
   "cell_type": "code",
   "execution_count": 5,
   "id": "d4db2b6a",
   "metadata": {},
   "outputs": [
    {
     "data": {
      "text/plain": [
       "(47, 88, 50)"
      ]
     },
     "execution_count": 5,
     "metadata": {},
     "output_type": "execute_result"
    }
   ],
   "source": [
    "# 좌상단 (0,0) 좌표의 각 b, g, r의 픽셀값(광도)을 출력해보기\n",
    "\n",
    "b = src[0][0][0]\n",
    "g = src[0][0][1]\n",
    "r = src[0][0][2]\n",
    "b, g, r"
   ]
  },
  {
   "cell_type": "markdown",
   "id": "ae1e2cf8",
   "metadata": {},
   "source": [
    "- (참고)"
   ]
  },
  {
   "cell_type": "code",
   "execution_count": 9,
   "id": "a4307cbb",
   "metadata": {},
   "outputs": [],
   "source": [
    "# matplotlib의 default backend\n",
    "%matplotlib inline\n",
    "plt.imshow(src)"
   ]
  },
  {
   "cell_type": "code",
   "execution_count": 11,
   "id": "28225b05",
   "metadata": {},
   "outputs": [
    {
     "data": {
      "text/plain": [
       "<matplotlib.image.AxesImage at 0x239be1c5820>"
      ]
     },
     "execution_count": 11,
     "metadata": {},
     "output_type": "execute_result"
    }
   ],
   "source": [
    "# matplotlib의 backend로 qt 사용시 픽셀의 RGB값 표시됨\n",
    "%matplotlib qt\n",
    "\n",
    "import matplotlib.image as mpimg\n",
    "import matplotlib.pyplot as plt\n",
    "\n",
    "plt.imshow(src)"
   ]
  },
  {
   "cell_type": "markdown",
   "id": "2f246cb8",
   "metadata": {},
   "source": [
    "## 컬러 영상의 픽셀값 반전"
   ]
  },
  {
   "cell_type": "code",
   "execution_count": 19,
   "id": "954f550e",
   "metadata": {},
   "outputs": [],
   "source": [
    "src = cv2.imread(\"./data/butterfly.jpg\", cv2.IMREAD_COLOR)\n",
    "\n",
    "# option 1. 전체 이미지 반전\n",
    "dst = 255 - src[:,:,:3] \n",
    "\n",
    "# option 2. 채널별 이미지 반전\n",
    "# dst[:, :, 0] = 255 - src[:,:,0]\n",
    "# dst[:, :, 1] = 255 - src[:,:,1]\n",
    "# dst[:, :, 2] = 255 - src[:,:,2]\n",
    "\n",
    "\n",
    "cv2.imshow(\"src\", src)\n",
    "cv2.imshow(\"dst\", dst)\n",
    "cv2.waitKey()\n",
    "cv2.destroyAllWindows()"
   ]
  },
  {
   "cell_type": "markdown",
   "id": "5cb01b8b",
   "metadata": {},
   "source": [
    "## 색공간 변환"
   ]
  },
  {
   "cell_type": "code",
   "execution_count": 20,
   "id": "eec8b130",
   "metadata": {},
   "outputs": [],
   "source": [
    "src = cv2.imread(\"./data/butterfly.jpg\", cv2.IMREAD_COLOR)\n",
    "\n",
    "# BGR2GRAY로 변환후 gray 이미지 표시\n",
    "gray = cv2.cvtColor(src, cv2.COLOR_BGR2GRAY)\n",
    "\n",
    "cv2.imshow(\"src\", src)\n",
    "cv2.imshow(\"gray\", gray)\n",
    "cv2.waitKey()\n",
    "cv2.destroyAllWindows()"
   ]
  },
  {
   "cell_type": "markdown",
   "id": "08ebc40b",
   "metadata": {},
   "source": [
    "## 색상 채널 나누기"
   ]
  },
  {
   "cell_type": "code",
   "execution_count": 32,
   "id": "4975e034",
   "metadata": {},
   "outputs": [],
   "source": [
    "src = cv2.imread(\"./data/butterfly.jpg\", cv2.IMREAD_COLOR)\n",
    "\n",
    "# BGR2HSV로 변환후, h, s, v 채널을 각각 윈도우에 표시\n",
    "hsv = cv2.cvtColor(src, cv2.COLOR_BGR2HSV)\n",
    "h, s, v = cv2.split(hsv)\n",
    "\n",
    "cv2.imshow(\"src\", src)\n",
    "cv2.imshow(\"h\", h)\n",
    "cv2.imshow(\"s\", s)\n",
    "cv2.imshow(\"v\", v)\n",
    "cv2.waitKey()\n",
    "cv2.destroyAllWindows()"
   ]
  },
  {
   "cell_type": "code",
   "execution_count": 33,
   "id": "11c15fb5",
   "metadata": {},
   "outputs": [],
   "source": [
    "src = cv2.imread(\"./data/butterfly.jpg\", cv2.IMREAD_COLOR)\n",
    "# BGR2YCrCb로 변환후, y, cr, cb 채널을 각각 윈도우에 표시\n",
    "# gray scale로도 변환하여 픽셀 밝기값이 ycrcb의 y값과 같은지 확인\n",
    "gray = cv2.cvtColor(src, cv2.COLOR_BGR2GRAY)\n",
    "ycrcb = cv2.cvtColor(src, cv2.COLOR_BGR2YCrCb)\n",
    "y, cr, cb = cv2.split(ycrcb)\n",
    "\n",
    "cv2.imshow(\"src\", src)\n",
    "cv2.imshow(\"y\", y)\n",
    "cv2.imshow(\"cr\", cr)\n",
    "cv2.imshow(\"cb\", cb)\n",
    "cv2.waitKey()\n",
    "cv2.destroyAllWindows()"
   ]
  },
  {
   "cell_type": "code",
   "execution_count": 34,
   "id": "65ee81fa",
   "metadata": {},
   "outputs": [
    {
     "name": "stdout",
     "output_type": "stream",
     "text": [
      "175502 6\n",
      "(356, 493)\n",
      "175508\n"
     ]
    }
   ],
   "source": [
    "print((y == gray).sum(), (y != gray).sum()) # 거의 같음\n",
    "\n",
    "print(gray.shape)\n",
    "\n",
    "print(356*493)"
   ]
  },
  {
   "cell_type": "code",
   "execution_count": 35,
   "id": "694fd27f",
   "metadata": {},
   "outputs": [],
   "source": [
    "src = cv2.imread(\"./data/candies.png\", cv2.IMREAD_COLOR)\n",
    "\n",
    "# b, g, r로 channel split 후 채널마다 윈도우에 표시\n",
    "b, g, r = cv2.split(src)\n",
    "\n",
    "cv2.imshow('src', src)\n",
    "cv2.imshow('b', b)\n",
    "cv2.imshow('g', g)\n",
    "cv2.imshow('r', r)\n",
    "cv2.waitKey()\n",
    "cv2.destroyAllWindows()"
   ]
  },
  {
   "cell_type": "markdown",
   "id": "ded9b512",
   "metadata": {},
   "source": [
    "# 컬러 영상 처리 기법"
   ]
  },
  {
   "cell_type": "markdown",
   "id": "6da5909c",
   "metadata": {},
   "source": [
    "## 컬러 히스토그램 평활화"
   ]
  },
  {
   "cell_type": "code",
   "execution_count": 36,
   "id": "5cb904b4",
   "metadata": {},
   "outputs": [],
   "source": [
    "# 명암비를 조정한다는것은 \"밝기\"값하고만 상관이 있음\n",
    "src = cv2.imread(\"./data/pepper.bmp\")\n",
    "src_yCrCb = cv2.cvtColor(src, cv2.COLOR_BGR2YCrCb) # YCrCb : Y(밝기 정보), Cr(붉은색 색상정보), Cb(푸른색 색상정보)\n",
    "\n",
    "y, Cr, Cb = cv2.split(src_yCrCb)\n",
    "\n",
    "y_equalized = cv2.equalizeHist(y) # 밝기 정보만을 담고 있는 y 채널에 대해서만 평활화를 수행\n",
    "\n",
    "dst_yCrCb = cv2.merge([y_equalized, Cr, Cb])\n",
    "\n",
    "dst = cv2.cvtColor(dst_yCrCb, cv2.COLOR_YCrCb2BGR)\n",
    "\n",
    "cv2.imshow(\"src\", src)\n",
    "cv2.imshow(\"dst\", dst)\n",
    "cv2.waitKey()\n",
    "cv2.destroyAllWindows()\n"
   ]
  },
  {
   "cell_type": "markdown",
   "id": "78cccc53",
   "metadata": {},
   "source": [
    "## 색상 범위 지정에 의한 영역 분할"
   ]
  },
  {
   "cell_type": "code",
   "execution_count": null,
   "id": "5ca63ab1",
   "metadata": {},
   "outputs": [],
   "source": [
    "src = cv2.imread(\"./data/hand.jpg\")\n",
    "hsv = cv2.cvtColor(src, cv2.COLOR_BGR2HSV)\n",
    "\n",
    "# picker tool 기준 살색의 hsv값\n",
    "# h : 21 (0~360)\n",
    "# s : 38 (0~100)\n",
    "# v : 66 (0~100)\n",
    "\n",
    "# opencv 기준 hsv 값으로 대략 바꾸면\n",
    "# h : 10~11 (0~179)\n",
    "# s : 90~110 (0~255)\n",
    "# v : 165 (0~255)\n",
    "\n",
    "lowerb = (0, 20, 0)\n",
    "upperb = (20, 160, 255)\n",
    "dst = cv2.inRange(hsv, lowerb, upperb) # dst : lowerb~upperb(흰색), 그외(검은색)\n",
    "\n",
    "\n",
    "cv2.imshow(\"src\", src)\n",
    "cv2.imshow(\"dst\", dst)\n",
    "cv2.waitKey()\n",
    "cv2.destroyAllWindows()"
   ]
  },
  {
   "cell_type": "code",
   "execution_count": 46,
   "id": "3dd34588",
   "metadata": {},
   "outputs": [],
   "source": [
    "def on_level_change(pos) :\n",
    "    lower_h = cv2.getTrackbarPos('Lower H', 'dst')\n",
    "    upper_h = cv2.getTrackbarPos('Upper H', 'dst')\n",
    "    lower_s = cv2.getTrackbarPos('Lower S', 'dst')\n",
    "    upper_s = cv2.getTrackbarPos('Upper S', 'dst')\n",
    "    lowerb = (lower_h, lower_s, 0)\n",
    "    upperb = (upper_h, upper_s, 255)\n",
    "    dst = cv2.inRange(hsv, lowerb, upperb)\n",
    "    cv2.imshow('dst', dst)\n",
    "\n",
    "src = cv2.imread(\"./data/candies.png\")\n",
    "hsv = cv2.cvtColor(src, cv2.COLOR_BGR2HSV)\n",
    "h, s, v = cv2.split(hsv)\n",
    "cv2.imshow('src', src)\n",
    "cv2.namedWindow('dst')\n",
    "\n",
    "cv2.createTrackbar('Lower H', 'dst', 0, 255, on_level_change)\n",
    "cv2.createTrackbar('Upper H', 'dst', 0, 255, on_level_change)\n",
    "cv2.createTrackbar('Lower S', 'dst', 0, 255, on_level_change)\n",
    "cv2.createTrackbar('Upper S', 'dst', 0, 255, on_level_change)\n",
    "cv2.setTrackbarPos('Lower H', 'dst', 0)\n",
    "cv2.setTrackbarPos('Upper H', 'dst', 180)\n",
    "cv2.setTrackbarPos('Lower S', 'dst', 0)\n",
    "cv2.setTrackbarPos('Upper S', 'dst', 200)\n",
    "\n",
    "cv2.waitKey()\n",
    "cv2.destroyAllWindows()"
   ]
  },
  {
   "cell_type": "markdown",
   "id": "2fbe9254",
   "metadata": {},
   "source": [
    "## 히스토그램 역투영"
   ]
  },
  {
   "cell_type": "code",
   "execution_count": 48,
   "id": "f6d94a52",
   "metadata": {},
   "outputs": [
    {
     "data": {
      "text/plain": [
       "array([[9.],\n",
       "       [3.],\n",
       "       [2.],\n",
       "       [2.]], dtype=float32)"
      ]
     },
     "execution_count": 48,
     "metadata": {},
     "output_type": "execute_result"
    }
   ],
   "source": [
    "src = np.array([[0, 0, 0, 0],\n",
    "                [1, 1, 3, 5],\n",
    "                [6, 1, 1, 3],\n",
    "                [4, 3, 1, 7]], dtype=np.uint8)\n",
    "\n",
    "hist = cv2.calcHist(images = [src], channels=[0], mask=None, histSize=[4], ranges=[0, 8])\n",
    "hist"
   ]
  },
  {
   "cell_type": "code",
   "execution_count": 49,
   "id": "d6e64f76",
   "metadata": {},
   "outputs": [
    {
     "data": {
      "text/plain": [
       "array([[9, 9, 9, 9],\n",
       "       [9, 9, 3, 2],\n",
       "       [2, 9, 9, 3],\n",
       "       [2, 3, 9, 2]], dtype=uint8)"
      ]
     },
     "execution_count": 49,
     "metadata": {},
     "output_type": "execute_result"
    }
   ],
   "source": [
    "backP = cv2.calcBackProject([src], [0], hist, [0, 8], scale=1)\n",
    "backP"
   ]
  },
  {
   "cell_type": "code",
   "execution_count": 52,
   "id": "cba2dcd8",
   "metadata": {},
   "outputs": [],
   "source": [
    "ref = cv2.imread(\"./data/ref.png\", cv2.IMREAD_COLOR)\n",
    "mask = cv2.imread(\"./data/mask.bmp\", cv2.IMREAD_GRAYSCALE)\n",
    "\n",
    "ref_yrcrcb = cv2.cvtColor(ref, cv2.COLOR_BGR2YCrCb)\n",
    "\n",
    "channels = [1, 2] # cr, cb channel\n",
    "histSize = [128, 128] # cr의 histSize, cb의 histSize\n",
    "ranges = [0, 256] + [0, 256]\n",
    "\n",
    "hist = cv2.calcHist(images=[ref_yrcrcb], channels=channels, mask=mask, histSize=histSize, ranges=ranges)\n",
    "\n",
    "src = cv2.imread(\"./data/kids.png\", cv2.IMREAD_COLOR)\n",
    "src_ycrcb = cv2.cvtColor(src, cv2.COLOR_BGR2YCrCb)\n",
    "\n",
    "\n",
    "back_proj = cv2.calcBackProject([src_ycrcb], channels, hist, ranges, 1)\n",
    "\n",
    "cv2.imshow(\"ref\", ref)\n",
    "cv2.imshow(\"mask\", mask)\n",
    "cv2.imshow(\"back_proj\", back_proj)\n",
    "\n",
    "cv2.waitKey()\n",
    "cv2.destroyAllWindows()"
   ]
  },
  {
   "cell_type": "code",
   "execution_count": 55,
   "id": "e3ce8c32",
   "metadata": {},
   "outputs": [
    {
     "data": {
      "text/plain": [
       "array([[0., 0., 0., ..., 0., 0., 0.],\n",
       "       [0., 0., 0., ..., 0., 0., 0.],\n",
       "       [0., 0., 0., ..., 0., 0., 0.],\n",
       "       ...,\n",
       "       [0., 0., 0., ..., 0., 0., 0.],\n",
       "       [0., 0., 0., ..., 0., 0., 0.],\n",
       "       [0., 0., 0., ..., 0., 0., 0.]], dtype=float32)"
      ]
     },
     "execution_count": 55,
     "metadata": {},
     "output_type": "execute_result"
    }
   ],
   "source": [
    "hist"
   ]
  },
  {
   "cell_type": "code",
   "execution_count": 56,
   "id": "52f8111f",
   "metadata": {},
   "outputs": [
    {
     "data": {
      "text/plain": [
       "array([[0, 0, 0, ..., 1, 1, 1],\n",
       "       [0, 0, 0, ..., 1, 1, 1],\n",
       "       [0, 0, 0, ..., 1, 1, 1],\n",
       "       ...,\n",
       "       [0, 0, 0, ..., 1, 0, 0],\n",
       "       [0, 0, 0, ..., 1, 1, 0],\n",
       "       [0, 0, 0, ..., 1, 1, 0]], dtype=uint8)"
      ]
     },
     "execution_count": 56,
     "metadata": {},
     "output_type": "execute_result"
    }
   ],
   "source": [
    "back_proj"
   ]
  },
  {
   "cell_type": "markdown",
   "id": "dd6a0006",
   "metadata": {},
   "source": [
    "# 영상의 이진화"
   ]
  },
  {
   "cell_type": "code",
   "execution_count": null,
   "id": "c3df8b55",
   "metadata": {},
   "outputs": [],
   "source": []
  },
  {
   "cell_type": "code",
   "execution_count": null,
   "id": "111b8365",
   "metadata": {},
   "outputs": [],
   "source": []
  },
  {
   "cell_type": "code",
   "execution_count": null,
   "id": "53c67b7e",
   "metadata": {},
   "outputs": [],
   "source": []
  }
 ],
 "metadata": {
  "kernelspec": {
   "display_name": "Python 3 (ipykernel)",
   "language": "python",
   "name": "python3"
  },
  "language_info": {
   "codemirror_mode": {
    "name": "ipython",
    "version": 3
   },
   "file_extension": ".py",
   "mimetype": "text/x-python",
   "name": "python",
   "nbconvert_exporter": "python",
   "pygments_lexer": "ipython3",
   "version": "3.9.7"
  }
 },
 "nbformat": 4,
 "nbformat_minor": 5
}
