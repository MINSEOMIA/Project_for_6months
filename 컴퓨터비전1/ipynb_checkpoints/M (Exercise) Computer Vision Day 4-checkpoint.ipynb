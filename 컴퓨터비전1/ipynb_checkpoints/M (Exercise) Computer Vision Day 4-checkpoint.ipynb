{
 "cells": [
  {
   "cell_type": "code",
   "execution_count": null,
   "id": "2c520e29",
   "metadata": {},
   "outputs": [],
   "source": [
    "#영상의 필터링"
   ]
  },
  {
   "cell_type": "code",
   "execution_count": null,
   "id": "8371ea94",
   "metadata": {},
   "outputs": [],
   "source": [
    "import cv2\n",
    "import numpy as np\n",
    "import sys"
   ]
  },
  {
   "cell_type": "code",
   "execution_count": null,
   "id": "868fac7c",
   "metadata": {},
   "outputs": [],
   "source": [
    "#블러링"
   ]
  },
  {
   "cell_type": "code",
   "execution_count": null,
   "id": "abb22777",
   "metadata": {},
   "outputs": [],
   "source": [
    "#평균값  필터"
   ]
  },
  {
   "cell_type": "code",
   "execution_count": null,
   "id": "684bcd83",
   "metadata": {},
   "outputs": [],
   "source": [
    "src = cv2.imread('./data/rose.bmp', cv2.IMREAD_GRAYSCALE)\n",
    "\n",
    "\n",
    "blur3= np.array([[1,1,1],\n",
    "                [1,1,1],\n",
    "                [1,1,1]], np.float32) * 1/9\n",
    "\n",
    "\n",
    "blur5= np.array([[1,1,1,1,1],\n",
    "                [1,1,1,1,1],\n",
    "                [1,1,1,1,1],\n",
    "                [1,1,1,1,1],\n",
    "                [1,1,1,1,1]], np.float32) * 1/25\n",
    "\n",
    "cv2.filter20(src, -1, ___)\n",
    "\n",
    "cv2.imshow('src', src)\n",
    "cv2.imshow('dst', dst)\n",
    "cv2.waitKey()\n",
    "cv2.destroyAllWindows()\n"
   ]
  },
  {
   "cell_type": "code",
   "execution_count": null,
   "id": "f6869328",
   "metadata": {},
   "outputs": [],
   "source": [
    "src = cv2.imread('./data/rose.bmp', cv2.IMREAD_GRAYSCALE)\n",
    "\n",
    "cv2.blur(src,(ksize,ksize)) #커널사이즈 \n",
    "\n",
    "cv2.filter20(src, -1, ___)\n",
    "\n",
    "\n",
    "cv2.imshow('src', src)\n",
    "cv2.imshow('dst', dst)\n",
    "cv2.waitKey()\n",
    "cv2.destroyAllWindows()"
   ]
  },
  {
   "cell_type": "code",
   "execution_count": null,
   "id": "5866ac1f",
   "metadata": {},
   "outputs": [],
   "source": []
  },
  {
   "cell_type": "code",
   "execution_count": null,
   "id": "2754fbdb",
   "metadata": {},
   "outputs": [],
   "source": [
    "## 가우시안 필터"
   ]
  },
  {
   "cell_type": "code",
   "execution_count": null,
   "id": "7fcd2339",
   "metadata": {},
   "outputs": [],
   "source": [
    "src = cv2.imread('./data/rose.bmp', cv2.IMREAD_GRAYSCALE)\n",
    "cv2.imshow('src', src)\n",
    "#sigma 고정하고 alpha값 늘리면서 날카로운 영상 만들 수 있음\n",
    "\n",
    "for sigma in range(1,6):\n",
    "    blurred = cv2.GaussianBlur(src,(0,0),1,sigma)#sigma 증가시키면 blur 증가\n",
    "\n",
    "    alpha=1.0  #alpha 값을 증가시키면 샤프닝 증가\n",
    "    dst = cv2.addWeighted(src,(1+alpha),blurred,-alpha,0)\n",
    "    desc= 'Guassian :signa &d' % (sigma)\n",
    "    cv2.putText(dst,desc,(10,30),cv2.FONT_HERSHEY_SIMPLEX,1.0,255,1,cv2.LINE_AA)\n",
    "\n",
    "    cv2.imshow('dst', dst)\n",
    "    cv2.waitKey()\n",
    "cv2.destroyAllWindows()\n",
    "\n",
    "#dst = (1+alpha) *src = alpha*blurred"
   ]
  },
  {
   "cell_type": "code",
   "execution_count": null,
   "id": "cc8ead4a",
   "metadata": {},
   "outputs": [],
   "source": [
    "cv2.addWeighted(src,(1+alpha),blurred,-alpha,0)"
   ]
  },
  {
   "cell_type": "code",
   "execution_count": null,
   "id": "1e11f2d8",
   "metadata": {},
   "outputs": [],
   "source": [
    "#잡음제거 필터링"
   ]
  },
  {
   "cell_type": "code",
   "execution_count": null,
   "id": "c5e75e8f",
   "metadata": {},
   "outputs": [],
   "source": [
    "src = cv2.imread('./data/lenna.bmp', cv2.IMREAD_GRAYSCALE)\n",
    "\n",
    "for stdev in [10,20,30]:\n",
    "    noise = np.zero(src.shape, src.dtype,np.int32)\n",
    "    #cv2.randn(도화지,평균,표준편차) 정규분포 데이터\n",
    "    cv2.randn(noise,0,stdev)\n",
    "\n",
    "    dst=cv2.add(src,noise, dtype=cv2.CV_8UC1)\n",
    "    cv2.imshow('src', src)\n",
    "    cv2.imshow('dst', dst)\n",
    "    cv2.waitKey()\n",
    "\n",
    "cv2.destroyAllWindows()"
   ]
  },
  {
   "cell_type": "code",
   "execution_count": null,
   "id": "1422208f",
   "metadata": {},
   "outputs": [],
   "source": [
    "noise.mean()"
   ]
  },
  {
   "cell_type": "code",
   "execution_count": null,
   "id": "30121d86",
   "metadata": {},
   "outputs": [],
   "source": [
    "## 양방향 필터\n",
    "src = cv2.imread('./data/lenna.bmp', cv2.IMREAD_GRAYSCALE)\n",
    "noise = np.zero(src.shape, src.dtype,np.int32)\n",
    "cv2.randn(noise,0,stdev)\n",
    "dst=cv2.add(src,noise, dtype=cv2.CV_8UC1) # noise(stddev=5)가 들어간 영상\n",
    "\n",
    "dst_gaussian = cv2.GaussianBlur(dst,(0,0),1)\n",
    "#dst_bilateral = cv2.bilateralFilter(dst,-1,sigmaColor,sigmaSpace)\n",
    "dst_bilateral = cv2.bilateralFilter(dst,-1,10,5)\n",
    "#sigmacolor: 에지를 얼마나 보전할지 여부\n",
    "#SIGMASPACE: 얼마나 블러링을 강하게 할지 여부\n",
    "\n",
    "cv2.imshow('src', src)\n",
    "cv2.imshow('dst', dst)\n",
    "\n",
    "cv2.imshow('dst_gaussian', dst_gaussian)\n",
    "cv2.imshow('dst_bilateral', dst_bilatera)\n",
    "\n",
    "cv2.waitKey()\n",
    "\n",
    "cv2.destroyAllWindows()"
   ]
  },
  {
   "cell_type": "code",
   "execution_count": null,
   "id": "e06830e6",
   "metadata": {},
   "outputs": [],
   "source": [
    "#미디언 필터"
   ]
  },
  {
   "cell_type": "code",
   "execution_count": null,
   "id": "614f8c83",
   "metadata": {},
   "outputs": [],
   "source": [
    "src = cv2.imread('./data/lenna.bmp', cv2.IMREAD_GRAYSCALE)\n",
    "#salt & pepper noise 생성(전체 이미지의 1/10)\n",
    "for i in range(0,int(src.size/10)): #src.size: 영상 전체의 픽셀 개수\n",
    "    #어떤 위치에 노이즈를 넣을지\n",
    "    x= random.randint(0,src.shape[1]-1)\n",
    "    y= random.randint(0,src.shape[0]-1)\n",
    "    src[x,y]=(i%2) * 255 #i가 짝수일 떄는 0(pepper)값이 들어가고,홀수일때는 255(salt)\n",
    "    \n",
    "gaussian_blur= cv2.GaussianBlur(src,(0,0),1)\n",
    "median_blur = cv2.medianBlur(src,3)\n",
    "\n",
    "cv2.imshow('src', src)\n",
    "cv2.imshow('dst', dst)\n",
    "\n",
    "cv2.imshow('dst_gaussian', dst_gaussian)\n",
    "cv2.imshow('dst_bilateral', dst_bilatera)\n",
    "\n",
    "cv2.waitKey()\n",
    "\n",
    "cv2.destroyAllWindows()"
   ]
  },
  {
   "cell_type": "code",
   "execution_count": null,
   "id": "f52b98c0",
   "metadata": {},
   "outputs": [],
   "source": [
    "#영상의 기하학적 변환"
   ]
  },
  {
   "cell_type": "code",
   "execution_count": null,
   "id": "5bd33281",
   "metadata": {},
   "outputs": [],
   "source": [
    "#어파인 변환\n",
    "src = cv2.imread('./data/tekapo.bmp')\n",
    "src_pts= np.array([[0,0],[cols-1,0],[cols-1,rows-1],np.float32]) #2차원 ndarray\n",
    "dst_pts=np.array([[50,50],[cols-100,100],[cols-50,rows-50],np.float32])\n",
    "\n",
    "M= cv2.getAffineTransform(src_pts, dst_pts) #2*3 어파인 변환행렬 반환\n",
    "\n",
    "dst = cv2.warpAffine(src,M,(1000,10)) #dsize=(0,0):원본 영상과 동일한 사이즈로 출력\n",
    "\n",
    "cv2.imshow('src', src)\n",
    "cv2.imshow('dst', dst)\n",
    "cv2.waitKey()\n",
    "\n",
    "cv2.destroyAllWindows()"
   ]
  },
  {
   "cell_type": "code",
   "execution_count": null,
   "id": "0c4b17a8",
   "metadata": {},
   "outputs": [],
   "source": [
    "#이동변환"
   ]
  },
  {
   "cell_type": "code",
   "execution_count": null,
   "id": "785c682a",
   "metadata": {},
   "outputs": [],
   "source": [
    "src = cv2.imread('./data/tekapo.bmp')\n",
    "M= np.array([[1,0,a],\n",
    "             [0,1,b]],np,float32)\n",
    "\n",
    "dst = cv2.warpAffine(src,M,(1000,10)) #dsize=(0,0):원본 영상과 동일한 사이즈로 출력\n",
    "\n",
    "cv2.imshow('src', src)\n",
    "cv2.imshow('dst', dst)\n",
    "cv2.waitKey()\n",
    "\n",
    "cv2.destroyAllWindows()"
   ]
  },
  {
   "cell_type": "code",
   "execution_count": null,
   "id": "e51386a7",
   "metadata": {},
   "outputs": [],
   "source": [
    "#전단 변환"
   ]
  },
  {
   "cell_type": "code",
   "execution_count": null,
   "id": "76c37b03",
   "metadata": {},
   "outputs": [],
   "source": [
    "src = cv2.imread('./data/tekapo.bmp')\n",
    "\n",
    "rows = src.shape[0]\n",
    "cols = src.shape[1]\n",
    "\n",
    "Mx = 0.3\n",
    "M= np.array([[1,Mx,0],\n",
    "             [0,1,0]],np.float32)\n",
    "\n",
    "dst = cv2.warpAffine(src,M,(int(cols+Mx*rows),rows)) #dsize=(0,0):원본 영상과 동일한 사이즈로 출력\n",
    "\n",
    "cv2.imshow('src', src)\n",
    "cv2.imshow('dst', dst)\n",
    "cv2.waitKey()\n",
    "\n",
    "cv2.destroyAllWindows()"
   ]
  },
  {
   "cell_type": "code",
   "execution_count": null,
   "id": "e38bfc8b",
   "metadata": {},
   "outputs": [],
   "source": [
    "#크기변환"
   ]
  },
  {
   "cell_type": "code",
   "execution_count": null,
   "id": "bf0a6398",
   "metadata": {},
   "outputs": [],
   "source": [
    "src = cv2.imread('./data/tekapo.bmp')\n",
    "\n",
    "rows = src.shape[0] #행\n",
    "cols = src.shape[1] #열\n",
    "\n",
    "Sx = 2\n",
    "Sy = 2\n",
    "\n",
    "M= np.array([[Sx,0,0],\n",
    "             [0,Sx,0]],np.float32)\n",
    "\n",
    "dst = cv2.warpAffine(src,M,(int(cols*Sx),rows*Sy)) #dsize=(0,0):원본 영상과 동일한 사이즈로 출력\n",
    "\n",
    "cv2.imshow('src', src)\n",
    "cv2.imshow('dst', dst)\n",
    "cv2.waitKey()\n",
    "\n",
    "cv2.destroyAllWindows()"
   ]
  },
  {
   "cell_type": "code",
   "execution_count": null,
   "id": "dae955b0",
   "metadata": {},
   "outputs": [],
   "source": [
    "#회전변환"
   ]
  },
  {
   "cell_type": "code",
   "execution_count": null,
   "id": "765cf548",
   "metadata": {},
   "outputs": [],
   "source": [
    "src = cv2.imread('./data/tekapo.bmp')\n",
    "\n",
    "rows = src.shape[0] #행\n",
    "cols = src.shape[1] #열\n",
    "\n",
    "center = cols/s, rows/2 #x,y 좌표\n",
    "\n",
    "M = cv2,getRoatationMatrix20(center,20,1)\n",
    "dst=cv2.warAffine(src,M,(0,0))\n",
    "\n",
    "cv2.imshow('src', src)\n",
    "cv2.imshow('dst', dst)\n",
    "cv2.waitKey()\n",
    "\n",
    "cv2.destroyAllWindows()"
   ]
  },
  {
   "cell_type": "code",
   "execution_count": null,
   "id": "49a89eeb",
   "metadata": {},
   "outputs": [],
   "source": [
    "dst =cv2.rotate(src, cv2.ROTATE_90_CLOCKWISE)\n"
   ]
  },
  {
   "cell_type": "code",
   "execution_count": null,
   "id": "f2661413",
   "metadata": {},
   "outputs": [],
   "source": [
    "#대칭 변환"
   ]
  },
  {
   "cell_type": "code",
   "execution_count": null,
   "id": "7f3ea9f3",
   "metadata": {},
   "outputs": [],
   "source": [
    "src = cv2.imread('./data/eastsea.bmp')\n",
    "cv2.imshow('src', src)\n",
    "\n",
    "for flip_cod in [1,0,-1]: #양수(좌우대칭), 0(상하대칭), 음수(좌우, 상하대칭)\n",
    "    dst=cv2.flip(src,flip_code)\n",
    "    cv2.imshow('dst',dst)\n",
    "    cv2.waitKey()\n",
    "\n",
    "\n",
    "cv2.waitKey()\n",
    "cv2.destroyAllWindows()"
   ]
  },
  {
   "cell_type": "code",
   "execution_count": null,
   "id": "c18c899d",
   "metadata": {},
   "outputs": [],
   "source": [
    "#투시변환"
   ]
  },
  {
   "cell_type": "code",
   "execution_count": null,
   "id": "1899cb28",
   "metadata": {},
   "outputs": [],
   "source": [
    "src = cv2.imread('./data/card.bmp')\n",
    "\n",
    "src_pts= #mouse click 통해서 4점 얻기\n",
    "w, h = 200,300\n",
    "dst_pts = np.arry([0,0],[w-1,0],[w-1,h-1],[0,h-1], dtype=np.float32)\n",
    "\n",
    "M=cv2.getPerspectiveTransform(src_pts,dst_pts)\n",
    "cv2.warpPerspective(src,M,(0,0))\n",
    "\n",
    "cv2.imshow('src',src)\n",
    "cv2.waitKey()\n",
    "\n",
    "cv2.destroyAllWindows()"
   ]
  }
 ],
 "metadata": {
  "kernelspec": {
   "display_name": "Python 3 (ipykernel)",
   "language": "python",
   "name": "python3"
  },
  "language_info": {
   "codemirror_mode": {
    "name": "ipython",
    "version": 3
   },
   "file_extension": ".py",
   "mimetype": "text/x-python",
   "name": "python",
   "nbconvert_exporter": "python",
   "pygments_lexer": "ipython3",
   "version": "3.9.7"
  }
 },
 "nbformat": 4,
 "nbformat_minor": 5
}
