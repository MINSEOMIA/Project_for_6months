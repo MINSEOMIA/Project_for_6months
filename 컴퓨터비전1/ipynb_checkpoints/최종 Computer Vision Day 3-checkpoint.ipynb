{
 "cells": [
  {
   "cell_type": "markdown",
   "id": "9d86aa8f",
   "metadata": {},
   "source": [
    "# 영상의 밝기 조절"
   ]
  },
  {
   "cell_type": "code",
   "execution_count": 1,
   "id": "c44ca436",
   "metadata": {},
   "outputs": [],
   "source": [
    "import cv2\n",
    "import numpy as np\n",
    "import sys"
   ]
  },
  {
   "cell_type": "code",
   "execution_count": 54,
   "id": "b792e467",
   "metadata": {},
   "outputs": [],
   "source": [
    "# option 1. saturated 함수 사용\n",
    "def saturated(value):  # value는 이미지 행렬 형태의 입력\n",
    "    dst = value.copy()\n",
    "    dst[value < 0] = 0 # 불리언 색인\n",
    "    dst[value > 255] = 255    \n",
    "    return dst # 이미지 행렬 형태로 반환    \n",
    "\n",
    "src = cv2.imread(\"./data/lenna.bmp\", cv2.IMREAD_GRAYSCALE)\n",
    "src = np.array(src, dtype=np.int32)\n",
    "\n",
    "dst = np.empty(src.shape, src.dtype)\n",
    "dst = saturated(src + 100)\n",
    "\n",
    "src = np.array(src, dtype=np.uint8)\n",
    "dst = np.array(dst, dtype=np.uint8)\n",
    "\n",
    "cv2.imshow(\"src\", src)\n",
    "cv2.imshow(\"dst\", dst)\n",
    "cv2.waitKey()\n",
    "cv2.destroyAllWindows()"
   ]
  },
  {
   "cell_type": "code",
   "execution_count": 55,
   "id": "c12f81f7",
   "metadata": {},
   "outputs": [],
   "source": [
    "# option 2. np.clip 사용\n",
    "\n",
    "src = cv2.imread(\"./data/lenna.bmp\", cv2.IMREAD_GRAYSCALE)\n",
    "src = np.array(src, dtype=np.int32)\n",
    "dst = np.empty(src.shape, dtype=src.dtype)\n",
    "\n",
    "dst = np.clip(src+100, 0, 255) # 상한선과 하한선을 0과 255로 지정\n",
    "\n",
    "src = np.array(src, dtype=np.uint8)\n",
    "dst = np.array(dst, dtype=np.uint8)\n",
    "\n",
    "cv2.imshow(\"src\", src)\n",
    "cv2.imshow(\"dst\", dst)\n",
    "cv2.waitKey()\n",
    "cv2.destroyAllWindows()"
   ]
  },
  {
   "cell_type": "code",
   "execution_count": 56,
   "id": "d48461af",
   "metadata": {},
   "outputs": [],
   "source": [
    "# option 3. cv2.add() : 포화연산까지도 포함해서 밝기값 조정\n",
    "\n",
    "src = cv2.imread(\"./data/lenna.bmp\", cv2.IMREAD_GRAYSCALE)\n",
    "dst = cv2.add(src, 100)\n",
    "\n",
    "cv2.imshow(\"src\", src)\n",
    "cv2.imshow(\"dst\", dst)\n",
    "cv2.waitKey()\n",
    "cv2.destroyAllWindows()"
   ]
  },
  {
   "cell_type": "code",
   "execution_count": 61,
   "id": "0d779075",
   "metadata": {},
   "outputs": [],
   "source": [
    "# Trackbar로 밝기 조정하기\n",
    "def update(pos):\n",
    "    dst = cv2.add(src, pos)\n",
    "    cv2.imshow(\"dst\", dst)\n",
    "\n",
    "src = cv2.imread(\"./data/lenna.bmp\", cv2.IMREAD_GRAYSCALE)\n",
    "\n",
    "dst = src.copy()\n",
    "cv2.imshow(\"dst\", dst)\n",
    "\n",
    "#cv2.createTrackbar(트랙바 이름, 윈도우 이름, 트랙바의 최저, 트랙바의 최고, 이벤트발생시 호출될 함수)\n",
    "cv2.createTrackbar(\"brightness\", \"dst\", 0, 100, update)\n",
    "\n",
    "cv2.imshow(\"src\", src)\n",
    "cv2.waitKey()\n",
    "cv2.destroyAllWindows()"
   ]
  },
  {
   "cell_type": "markdown",
   "id": "f62925f1",
   "metadata": {},
   "source": [
    "# 영상의 명암비 조절"
   ]
  },
  {
   "cell_type": "code",
   "execution_count": 63,
   "id": "b9832d05",
   "metadata": {},
   "outputs": [],
   "source": [
    "# 단순한 아이디어 - 상수를 곱해서 명암비 조절 : 포화연산으로 인해 효과가 별로 없음. 거의 사용하지 않음\n",
    "src = cv2.imread(\"./data/lenna.bmp\", cv2.IMREAD_GRAYSCALE)\n",
    "\n",
    "s = 2 # 0.5\n",
    "dst = cv2.multiply(src, s)\n",
    "\n",
    "cv2.imshow(\"src\", src)\n",
    "cv2.imshow(\"dst\", dst)\n",
    "cv2.waitKey()\n",
    "cv2.destroyAllWindows()"
   ]
  },
  {
   "attachments": {
    "image.png": {
     "image/png": "[encoded data removed]"
    }
   },
   "cell_type": "markdown",
   "id": "b53fccc2",
   "metadata": {},
   "source": [
    "![image.png](attachment:image.png)"
   ]
  },
  {
   "cell_type": "code",
   "execution_count": 98,
   "id": "a439db31",
   "metadata": {},
   "outputs": [],
   "source": [
    "# 위의 수식을 이용한 방법\n",
    "# 수식에 담긴 의미\n",
    "# : 픽셀값128을 기준으로 상대적으로 어두운색(128이하)은 더 어둡게, 밝은색(128이상)은 더 밝게\n",
    "# : alpha 값이 1이면 명암비가 커지고\n",
    "# : alpha 값이 -0.5이면 명암비가 작아짐 : 어두운색이 밝아지고,밝은색이 어두워지므로 더 명암비가 낮아짐\n",
    "\n",
    "src = cv2.imread(\"./data/lenna.bmp\", cv2.IMREAD_GRAYSCALE)\n",
    "\n",
    "alpha = 1.0\n",
    "\n",
    "# 수식 : (src + (src - 128)* alpha)\n",
    "# (src - 128)에서 이미 uint8 범위(0에서 255사이)를 넘어갈 수 있어서\n",
    "# 수식 : (src + (src - 128.)* alpha)\n",
    "# 위와같이 128을 실수로 만들면 타입 캐스팅 효과 -> float64\n",
    "# 최종적으로는 cv2.imshow() 출력을 위해 다시 src 정수로 타입캐스팅(astype함수) -> np.uint8\n",
    "\n",
    "dst = np.clip((src + (src - 128.)* alpha), 0, 255).astype(src.dtype)\n",
    "\n",
    "cv2.imshow(\"src\", src)\n",
    "cv2.imshow(\"dst\", dst)\n",
    "cv2.waitKey()\n",
    "cv2.destroyAllWindows()\n",
    "\n",
    "# cv2.imshow 내부에서\n",
    "# src(이미지 행렬)이 0~1 사이의 값이면 data type 이 실수타입을 기대\n",
    "# src(이미지 행렬)이 0~255 사이의 값이면 data type 이 정수타입을 기대"
   ]
  },
  {
   "cell_type": "code",
   "execution_count": 96,
   "id": "6bf62d8a",
   "metadata": {},
   "outputs": [
    {
     "data": {
      "text/plain": [
       "dtype('uint8')"
      ]
     },
     "execution_count": 96,
     "metadata": {},
     "output_type": "execute_result"
    }
   ],
   "source": [
    "# cv2.subtract를 사용했을 경우 위와 결과가 다름 (두번의 포화연산이 적용되서)\n",
    "# tmp = cv2.add(src, (cv2.subtract(src, 128)*alpha).astype(src.dtype))"
   ]
  },
  {
   "cell_type": "markdown",
   "id": "7e693b54",
   "metadata": {},
   "source": [
    "# 히스토그램 분석"
   ]
  },
  {
   "cell_type": "markdown",
   "id": "5fd12a43",
   "metadata": {},
   "source": [
    "### 히스토그램 구하기 (간단한 행렬)"
   ]
  },
  {
   "cell_type": "code",
   "execution_count": 101,
   "id": "233d8fb2",
   "metadata": {},
   "outputs": [],
   "source": [
    "src = np.array([[0, 0, 0, 0],\n",
    "          [1, 2, 3, 5],\n",
    "          [6, 1, 2, 3],\n",
    "          [4, 3, 1, 7]], dtype=np.uint8) # src : 4x4 의 1 channel 영상"
   ]
  },
  {
   "cell_type": "code",
   "execution_count": 105,
   "id": "6b1ff58e",
   "metadata": {},
   "outputs": [
    {
     "data": {
      "text/plain": [
       "array([[4.],\n",
       "       [3.],\n",
       "       [2.],\n",
       "       [3.],\n",
       "       [1.],\n",
       "       [1.],\n",
       "       [1.],\n",
       "       [1.]], dtype=float32)"
      ]
     },
     "execution_count": 105,
     "metadata": {},
     "output_type": "execute_result"
    }
   ],
   "source": [
    "hist1 = cv2.calcHist(images=[src], channels=[0], mask=None, histSize=[8], ranges=[0, 8])\n",
    "hist1 # 0의 빈도수 4개, 1의 빈도수 3개, 2의 빈도수 2개....."
   ]
  },
  {
   "cell_type": "code",
   "execution_count": 106,
   "id": "be3d36ec",
   "metadata": {},
   "outputs": [
    {
     "data": {
      "text/plain": [
       "array([[7.],\n",
       "       [5.],\n",
       "       [2.],\n",
       "       [2.]], dtype=float32)"
      ]
     },
     "execution_count": 106,
     "metadata": {},
     "output_type": "execute_result"
    }
   ],
   "source": [
    "hist2 = cv2.calcHist(images=[src], channels=[0], mask=None, histSize=[4], ranges=[0, 8])\n",
    "hist2 # 0과 1의 빈도수 7개, 2와 3의 빈도수 5개....."
   ]
  },
  {
   "cell_type": "code",
   "execution_count": 107,
   "id": "0c18df29",
   "metadata": {},
   "outputs": [
    {
     "data": {
      "text/plain": [
       "array([[4.],\n",
       "       [3.],\n",
       "       [2.],\n",
       "       [3.]], dtype=float32)"
      ]
     },
     "execution_count": 107,
     "metadata": {},
     "output_type": "execute_result"
    }
   ],
   "source": [
    "hist3 = cv2.calcHist(images=[src], channels=[0], mask=None, histSize=[4], ranges=[0, 4])\n",
    "hist3 # 0과 4개, 1의 빈도수 3개, 2의 빈도수 2개, 3의 빈도수 3개."
   ]
  },
  {
   "cell_type": "markdown",
   "id": "d957cdda",
   "metadata": {},
   "source": [
    "### 히스토그램 구하기 (lena 이미지)"
   ]
  },
  {
   "cell_type": "code",
   "execution_count": null,
   "id": "840fa738",
   "metadata": {},
   "outputs": [],
   "source": [
    "import matplotlib.pyplot as plt"
   ]
  },
  {
   "cell_type": "code",
   "execution_count": 108,
   "id": "c178e768",
   "metadata": {},
   "outputs": [],
   "source": [
    "# histSize (=bins) : 32\n",
    "src = cv2.imread(\"./data/lenna.bmp\", cv2.IMREAD_GRAYSCALE)\n",
    "\n",
    "hist = cv2.calcHist(images=[src], channels=[0], mask=None, histSize=[32], ranges=[0, 255])\n",
    "\n",
    "print(hist.sum() == src.shape[0] * src.shape[1])\n",
    "\n",
    "plt.plot(hist, color='r')\n",
    "plt.bar(np.arange(32), hist.flatten(), color='b')"
   ]
  },
  {
   "cell_type": "code",
   "execution_count": 125,
   "id": "49d0d784",
   "metadata": {},
   "outputs": [
    {
     "name": "stdout",
     "output_type": "stream",
     "text": [
      "True\n"
     ]
    },
    {
     "data": {
      "text/plain": [
       "<BarContainer object of 256 artists>"
      ]
     },
     "execution_count": 125,
     "metadata": {},
     "output_type": "execute_result"
    },
    {
     "data": {
      "image/png": "[encoded data removed]",
      "text/plain": [
       "<Figure size 432x288 with 1 Axes>"
      ]
     },
     "metadata": {
      "needs_background": "light"
     },
     "output_type": "display_data"
    }
   ],
   "source": [
    "# histSize (=bins) : 256\n",
    "src = cv2.imread(\"./data/lenna.bmp\", cv2.IMREAD_GRAYSCALE)\n",
    "\n",
    "hist = cv2.calcHist(images=[src], channels=[0], mask=None, histSize=[256], ranges=[0, 255])\n",
    "\n",
    "print(hist.sum() == src.shape[0] * src.shape[1])\n",
    "\n",
    "plt.plot(hist, color='r')\n",
    "plt.bar(np.arange(256), hist.flatten(), color='b')"
   ]
  },
  {
   "cell_type": "markdown",
   "id": "86a0e0b1",
   "metadata": {},
   "source": [
    "### 컬러 채널별 히스토그램 구하기 (lena 이미지)"
   ]
  },
  {
   "cell_type": "code",
   "execution_count": 137,
   "id": "d7af9fa1",
   "metadata": {},
   "outputs": [
    {
     "data": {
      "image/png": "[encoded data removed]",
      "text/plain": [
       "<Figure size 432x288 with 1 Axes>"
      ]
     },
     "metadata": {
      "needs_background": "light"
     },
     "output_type": "display_data"
    }
   ],
   "source": [
    "src = cv2.imread(\"./data/lenna.bmp\", cv2.IMREAD_COLOR)\n",
    "\n",
    "color = [\"b\", \"g\", \"r\"]\n",
    "for i in range(3):\n",
    "    hist = cv2.calcHist(images=[src], channels=[i], mask=None, histSize=[256], ranges=[0, 255])\n",
    "    plt.plot(hist, color=color[i])    "
   ]
  },
  {
   "cell_type": "code",
   "execution_count": 136,
   "id": "bd5494e1",
   "metadata": {},
   "outputs": [],
   "source": [
    "cv2.imshow(\"src\", src)\n",
    "cv2.waitKey()\n",
    "cv2.destroyAllWindows()"
   ]
  },
  {
   "cell_type": "markdown",
   "id": "a8981865",
   "metadata": {},
   "source": [
    "### 히스토그램 스트레칭(Grayscale Image)"
   ]
  },
  {
   "cell_type": "code",
   "execution_count": 139,
   "id": "077d19e1",
   "metadata": {},
   "outputs": [],
   "source": [
    "# min_max scaling (정규화)\n",
    "a = np.arange(12).reshape(4, 3)\n",
    "\n",
    "(a - a.min())/(a.max() - a.min())"
   ]
  },
  {
   "cell_type": "code",
   "execution_count": 154,
   "id": "c752d57b",
   "metadata": {},
   "outputs": [
    {
     "data": {
      "text/plain": [
       "(107.0, 218.0, (202, 48), (317, 69))"
      ]
     },
     "execution_count": 154,
     "metadata": {},
     "output_type": "execute_result"
    }
   ],
   "source": [
    "# minVal, maxVal, minPos, maxPos = cv2.minMaxLoc(src)\n",
    "# minVal, maxVal, minPos, maxPos"
   ]
  },
  {
   "cell_type": "code",
   "execution_count": 153,
   "id": "94491658",
   "metadata": {},
   "outputs": [
    {
     "data": {
      "image/png": "[encoded data removed]",
      "text/plain": [
       "<Figure size 432x288 with 1 Axes>"
      ]
     },
     "metadata": {
      "needs_background": "light"
     },
     "output_type": "display_data"
    },
    {
     "data": {
      "image/png": "[encoded data removed]",
      "text/plain": [
       "<Figure size 432x288 with 1 Axes>"
      ]
     },
     "metadata": {
      "needs_background": "light"
     },
     "output_type": "display_data"
    }
   ],
   "source": [
    "src = cv2.imread(\"./data/hawkes.bmp\", cv2.IMREAD_GRAYSCALE)\n",
    "\n",
    "dst = (src - src.min())/(src.max() - src.min()) * 255\n",
    "dst = np.array(dst, dtype=np.uint8)\n",
    "\n",
    "src_hist = cv2.calcHist(images=[src], channels=[0], mask=None, histSize=[256], ranges=[0, 255])\n",
    "dst_hist = cv2.calcHist(images=[dst], channels=[0], mask=None, histSize=[256], ranges=[0, 255])\n",
    "\n",
    "plt.bar(np.arange(256), src_hist.flatten(), color='b')\n",
    "plt.show()\n",
    "\n",
    "plt.bar(np.arange(256), dst_hist.flatten(), color='b')\n",
    "plt.show()"
   ]
  },
  {
   "cell_type": "code",
   "execution_count": 152,
   "id": "cc55cb9b",
   "metadata": {},
   "outputs": [],
   "source": [
    "cv2.imshow(\"src\", src)\n",
    "cv2.imshow(\"dst\", dst)\n",
    "cv2.waitKey()\n",
    "cv2.destroyAllWindows()"
   ]
  },
  {
   "cell_type": "markdown",
   "id": "52496b12",
   "metadata": {},
   "source": [
    "### 히스토그램 평활화 (Grayscale Image)"
   ]
  },
  {
   "cell_type": "code",
   "execution_count": 156,
   "id": "95eae4d4",
   "metadata": {},
   "outputs": [],
   "source": [
    "src = cv2.imread(\"./data/hawkes.bmp\", cv2.IMREAD_GRAYSCALE)\n",
    "\n",
    "dst = cv2.equalizeHist(src) # dst = round(H(src(x, y)) * L_max/N)"
   ]
  },
  {
   "cell_type": "code",
   "execution_count": 158,
   "id": "eb812665",
   "metadata": {},
   "outputs": [
    {
     "data": {
      "image/png": "[encoded data removed]",
      "text/plain": [
       "<Figure size 432x288 with 1 Axes>"
      ]
     },
     "metadata": {
      "needs_background": "light"
     },
     "output_type": "display_data"
    },
    {
     "data": {
      "image/png": "[encoded data removed]",
      "text/plain": [
       "<Figure size 432x288 with 1 Axes>"
      ]
     },
     "metadata": {
      "needs_background": "light"
     },
     "output_type": "display_data"
    }
   ],
   "source": [
    "src_hist = cv2.calcHist(images=[src], channels=[0], mask=None, histSize=[256], ranges=[0, 255])\n",
    "dst_hist = cv2.calcHist(images=[dst], channels=[0], mask=None, histSize=[256], ranges=[0, 255])\n",
    "\n",
    "plt.bar(np.arange(256), src_hist.flatten(), color='b')\n",
    "plt.show()\n",
    "\n",
    "plt.bar(np.arange(256), dst_hist.flatten(), color='b')\n",
    "plt.show()"
   ]
  },
  {
   "cell_type": "code",
   "execution_count": 157,
   "id": "7946094a",
   "metadata": {},
   "outputs": [],
   "source": [
    "cv2.imshow(\"src\", src)\n",
    "cv2.imshow(\"dst\", dst)\n",
    "cv2.waitKey()\n",
    "cv2.destroyAllWindows()"
   ]
  },
  {
   "cell_type": "markdown",
   "id": "68cefc77",
   "metadata": {},
   "source": [
    "### 히스토그램 평활화 (Color Image)"
   ]
  },
  {
   "cell_type": "code",
   "execution_count": 161,
   "id": "4395cde3",
   "metadata": {},
   "outputs": [],
   "source": [
    "# 1. 컬러 이미지 히스토그램 평활화 : 잘못된 예\n",
    "src = cv2.imread(\"./data/pepper.bmp\")\n",
    "\n",
    "b = src[:, :, 0]\n",
    "g = src[:, :, 1]\n",
    "r = src[:, :, 2]\n",
    "# b, g, r= cv2.split(src)\n",
    "\n",
    "dst_b = cv2.equalizeHist(b)\n",
    "dst_g = cv2.equalizeHist(g)\n",
    "dst_r = cv2.equalizeHist(r)\n",
    "\n",
    "dst = cv2.merge([dst_b, dst_g, dst_r])\n",
    "\n",
    "cv2.imshow(\"src\", src)\n",
    "cv2.imshow(\"dsr\", dst)\n",
    "cv2.waitKey()\n",
    "cv2.destroyAllWindows()"
   ]
  },
  {
   "cell_type": "code",
   "execution_count": 167,
   "id": "0c76a7bf",
   "metadata": {},
   "outputs": [
    {
     "data": {
      "image/png": "[encoded data removed]",
      "text/plain": [
       "<Figure size 432x288 with 1 Axes>"
      ]
     },
     "metadata": {
      "needs_background": "light"
     },
     "output_type": "display_data"
    }
   ],
   "source": [
    "# 평활화 전 각 채널의 히스토그램 분포\n",
    "color = [\"b\", \"g\", \"r\"]\n",
    "for i in range(3):\n",
    "    hist = cv2.calcHist(images=[src], channels=[i], mask=None, histSize=[256], ranges=[0, 255])\n",
    "    plt.plot(hist, color=color[i]) "
   ]
  },
  {
   "cell_type": "code",
   "execution_count": 169,
   "id": "a6113def",
   "metadata": {},
   "outputs": [
    {
     "data": {
      "text/plain": [
       "[<matplotlib.lines.Line2D at 0x1c883a749a0>]"
      ]
     },
     "execution_count": 169,
     "metadata": {},
     "output_type": "execute_result"
    },
    {
     "data": {
      "image/png": "[encoded data removed]",
      "text/plain": [
       "<Figure size 432x288 with 1 Axes>"
      ]
     },
     "metadata": {
      "needs_background": "light"
     },
     "output_type": "display_data"
    }
   ],
   "source": [
    "# 평활화 후 각 채널의 히스토그램 분포\n",
    "dst_b_hist = cv2.calcHist(images=[dst_b], channels=[0], mask=None, histSize=[256], ranges=[0, 255])\n",
    "dst_g_hist = cv2.calcHist(images=[dst_g], channels=[0], mask=None, histSize=[256], ranges=[0, 255])\n",
    "dst_r_hist = cv2.calcHist(images=[dst_r], channels=[0], mask=None, histSize=[256], ranges=[0, 255])\n",
    "\n",
    "plt.plot(dst_b_hist, color=\"b\") \n",
    "plt.plot(dst_g_hist, color=\"g\") \n",
    "plt.plot(dst_r_hist, color=\"r\") "
   ]
  },
  {
   "cell_type": "code",
   "execution_count": 171,
   "id": "f80764ea",
   "metadata": {},
   "outputs": [],
   "source": [
    "# 2. 컬러 이미지 히스토그램 평활화 : 잘 된 예\n",
    "# 명암비를 조정한다는것은 \"밝기\"값하고만 상관이 있음\n",
    "src = cv2.imread(\"./data/pepper.bmp\")\n",
    "src_yCrCb = cv2.cvtColor(src, cv2.COLOR_BGR2YCrCb) # YCrCb : Y(밝기 정보), Cr(붉은색 색상정보), Cb(푸른색 색상정보)\n",
    "\n",
    "y, Cr, Cb = cv2.split(src_yCrCb)\n",
    "\n",
    "y_equalized = cv2.equalizeHist(y) # 밝기 정보만을 담고 있는 y 채널에 대해서만 평활화를 수행\n",
    "\n",
    "dst_yCrCb = cv2.merge([y_equalized, Cr, Cb])\n",
    "\n",
    "dst = cv2.cvtColor(dst_yCrCb, cv2.COLOR_YCrCb2BGR)\n",
    "\n",
    "cv2.imshow(\"src\", src)\n",
    "cv2.imshow(\"dst\", dst)\n",
    "cv2.waitKey()\n",
    "cv2.destroyAllWindows()\n"
   ]
  },
  {
   "cell_type": "markdown",
   "id": "8addb021",
   "metadata": {},
   "source": [
    "# 영상의 산술 연산"
   ]
  },
  {
   "cell_type": "code",
   "execution_count": 181,
   "id": "a1dfac5e",
   "metadata": {},
   "outputs": [],
   "source": [
    "src1 = cv2.imread(\"./data/lenna256.bmp\", cv2.IMREAD_GRAYSCALE) \n",
    "src2 = cv2.imread(\"./data/square.bmp\", cv2.IMREAD_GRAYSCALE)\n",
    "\n",
    "\n",
    "dst1 = cv2.add(src1, src2)\n",
    "dst2 = cv2.addWeighted(src1, 0.5, src2, 0.5, 0.0 )\n",
    "dst3 = cv2.subtract(src1, src2)\n",
    "dst4 = cv2.absdiff(src1, src2)\n",
    "\n",
    "cv2.imshow(\"src1\", src1)\n",
    "cv2.imshow(\"src2\", src2)\n",
    "cv2.imshow(\"dst1\", dst1)\n",
    "cv2.imshow(\"dst2\", dst2)\n",
    "cv2.imshow(\"dst3\", dst3)\n",
    "cv2.imshow(\"dst4\", dst4)\n",
    "\n",
    "cv2.waitKey()\n",
    "cv2.destroyAllWindows()"
   ]
  },
  {
   "cell_type": "markdown",
   "id": "12be08ff",
   "metadata": {},
   "source": [
    "# 영상의 논리 연산"
   ]
  },
  {
   "cell_type": "code",
   "execution_count": 185,
   "id": "de2477f5",
   "metadata": {},
   "outputs": [],
   "source": [
    "src1 = cv2.imread(\"./data/lenna256.bmp\", cv2.IMREAD_GRAYSCALE) \n",
    "src2 = cv2.imread(\"./data/square.bmp\", cv2.IMREAD_GRAYSCALE)\n",
    "\n",
    "dst1 = cv2.bitwise_and(src1, src2)\n",
    "dst2 = cv2.bitwise_or(src1, src2)\n",
    "dst3 = cv2.bitwise_xor(src1, src2)\n",
    "dst4 = cv2.bitwise_not(src1)\n",
    "\n",
    "cv2.imshow(\"src1\", src1)\n",
    "cv2.imshow(\"src2\", src2)\n",
    "cv2.imshow(\"dst1\", dst1)\n",
    "cv2.imshow(\"dst2\", dst2)\n",
    "cv2.imshow(\"dst3\", dst3)\n",
    "cv2.imshow(\"dst4\", dst4)\n",
    "\n",
    "cv2.waitKey()\n",
    "cv2.destroyAllWindows()"
   ]
  },
  {
   "cell_type": "markdown",
   "id": "a40199d0",
   "metadata": {},
   "source": [
    "(참고) 영상의 이진화"
   ]
  },
  {
   "cell_type": "code",
   "execution_count": 194,
   "id": "d9ffeadc",
   "metadata": {},
   "outputs": [],
   "source": [
    "def on_threshold(pos):\n",
    "    _, dst = cv2.threshold(src, pos, 255, cv2.THRESH_BINARY)\n",
    "    cv2.imshow(\"dst\", dst)"
   ]
  },
  {
   "cell_type": "code",
   "execution_count": 200,
   "id": "4f7666e8",
   "metadata": {},
   "outputs": [],
   "source": [
    "src = cv2.imread(\"./data/neutrophils.png\", cv2.IMREAD_GRAYSCALE)\n",
    "\n",
    "cv2.imshow(\"src\", src)\n",
    "cv2.imshow(\"dst\", dst)\n",
    "\n",
    "cv2.createTrackbar(\"threhold\", \"dst\", 0, 255, on_threshold)\n",
    "cv2.setTrackbarPos(\"threhold\", \"dst\", 128)\n",
    "cv2.waitKey()\n",
    "cv2.destroyAllWindows()"
   ]
  },
  {
   "cell_type": "markdown",
   "id": "d9df68c4",
   "metadata": {},
   "source": [
    "### Workshop : bitwise 연산 , 이진화"
   ]
  },
  {
   "cell_type": "code",
   "execution_count": 271,
   "id": "976ca7db",
   "metadata": {},
   "outputs": [],
   "source": [
    "# option 1\n",
    "airplane = cv2.imread('./data/airplane.bmp', cv2.IMREAD_COLOR) # color\n",
    "field = cv2.imread('./data/field.bmp', cv2.IMREAD_COLOR)\n",
    "gray = cv2.cvtColor(airplane, cv2.COLOR_BGR2GRAY) # bgr -> gray : mask를 만들기 위해서\n",
    "\n",
    "_, mask = cv2.threshold(gray, 160, 255, cv2.THRESH_BINARY)\n",
    "mask_inv = cv2.bitwise_not(mask)\n",
    "\n",
    "airplane_fg = np.zeros(airplane.shape, airplane.dtype)\n",
    "airplane_fg[mask_inv>0] = airplane[mask_inv>0] # mask_inv>0 : foreground 부분이 흰색\n",
    "\n",
    "field_bg = np.zeros(field.shape, field.dtype)\n",
    "field_bg[mask>0] = field[mask>0] #mask>0 : background 부분이 흰색\n",
    "\n",
    "dst = cv2.bitwise_or(airplane_fg, field_bg)\n",
    "\n",
    "cv2.imshow(\"airplane\", airplane)\n",
    "cv2.imshow(\"field\", field)\n",
    "cv2.imshow(\"dst\", dst)\n",
    "cv2.waitKey()\n",
    "cv2.destroyAllWindows()"
   ]
  },
  {
   "cell_type": "code",
   "execution_count": null,
   "id": "4d005b0e",
   "metadata": {},
   "outputs": [],
   "source": [
    "# option 2\n",
    "\n",
    "airplane = cv2.imread(\"./data/airplane.bmp\", cv2.IMREAD_COLOR)\n",
    "field = cv2.imread(\"./data/field.bmp\", cv2.IMREAD_COLOR)\n",
    "gray = cv2.cvtColor(airplane, cv2.COLOR_BGR2GRAY) # bgr -> gray : mask를 만들기 위해서\n",
    "\n",
    "_, mask = cv2.threshold(gray, 160, 255, cv2.THRESH_BINARY)\n",
    "mask_inv = cv2.bitwise_not(mask)\n",
    "\n",
    "airplane_fg = cv2.bitwise_and(airplane, airplane, mask=mask_inv)\n",
    "field_bg = cv2.bitwise_and(field, field, mask=mask)\n",
    "                           \n",
    "dst = cv2.bitwise_or(airplane_fg, field_bg)\n",
    "\n",
    "cv2.imshow(\"airplane\", airplane)\n",
    "cv2.imshow(\"field\", field)\n",
    "cv2.imshow(\"dst\", dst)\n",
    "cv2.waitKey()\n",
    "cv2.destroyAllWindows()"
   ]
  },
  {
   "cell_type": "code",
   "execution_count": 283,
   "id": "1a84c73c",
   "metadata": {},
   "outputs": [],
   "source": [
    "# option 3\n",
    "\n",
    "airplane = cv2.imread(\"./data/airplane.bmp\", cv2.IMREAD_COLOR)\n",
    "field = cv2.imread(\"./data/field.bmp\", cv2.IMREAD_COLOR)\n",
    "\n",
    "gray = cv2.cvtColor(airplane, cv2.COLOR_BGR2GRAY)\n",
    "\n",
    "_, mask = cv2.threshold(gray, 160, 255, cv2.THRESH_BINARY)\n",
    "\n",
    "field[mask < 255] = airplane[mask < 255]\n",
    "\n",
    "cv2.imshow(\"airplane\", airplane)\n",
    "cv2.imshow(\"field\", field)\n",
    "cv2.imshow(\"mask\", mask)\n",
    "\n",
    "cv2.waitKey()\n",
    "cv2.destroyAllWindows()"
   ]
  },
  {
   "cell_type": "code",
   "execution_count": 286,
   "id": "63ea948e",
   "metadata": {},
   "outputs": [],
   "source": [
    "# option 4\n",
    "src = cv2.imread('./data/airplane.bmp', cv2.IMREAD_COLOR)\n",
    "dst = cv2.imread('./data/field.bmp', cv2.IMREAD_COLOR)\n",
    "\n",
    "gray = cv2.cvtColor(src, cv2.COLOR_BGR2GRAY)\n",
    "\n",
    "_, mask = cv2.threshold(gray, 160, 255, cv2.THRESH_BINARY_INV)\n",
    "\n",
    "dst[mask>0] = src[mask>0]\n",
    "\n",
    "cv2.imshow('mask', mask)\n",
    "cv2.imshow('src', src)\n",
    "cv2.imshow('dst', dst)\n",
    "\n",
    "\n",
    "cv2.waitKey()\n",
    "cv2.destroyAllWindows()\n"
   ]
  },
  {
   "cell_type": "markdown",
   "id": "25fc3a4c",
   "metadata": {},
   "source": [
    "# 영상의 필터링"
   ]
  },
  {
   "cell_type": "markdown",
   "id": "2289e11c",
   "metadata": {},
   "source": [
    "## 엠보싱 필터"
   ]
  },
  {
   "cell_type": "code",
   "execution_count": 294,
   "id": "3a863742",
   "metadata": {},
   "outputs": [],
   "source": [
    "src = cv2.imread(\"./data/rose.bmp\", cv2.IMREAD_GRAYSCALE)\n",
    "\n",
    "emboss = np.array([[-1, -1, 0],\n",
    "                   [-1, 0, 1],\n",
    "                   [0, 1, 1]], np.float32)\n",
    "\n",
    "\n",
    "# 마스크 연산\n",
    "dst = cv2.filter2D(src, -1, emboss, delta=128) # -1은 입력 영상과 결과 영상의 채널 깊이가 동일하다는 뜻\n",
    "                                               # delta=128은 전체 영상의 값이 마스크 연산과정에서 작아짐\n",
    "                                               # 128을 더해줌으로 전반적으로 밝게 표시해주는 효과\n",
    "\n",
    "cv2.imshow('src', src)\n",
    "cv2.imshow('dst', dst)\n",
    "cv2.waitKey()\n",
    "cv2.destroyAllWindows()"
   ]
  },
  {
   "cell_type": "code",
   "execution_count": null,
   "id": "09b53245",
   "metadata": {},
   "outputs": [],
   "source": []
  }
 ],
 "metadata": {
  "kernelspec": {
   "display_name": "Python 3 (ipykernel)",
   "language": "python",
   "name": "python3"
  },
  "language_info": {
   "codemirror_mode": {
    "name": "ipython",
    "version": 3
   },
   "file_extension": ".py",
   "mimetype": "text/x-python",
   "name": "python",
   "nbconvert_exporter": "python",
   "pygments_lexer": "ipython3",
   "version": "3.9.7"
  }
 },
 "nbformat": 4,
 "nbformat_minor": 5
}
