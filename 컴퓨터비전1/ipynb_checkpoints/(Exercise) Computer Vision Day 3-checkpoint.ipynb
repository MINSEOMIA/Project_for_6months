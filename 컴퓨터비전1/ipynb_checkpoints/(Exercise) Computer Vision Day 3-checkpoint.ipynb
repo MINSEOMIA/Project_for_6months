{
 "cells": [
  {
   "cell_type": "markdown",
   "id": "9d86aa8f",
   "metadata": {},
   "source": [
    "# 영상의 밝기 조절"
   ]
  },
  {
   "cell_type": "code",
   "execution_count": null,
   "id": "bd58bb9b",
   "metadata": {},
   "outputs": [],
   "source": [
    "import cv2\n",
    "import numpy as np\n",
    "import sys"
   ]
  },
  {
   "cell_type": "code",
   "execution_count": null,
   "id": "c7ae5d88",
   "metadata": {},
   "outputs": [],
   "source": [
    "def saturated(value) # 이미지 행렬 형태 입력\n",
    "    value < 0\n",
    "    value > 255\n",
    "    dst \n",
    "    return dst #이미지 행렬 형태로 변환"
   ]
  },
  {
   "cell_type": "code",
   "execution_count": null,
   "id": "3bc3a2ec",
   "metadata": {},
   "outputs": [],
   "source": []
  },
  {
   "cell_type": "code",
   "execution_count": null,
   "id": "4b8dcdee",
   "metadata": {},
   "outputs": [],
   "source": [
    "src = cv2.imread(\"./data/lenna.bmp\", cv2.IMREAD_GRAYSCALE)\n",
    "dst = np.empty(src.shape, src.dtype)\n",
    "dst = src +100\n",
    "cv2.imshow(\"src\", src)\n",
    "cv2.imshow(\"dst\", dst)\n",
    "cv2.waitKey()\n",
    "cv2.destroyAllWindows()"
   ]
  },
  {
   "cell_type": "markdown",
   "id": "f62925f1",
   "metadata": {},
   "source": [
    "# 영상의 명암비 조절"
   ]
  },
  {
   "cell_type": "code",
   "execution_count": null,
   "id": "6286edb5",
   "metadata": {},
   "outputs": [],
   "source": []
  },
  {
   "cell_type": "code",
   "execution_count": null,
   "id": "5a92a6c1",
   "metadata": {},
   "outputs": [],
   "source": []
  },
  {
   "cell_type": "markdown",
   "id": "7e693b54",
   "metadata": {},
   "source": [
    "# 히스토그램 분석"
   ]
  },
  {
   "cell_type": "markdown",
   "id": "5fd12a43",
   "metadata": {},
   "source": [
    "### 히스토그램 구하기 (간단한 행렬)"
   ]
  },
  {
   "cell_type": "code",
   "execution_count": null,
   "id": "abb5ab06",
   "metadata": {},
   "outputs": [],
   "source": []
  },
  {
   "cell_type": "code",
   "execution_count": null,
   "id": "93604f59",
   "metadata": {},
   "outputs": [],
   "source": []
  },
  {
   "cell_type": "markdown",
   "id": "d957cdda",
   "metadata": {},
   "source": [
    "### 히스토그램 구하기 (lena 이미지)"
   ]
  },
  {
   "cell_type": "code",
   "execution_count": null,
   "id": "5e0b0e6a",
   "metadata": {},
   "outputs": [],
   "source": []
  },
  {
   "cell_type": "code",
   "execution_count": null,
   "id": "69326409",
   "metadata": {},
   "outputs": [],
   "source": []
  },
  {
   "cell_type": "markdown",
   "id": "86a0e0b1",
   "metadata": {},
   "source": [
    "### 컬러 채널별 히스토그램 구하기 (lena 이미지)"
   ]
  },
  {
   "cell_type": "code",
   "execution_count": null,
   "id": "2e837168",
   "metadata": {},
   "outputs": [],
   "source": []
  },
  {
   "cell_type": "code",
   "execution_count": null,
   "id": "841531db",
   "metadata": {},
   "outputs": [],
   "source": []
  },
  {
   "cell_type": "markdown",
   "id": "a8981865",
   "metadata": {},
   "source": [
    "### 히스토그램 스트레칭(Grayscale Image)"
   ]
  },
  {
   "cell_type": "code",
   "execution_count": null,
   "id": "02b24079",
   "metadata": {},
   "outputs": [],
   "source": []
  },
  {
   "cell_type": "code",
   "execution_count": null,
   "id": "f8a000a8",
   "metadata": {},
   "outputs": [],
   "source": []
  },
  {
   "cell_type": "markdown",
   "id": "52496b12",
   "metadata": {},
   "source": [
    "### 히스토그램 평활화 (Grayscale Image)"
   ]
  },
  {
   "cell_type": "code",
   "execution_count": null,
   "id": "4a5e2d12",
   "metadata": {},
   "outputs": [],
   "source": []
  },
  {
   "cell_type": "code",
   "execution_count": null,
   "id": "aee8bac6",
   "metadata": {},
   "outputs": [],
   "source": []
  },
  {
   "cell_type": "markdown",
   "id": "68cefc77",
   "metadata": {},
   "source": [
    "### 히스토그램 평활화 (Color Image)"
   ]
  },
  {
   "cell_type": "code",
   "execution_count": null,
   "id": "cace037f",
   "metadata": {},
   "outputs": [],
   "source": []
  },
  {
   "cell_type": "code",
   "execution_count": null,
   "id": "50e9a660",
   "metadata": {},
   "outputs": [],
   "source": []
  },
  {
   "cell_type": "markdown",
   "id": "8addb021",
   "metadata": {},
   "source": [
    "# 영상의 산술 연산"
   ]
  },
  {
   "cell_type": "code",
   "execution_count": null,
   "id": "5314c93a",
   "metadata": {},
   "outputs": [],
   "source": []
  },
  {
   "cell_type": "code",
   "execution_count": null,
   "id": "2f86019c",
   "metadata": {},
   "outputs": [],
   "source": []
  },
  {
   "cell_type": "markdown",
   "id": "12be08ff",
   "metadata": {},
   "source": [
    "# 영상의 논리 연산"
   ]
  },
  {
   "cell_type": "code",
   "execution_count": null,
   "id": "0c8620ad",
   "metadata": {},
   "outputs": [],
   "source": []
  },
  {
   "cell_type": "code",
   "execution_count": null,
   "id": "f522eca0",
   "metadata": {},
   "outputs": [],
   "source": []
  },
  {
   "cell_type": "markdown",
   "id": "d9df68c4",
   "metadata": {},
   "source": [
    "### Workshop : bitwise 연산 "
   ]
  },
  {
   "cell_type": "code",
   "execution_count": null,
   "id": "46e0934c",
   "metadata": {},
   "outputs": [],
   "source": []
  },
  {
   "cell_type": "code",
   "execution_count": null,
   "id": "cf0f743c",
   "metadata": {},
   "outputs": [],
   "source": []
  },
  {
   "cell_type": "code",
   "execution_count": null,
   "id": "6e530d62",
   "metadata": {},
   "outputs": [],
   "source": []
  },
  {
   "cell_type": "code",
   "execution_count": null,
   "id": "52dfdc9e",
   "metadata": {},
   "outputs": [],
   "source": []
  }
 ],
 "metadata": {
  "kernelspec": {
   "display_name": "Python 3 (ipykernel)",
   "language": "python",
   "name": "python3"
  },
  "language_info": {
   "codemirror_mode": {
    "name": "ipython",
    "version": 3
   },
   "file_extension": ".py",
   "mimetype": "text/x-python",
   "name": "python",
   "nbconvert_exporter": "python",
   "pygments_lexer": "ipython3",
   "version": "3.9.7"
  }
 },
 "nbformat": 4,
 "nbformat_minor": 5
}
