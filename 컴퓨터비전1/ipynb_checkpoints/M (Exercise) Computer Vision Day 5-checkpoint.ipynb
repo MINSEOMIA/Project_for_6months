{
 "cells": [
  {
   "cell_type": "markdown",
   "id": "a4e17b34",
   "metadata": {},
   "source": [
    "# 에지 검출과 응용"
   ]
  },
  {
   "cell_type": "code",
   "execution_count": 1,
   "id": "c76ccc75",
   "metadata": {},
   "outputs": [],
   "source": [
    "import cv2\n",
    "import numpy as np\n",
    "import sys"
   ]
  },
  {
   "cell_type": "markdown",
   "id": "629f5b01",
   "metadata": {},
   "source": [
    "## 마스크 기반 에지 검출 - 소벨 마스크"
   ]
  },
  {
   "cell_type": "code",
   "execution_count": null,
   "id": "c80a2b6d",
   "metadata": {},
   "outputs": [],
   "source": [
    "Mx = np.array(\n",
    "            [[-1,0 ,],\n",
    "              [],\n",
    "               []     ])\n",
    " \n",
    "Mx = "
   ]
  },
  {
   "cell_type": "markdown",
   "id": "a1047bac",
   "metadata": {},
   "source": [
    "## 캐니 에지 검출기"
   ]
  },
  {
   "cell_type": "code",
   "execution_count": null,
   "id": "29ca50d4",
   "metadata": {},
   "outputs": [],
   "source": []
  },
  {
   "cell_type": "markdown",
   "id": "b81d4aa0",
   "metadata": {},
   "source": [
    "## 허프 변환 직선 검출"
   ]
  },
  {
   "cell_type": "code",
   "execution_count": null,
   "id": "bcb9a74d",
   "metadata": {},
   "outputs": [],
   "source": []
  },
  {
   "cell_type": "code",
   "execution_count": null,
   "id": "f5356889",
   "metadata": {},
   "outputs": [],
   "source": []
  },
  {
   "cell_type": "markdown",
   "id": "3ed9522c",
   "metadata": {},
   "source": [
    "## 허프 변환 원 검출"
   ]
  },
  {
   "cell_type": "code",
   "execution_count": null,
   "id": "14583775",
   "metadata": {},
   "outputs": [],
   "source": []
  },
  {
   "cell_type": "code",
   "execution_count": null,
   "id": "78bded2f",
   "metadata": {},
   "outputs": [],
   "source": []
  }
 ],
 "metadata": {
  "kernelspec": {
   "display_name": "Python 3 (ipykernel)",
   "language": "python",
   "name": "python3"
  },
  "language_info": {
   "codemirror_mode": {
    "name": "ipython",
    "version": 3
   },
   "file_extension": ".py",
   "mimetype": "text/x-python",
   "name": "python",
   "nbconvert_exporter": "python",
   "pygments_lexer": "ipython3",
   "version": "3.9.7"
  }
 },
 "nbformat": 4,
 "nbformat_minor": 5
}
