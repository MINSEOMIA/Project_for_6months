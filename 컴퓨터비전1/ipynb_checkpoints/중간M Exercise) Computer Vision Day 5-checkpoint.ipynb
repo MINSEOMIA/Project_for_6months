{
 "cells": [
  {
   "cell_type": "markdown",
   "id": "a4e17b34",
   "metadata": {},
   "source": [
    "# 에지 검출과 응용"
   ]
  },
  {
   "cell_type": "code",
   "execution_count": 2,
   "id": "c76ccc75",
   "metadata": {},
   "outputs": [],
   "source": [
    "import cv2\n",
    "import numpy as np\n",
    "import sys"
   ]
  },
  {
   "cell_type": "markdown",
   "id": "02abf794",
   "metadata": {},
   "source": [
    "## 마스크 기반 에지 검출 - 소벨 마스크"
   ]
  },
  {
   "cell_type": "code",
   "execution_count": 15,
   "id": "9cbdac91",
   "metadata": {},
   "outputs": [],
   "source": [
    "src = cv2.imread(\"./data/lenna.bmp\", cv2.IMREAD_GRAYSCALE)\n",
    "\n",
    "Mx = np.array(\n",
    "    [[-1, 0, 1],\n",
    "     [-2, 0, 2],\n",
    "     [-1, 0, 1]], dtype= np.float32) # 소벨 마스크 (x방향 미분 마스크)\n",
    "\n",
    "My = np.array(\n",
    "    [[-1, -2, -1],\n",
    "     [0, 0, 0],\n",
    "     [1, 2, 1]], dtype= np.float32) # 소벨 마스크 (y방향 미분 마스크)\n",
    "\n",
    "dx = cv2.filter2D(src, -1, Mx, delta=128) # dx : x방향 필터와 원본 이미지 간의 마스크 연산의 결과(미분값)\n",
    "dy = cv2.filter2D(src, -1, My, delta=128) # dy : y방향 필터와 원본 이미지 간의 마스크 연산의 결과(미분값)\n",
    "\n",
    "cv2.imshow(\"src\", src)\n",
    "cv2.imshow(\"dx\", dx)\n",
    "cv2.imshow(\"dy\", dy)\n",
    "cv2.waitKey()\n",
    "cv2.destroyAllWindows()"
   ]
  },
  {
   "cell_type": "code",
   "execution_count": 27,
   "id": "56163b96",
   "metadata": {},
   "outputs": [],
   "source": [
    "src = cv2.imread(\"./data/lenna.bmp\", cv2.IMREAD_GRAYSCALE)\n",
    "\n",
    "# sobel mask 준비 없이, 원본간의 마스크 연산을 한번에..\n",
    "dx = cv2.Sobel(src, cv2.CV_32FC1, 1, 0) # dx : x방향 필터와 원본 이미지 간의 마스크 연산의 결과(미분값)\n",
    "dy = cv2.Sobel(src, cv2.CV_32FC1, 0, 1) # dy : y방향 필터와 원본 이미지 간의 마스크 연산의 결과(미분값)\n",
    "# --> cv2.filter2D()와 다르게 타입이 float32이고, 포화연산이 안되어 있는 상태\n",
    "\n",
    "fmag = cv2.magnitude(dx, dy) # dx, dy 각각의 미분값을 벡터(그레디언트)의 크기로 반환\n",
    "mag = np.clip(fmag, 0, 255).astype(np.uint8)\n",
    "\n",
    "T = 160\n",
    "_, edge = cv2.threshold(mag, T, 255, cv2.THRESH_BINARY)\n",
    "\n",
    "\n",
    "cv2.imshow(\"src\", src)\n",
    "cv2.imshow(\"mag\", mag)\n",
    "cv2.imshow(\"edge\", edge)\n",
    "cv2.waitKey()\n",
    "cv2.destroyAllWindows()"
   ]
  },
  {
   "cell_type": "markdown",
   "id": "be9a54d6",
   "metadata": {},
   "source": [
    "## 캐니 에지 검출기"
   ]
  },
  {
   "cell_type": "code",
   "execution_count": 29,
   "id": "5b69316e",
   "metadata": {},
   "outputs": [],
   "source": [
    "src = cv2.imread(\"./data/lenna.bmp\", cv2.IMREAD_GRAYSCALE)\n",
    "\n",
    "# low threshold, high threshold를 변경해 가면서 영상 결과 확인\n",
    "dst1 = cv2.Canny(src, 50, 100) \n",
    "dst2 = cv2.Canny(src, 100, 200)\n",
    "\n",
    "cv2.imshow(\"dst1\", dst1)\n",
    "cv2.imshow(\"dst2\", dst2)\n",
    "cv2.waitKey()\n",
    "cv2.destroyAllWindows()"
   ]
  },
  {
   "cell_type": "markdown",
   "id": "99344350",
   "metadata": {},
   "source": [
    "## 허프 변환 직선 검출"
   ]
  },
  {
   "cell_type": "code",
   "execution_count": 30,
   "id": "372c3286",
   "metadata": {},
   "outputs": [],
   "source": [
    "import math"
   ]
  },
  {
   "cell_type": "code",
   "execution_count": 53,
   "id": "0501cf6a",
   "metadata": {},
   "outputs": [],
   "source": [
    "src = cv2.imread(\"./data/building.jpg\", cv2.IMREAD_GRAYSCALE)\n",
    "\n",
    "\n",
    "edge = cv2.Canny(src, 100, 200) #(src, low threshold, high threshold)\n",
    "                                # low:high = 1:2, 1:3\n",
    "\n",
    "rho = 1\n",
    "theta = math.pi/180.\n",
    "threshold = 160 # 축적배열에 직선으로 많이 교차하는 위치의 값이 threshold 이상 넘어갈 때 직선으로 간주\n",
    "minlineLength = 50\n",
    "maxlineGap = 5\n",
    "lines = cv2.HoughLinesP(edge, rho, theta, threshold,minLineLength= minlineLength, maxLineGap=maxlineGap)\n",
    "\n",
    "dst = cv2.cvtColor(edge,cv2.COLOR_GRAY2BGR)\n",
    "if lines is not None: # 라인 정보를 받았으면\n",
    "    for i in range(lines.shape[0]):\n",
    "        pt1 = (lines[i][0][0], lines[i][0][1])\n",
    "        pt2 = (lines[i][0][2], lines[i][0][3])\n",
    "        cv2.line(dst, pt1, pt2, (0, 0, 255), 2, cv2.LINE_AA)\n",
    "        \n",
    "cv2.imshow('src',src)\n",
    "cv2.imshow('dst',dst)\n",
    "cv2.waitKey()\n",
    "cv2.destroyAllWindows()"
   ]
  },
  {
   "cell_type": "markdown",
   "id": "16df545e",
   "metadata": {},
   "source": [
    "## 허프 변환 원 검출"
   ]
  },
  {
   "cell_type": "code",
   "execution_count": null,
   "id": "5daef878",
   "metadata": {},
   "outputs": [],
   "source": []
  },
  {
   "cell_type": "code",
   "execution_count": null,
   "id": "9481e250",
   "metadata": {},
   "outputs": [],
   "source": []
  }
 ],
 "metadata": {
  "kernelspec": {
   "display_name": "Python 3 (ipykernel)",
   "language": "python",
   "name": "python3"
  },
  "language_info": {
   "codemirror_mode": {
    "name": "ipython",
    "version": 3
   },
   "file_extension": ".py",
   "mimetype": "text/x-python",
   "name": "python",
   "nbconvert_exporter": "python",
   "pygments_lexer": "ipython3",
   "version": "3.9.7"
  }
 },
 "nbformat": 4,
 "nbformat_minor": 5
}
