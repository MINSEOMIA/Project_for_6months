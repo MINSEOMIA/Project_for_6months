{
 "cells": [
  {
   "cell_type": "markdown",
   "id": "9d86aa8f",
   "metadata": {},
   "source": [
    "# 영상의 밝기 조절"
   ]
  },
  {
   "cell_type": "code",
   "execution_count": 1,
   "id": "bd58bb9b",
   "metadata": {},
   "outputs": [],
   "source": [
    "import cv2\n",
    "import numpy as np\n",
    "import sys"
   ]
  },
  {
   "cell_type": "code",
   "execution_count": 4,
   "id": "c7ae5d88",
   "metadata": {},
   "outputs": [],
   "source": [
    "def saturated(value): #이미지 행렬 형태 입력\n",
    "    dst = value.copy()\n",
    "    dst [value < 0] = 0 #불리언 색인\n",
    "    dst [value > 255] = 255\n",
    "    return dst #이미지 행렬 형태로 변환"
   ]
  },
  {
   "cell_type": "code",
   "execution_count": 5,
   "id": "4b8dcdee",
   "metadata": {},
   "outputs": [],
   "source": [
    "src = cv2.imread(\"./data/lenna.bmp\", cv2.IMREAD_GRAYSCALE)\n",
    "dst = np.empty(src.shape, src.dtype)\n",
    "dst = src +100\n",
    "\n",
    "cv2.imshow(\"src\", src)\n",
    "cv2.imshow(\"dst\", dst)\n",
    "cv2.waitKey()\n",
    "cv2.destroyAllWindows()"
   ]
  },
  {
   "cell_type": "code",
   "execution_count": null,
   "id": "1b964f5e",
   "metadata": {},
   "outputs": [],
   "source": [
    "#np.clip"
   ]
  },
  {
   "cell_type": "code",
   "execution_count": null,
   "id": "382009b7",
   "metadata": {},
   "outputs": [],
   "source": [
    "src = cv2.imread(\"./data/lenna.bmp\", cv2.IMREAD_GRAYSCALE)\n",
    "dst = np.empty(src.shape, src.dtype)\n",
    "\n",
    "dst =np.clip(src+100,0,255) #상한선 하한선\n",
    "\n",
    "cv2.imshow(\"src\", src)\n",
    "cv2.imshow(\"dst\", dst)\n",
    "cv2.waitKey()\n",
    "cv2.destroyAllWindows()"
   ]
  },
  {
   "cell_type": "code",
   "execution_count": null,
   "id": "fe88c6a3",
   "metadata": {},
   "outputs": [],
   "source": [
    "#cv2.add(): 포화연산까지 포함해서 밝기값 조정\n",
    "src = cv2.imread(\"./data/lenna.bmp\", cv2.IMREAD_GRAYSCALE)\n",
    "dst= cv2.add(src, 100)\n",
    "\n",
    "\n",
    "cv2.imshow(\"src\", src)\n",
    "cv2.imshow(\"dst\", dst)\n",
    "cv2.waitKey()\n",
    "cv2.destroyAllWindows()"
   ]
  },
  {
   "cell_type": "code",
   "execution_count": null,
   "id": "1a964b03",
   "metadata": {},
   "outputs": [],
   "source": [
    "def update(pos):\n",
    "    dst= cv2.add(src, 100)\n",
    "    cv.imshow('dst',dst)"
   ]
  },
  {
   "cell_type": "code",
   "execution_count": null,
   "id": "a3111da5",
   "metadata": {},
   "outputs": [],
   "source": [
    "#트랙바로 밝기 조정\n",
    "src = cv2.imread(\"./data/lenna.bmp\", cv2.IMREAD_GRAYSCALE)\n",
    "\n",
    "dst= src.copy()\n",
    "\n",
    "#cv2.createTrackbar(트랙바 이름, 윈도우 이름, 트랙바의 최저, 트랙바의최고, 이벤트발생시 호출될 함수)\n",
    "cv2.createTrackbar('brightness','dst',0,100,update)\n",
    "cv2.imshow(\"src\", src)\n",
    "#cv2.imshow(\"dst\", dst)\n",
    "cv2.waitKey()\n",
    "cv2.destroyAllWindows()"
   ]
  },
  {
   "cell_type": "code",
   "execution_count": null,
   "id": "6216a431",
   "metadata": {},
   "outputs": [],
   "source": []
  },
  {
   "cell_type": "markdown",
   "id": "f62925f1",
   "metadata": {},
   "source": [
    "# 영상의 명암비 조절"
   ]
  },
  {
   "cell_type": "code",
   "execution_count": null,
   "id": "6286edb5",
   "metadata": {},
   "outputs": [],
   "source": [
    "#단순 상수를 곱해서 명암비 조절: 포화연산으로 효과 별로 없음. 거의 사용하지 않음\n",
    "src = cv2.imread(\"./data/lenna.bmp\", cv2.IMREAD_GRAYSCALE)\n",
    "\n",
    "s = 2\n",
    "cv2.multiply(src, s)\n",
    "\n",
    "cv2.imshow(\"src\", src)\n",
    "cv2.imshow(\"dst\", dst)\n",
    "cv2.waitKey()\n",
    "cv2.destroyAllWindows()"
   ]
  },
  {
   "cell_type": "code",
   "execution_count": null,
   "id": "5a92a6c1",
   "metadata": {},
   "outputs": [],
   "source": [
    "src = cv2.imread(\"./data/lenna.bmp\", cv2.IMREAD_GRAYSCALE)\n",
    "\n",
    "alpha = 1.0\n",
    "dst = np.clip((src + (src-128)*alpha),0,255).astype(np.unit8)\n",
    "\n",
    "cv2.imshow(\"src\", src)\n",
    "cv2.imshow(\"dst\", dst)\n",
    "cv2.waitKey()\n",
    "cv2.destroyAllWindows()"
   ]
  },
  {
   "cell_type": "markdown",
   "id": "7e693b54",
   "metadata": {},
   "source": [
    "# 히스토그램 분석"
   ]
  },
  {
   "cell_type": "markdown",
   "id": "5fd12a43",
   "metadata": {},
   "source": [
    "### 히스토그램 구하기 (간단한 행렬)"
   ]
  },
  {
   "cell_type": "code",
   "execution_count": null,
   "id": "abb5ab06",
   "metadata": {},
   "outputs": [],
   "source": []
  },
  {
   "cell_type": "code",
   "execution_count": null,
   "id": "93604f59",
   "metadata": {},
   "outputs": [],
   "source": []
  },
  {
   "cell_type": "markdown",
   "id": "d957cdda",
   "metadata": {},
   "source": [
    "### 히스토그램 구하기 (lena 이미지)"
   ]
  },
  {
   "cell_type": "code",
   "execution_count": null,
   "id": "5e0b0e6a",
   "metadata": {},
   "outputs": [],
   "source": []
  },
  {
   "cell_type": "code",
   "execution_count": null,
   "id": "69326409",
   "metadata": {},
   "outputs": [],
   "source": []
  },
  {
   "cell_type": "markdown",
   "id": "86a0e0b1",
   "metadata": {},
   "source": [
    "### 컬러 채널별 히스토그램 구하기 (lena 이미지)"
   ]
  },
  {
   "cell_type": "code",
   "execution_count": null,
   "id": "2e837168",
   "metadata": {},
   "outputs": [],
   "source": []
  },
  {
   "cell_type": "code",
   "execution_count": null,
   "id": "841531db",
   "metadata": {},
   "outputs": [],
   "source": []
  },
  {
   "cell_type": "markdown",
   "id": "a8981865",
   "metadata": {},
   "source": [
    "### 히스토그램 스트레칭(Grayscale Image)"
   ]
  },
  {
   "cell_type": "code",
   "execution_count": null,
   "id": "02b24079",
   "metadata": {},
   "outputs": [],
   "source": []
  },
  {
   "cell_type": "code",
   "execution_count": null,
   "id": "f8a000a8",
   "metadata": {},
   "outputs": [],
   "source": []
  },
  {
   "cell_type": "markdown",
   "id": "52496b12",
   "metadata": {},
   "source": [
    "### 히스토그램 평활화 (Grayscale Image)"
   ]
  },
  {
   "cell_type": "code",
   "execution_count": null,
   "id": "4a5e2d12",
   "metadata": {},
   "outputs": [],
   "source": []
  },
  {
   "cell_type": "code",
   "execution_count": null,
   "id": "aee8bac6",
   "metadata": {},
   "outputs": [],
   "source": []
  },
  {
   "cell_type": "markdown",
   "id": "68cefc77",
   "metadata": {},
   "source": [
    "### 히스토그램 평활화 (Color Image)"
   ]
  },
  {
   "cell_type": "code",
   "execution_count": null,
   "id": "cace037f",
   "metadata": {},
   "outputs": [],
   "source": []
  },
  {
   "cell_type": "code",
   "execution_count": null,
   "id": "50e9a660",
   "metadata": {},
   "outputs": [],
   "source": []
  },
  {
   "cell_type": "markdown",
   "id": "8addb021",
   "metadata": {},
   "source": [
    "# 영상의 산술 연산"
   ]
  },
  {
   "cell_type": "code",
   "execution_count": null,
   "id": "5314c93a",
   "metadata": {},
   "outputs": [],
   "source": []
  },
  {
   "cell_type": "code",
   "execution_count": null,
   "id": "2f86019c",
   "metadata": {},
   "outputs": [],
   "source": []
  },
  {
   "cell_type": "markdown",
   "id": "12be08ff",
   "metadata": {},
   "source": [
    "# 영상의 논리 연산"
   ]
  },
  {
   "cell_type": "code",
   "execution_count": null,
   "id": "0c8620ad",
   "metadata": {},
   "outputs": [],
   "source": []
  },
  {
   "cell_type": "code",
   "execution_count": null,
   "id": "f522eca0",
   "metadata": {},
   "outputs": [],
   "source": []
  },
  {
   "cell_type": "markdown",
   "id": "d9df68c4",
   "metadata": {},
   "source": [
    "### Workshop : bitwise 연산 "
   ]
  },
  {
   "cell_type": "code",
   "execution_count": null,
   "id": "46e0934c",
   "metadata": {},
   "outputs": [],
   "source": []
  },
  {
   "cell_type": "code",
   "execution_count": null,
   "id": "cf0f743c",
   "metadata": {},
   "outputs": [],
   "source": []
  },
  {
   "cell_type": "code",
   "execution_count": null,
   "id": "6e530d62",
   "metadata": {},
   "outputs": [],
   "source": []
  },
  {
   "cell_type": "code",
   "execution_count": null,
   "id": "52dfdc9e",
   "metadata": {},
   "outputs": [],
   "source": []
  }
 ],
 "metadata": {
  "kernelspec": {
   "display_name": "Python 3 (ipykernel)",
   "language": "python",
   "name": "python3"
  },
  "language_info": {
   "codemirror_mode": {
    "name": "ipython",
    "version": 3
   },
   "file_extension": ".py",
   "mimetype": "text/x-python",
   "name": "python",
   "nbconvert_exporter": "python",
   "pygments_lexer": "ipython3",
   "version": "3.9.7"
  }
 },
 "nbformat": 4,
 "nbformat_minor": 5
}
