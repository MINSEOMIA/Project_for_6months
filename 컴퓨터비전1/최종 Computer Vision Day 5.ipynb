{
 "cells": [
  {
   "cell_type": "markdown",
   "id": "a4e17b34",
   "metadata": {},
   "source": [
    "# 에지 검출과 응용"
   ]
  },
  {
   "cell_type": "code",
   "execution_count": 2,
   "id": "c76ccc75",
   "metadata": {},
   "outputs": [],
   "source": [
    "import cv2\n",
    "import numpy as np\n",
    "import sys"
   ]
  },
  {
   "cell_type": "markdown",
   "id": "46991b45",
   "metadata": {},
   "source": [
    "## 마스크 기반 에지 검출 - 소벨 마스크"
   ]
  },
  {
   "cell_type": "code",
   "execution_count": 15,
   "id": "8ad9f11c",
   "metadata": {},
   "outputs": [],
   "source": [
    "src = cv2.imread(\"./data/lenna.bmp\", cv2.IMREAD_GRAYSCALE)\n",
    "\n",
    "Mx = np.array(\n",
    "    [[-1, 0, 1],\n",
    "     [-2, 0, 2],\n",
    "     [-1, 0, 1]], dtype= np.float32) # 소벨 마스크 (x방향 미분 마스크)\n",
    "\n",
    "My = np.array(\n",
    "    [[-1, -2, -1],\n",
    "     [0, 0, 0],\n",
    "     [1, 2, 1]], dtype= np.float32) # 소벨 마스크 (y방향 미분 마스크)\n",
    "\n",
    "dx = cv2.filter2D(src, -1, Mx, delta=128) # dx : x방향 필터와 원본 이미지 간의 마스크 연산의 결과(미분값)\n",
    "dy = cv2.filter2D(src, -1, My, delta=128) # dy : y방향 필터와 원본 이미지 간의 마스크 연산의 결과(미분값)\n",
    "\n",
    "cv2.imshow(\"src\", src)\n",
    "cv2.imshow(\"dx\", dx)\n",
    "cv2.imshow(\"dy\", dy)\n",
    "cv2.waitKey()\n",
    "cv2.destroyAllWindows()"
   ]
  },
  {
   "cell_type": "code",
   "execution_count": 27,
   "id": "779d5e20",
   "metadata": {},
   "outputs": [],
   "source": [
    "src = cv2.imread(\"./data/lenna.bmp\", cv2.IMREAD_GRAYSCALE)\n",
    "\n",
    "# sobel mask 준비 없이, 원본간의 마스크 연산을 한번에..\n",
    "dx = cv2.Sobel(src, cv2.CV_32FC1, 1, 0) # dx : x방향 필터와 원본 이미지 간의 마스크 연산의 결과(미분값)\n",
    "dy = cv2.Sobel(src, cv2.CV_32FC1, 0, 1) # dy : y방향 필터와 원본 이미지 간의 마스크 연산의 결과(미분값)\n",
    "# --> cv2.filter2D()와 다르게 타입이 float32이고, 포화연산이 안되어 있는 상태\n",
    "\n",
    "fmag = cv2.magnitude(dx, dy) # dx, dy 각각의 미분값을 벡터(그레디언트)의 크기로 반환\n",
    "mag = np.clip(fmag, 0, 255).astype(np.uint8)\n",
    "\n",
    "T = 160\n",
    "_, edge = cv2.threshold(mag, T, 255, cv2.THRESH_BINARY)\n",
    "\n",
    "\n",
    "cv2.imshow(\"src\", src)\n",
    "cv2.imshow(\"mag\", mag)\n",
    "cv2.imshow(\"edge\", edge)\n",
    "cv2.waitKey()\n",
    "cv2.destroyAllWindows()"
   ]
  },
  {
   "cell_type": "markdown",
   "id": "0333b457",
   "metadata": {},
   "source": [
    "## 캐니 에지 검출기"
   ]
  },
  {
   "cell_type": "code",
   "execution_count": 29,
   "id": "2161993d",
   "metadata": {},
   "outputs": [],
   "source": [
    "src = cv2.imread(\"./data/lenna.bmp\", cv2.IMREAD_GRAYSCALE)\n",
    "\n",
    "# low threshold, high threshold를 변경해 가면서 영상 결과 확인\n",
    "dst1 = cv2.Canny(src, 50, 100) \n",
    "dst2 = cv2.Canny(src, 100, 200)\n",
    "\n",
    "cv2.imshow(\"dst1\", dst1)\n",
    "cv2.imshow(\"dst2\", dst2)\n",
    "cv2.waitKey()\n",
    "cv2.destroyAllWindows()"
   ]
  },
  {
   "cell_type": "markdown",
   "id": "986f119d",
   "metadata": {},
   "source": [
    "## 허프 변환 직선 검출"
   ]
  },
  {
   "cell_type": "code",
   "execution_count": 30,
   "id": "253c88a0",
   "metadata": {},
   "outputs": [],
   "source": [
    "import math"
   ]
  },
  {
   "cell_type": "code",
   "execution_count": 53,
   "id": "e7f3942a",
   "metadata": {},
   "outputs": [],
   "source": [
    "src = cv2.imread(\"./data/building.jpg\", cv2.IMREAD_GRAYSCALE)\n",
    "\n",
    "\n",
    "edge = cv2.Canny(src, 100, 200) #(src, low threshold, high threshold)\n",
    "                                # low:high = 1:2, 1:3\n",
    "\n",
    "rho = 1\n",
    "theta = math.pi/180.\n",
    "threshold = 160 # 축적배열에 직선으로 많이 교차하는 위치의 값이 threshold 이상 넘어갈 때 직선으로 간주\n",
    "minlineLength = 50\n",
    "maxlineGap = 5\n",
    "lines = cv2.HoughLinesP(edge, rho, theta, threshold,minLineLength= minlineLength, maxLineGap=maxlineGap)\n",
    "\n",
    "dst = cv2.cvtColor(edge,cv2.COLOR_GRAY2BGR) # dst 에 color로 그리기 위해 3 channel 준비\n",
    "if lines is not None: # 라인 정보를 받았으면\n",
    "    for i in range(lines.shape[0]):\n",
    "        pt1 = (lines[i][0][0], lines[i][0][1])\n",
    "        pt2 = (lines[i][0][2], lines[i][0][3])\n",
    "        cv2.line(dst, pt1, pt2, (0, 0, 255), 2, cv2.LINE_AA)\n",
    "        \n",
    "cv2.imshow('src',src)\n",
    "cv2.imshow('dst',dst)\n",
    "cv2.waitKey()\n",
    "cv2.destroyAllWindows()"
   ]
  },
  {
   "cell_type": "markdown",
   "id": "87a02a31",
   "metadata": {},
   "source": [
    "-- HoughLinesP()의 파라미터를 변경하면서 비교해 볼 수 있는 코드 (by 성록)"
   ]
  },
  {
   "cell_type": "code",
   "execution_count": 59,
   "id": "92502512",
   "metadata": {},
   "outputs": [],
   "source": [
    "src = cv2.imread(\"./data/building.jpg\", cv2.IMREAD_GRAYSCALE)\n",
    "\n",
    "for i in range(100, 200, 10):\n",
    "    edge = cv2.Canny(src, 80, 240) #(src, low threshold, high threshold) #보통 1:2~3 비율로 한다. \n",
    "    rho = 1\n",
    "    theta = math.pi/180.\n",
    "    threshold = i #선 인식 조절 \n",
    "    minlineLength = 50\n",
    "    threshold_1 = 120\n",
    "    minlineLength_1 = i-90\n",
    "    maxlineGap = 5\n",
    "    lines = cv2.HoughLinesP(edge, rho, theta, threshold,minLineLength= minlineLength, maxLineGap=maxlineGap)# 라인 데이터 받기\n",
    "    lines_1 = cv2.HoughLinesP(edge, rho, theta, threshold_1,minLineLength= minlineLength_1, maxLineGap=maxlineGap)# 라인 데이터 받기\n",
    "    dst = cv2.cvtColor(edge,cv2.COLOR_GRAY2BGR)\n",
    "    desc = 'HoughLinesP: threshold %d' % (i)\n",
    "    cv2.putText(dst, desc, (10,590), cv2.FONT_HERSHEY_SIMPLEX, 1.0,200,1,cv2.LINE_AA)\n",
    "\n",
    "\n",
    "    if lines is not None: \n",
    "        for i in range(lines.shape[0]):\n",
    "            pt1 = (lines[i][0][0], lines[i][0][1])\n",
    "            pt2 = (lines[i][0][2], lines[i][0][3])\n",
    "            cv2.line(dst, pt1, pt2, (0, 0, 255), 2, cv2.LINE_AA)\n",
    "    dst_1 = cv2.cvtColor(edge,cv2.COLOR_GRAY2BGR)\n",
    "    desc_1 = 'HoughLinesP: minlineLength %d' % (minlineLength_1)\n",
    "    cv2.putText(dst_1, desc_1, (10,590), cv2.FONT_HERSHEY_SIMPLEX, 1.0,200,1,cv2.LINE_AA)\n",
    "    if lines_1 is not None: \n",
    "        for i in range(lines_1.shape[0]):\n",
    "            pt1 = (lines_1[i][0][0], lines_1[i][0][1])\n",
    "            pt2 = (lines_1[i][0][2], lines_1[i][0][3])\n",
    "            cv2.line(dst_1, pt1, pt2, (0, 0, 255), 2, cv2.LINE_AA)\n",
    "            \n",
    "    cv2.imshow('dst_1',dst_1)\n",
    "    cv2.imshow('dst',dst)\n",
    "    cv2.waitKey()\n",
    "cv2.destroyAllWindows()\n"
   ]
  },
  {
   "cell_type": "markdown",
   "id": "ad136a86",
   "metadata": {},
   "source": [
    "## 허프 변환 원 검출"
   ]
  },
  {
   "cell_type": "code",
   "execution_count": 80,
   "id": "1735ce87",
   "metadata": {},
   "outputs": [],
   "source": [
    "src = cv2.imread(\"./data/coins.png\", cv2.IMREAD_GRAYSCALE)\n",
    "\n",
    "blurred = cv2.blur(src, (3, 3))\n",
    "\n",
    "circles = cv2.HoughCircles(blurred, cv2.HOUGH_GRADIENT, dp=1, minDist=50, \n",
    "                 param1=150, param2=30)\n",
    "\n",
    "dst = cv2.cvtColor(src, cv2.COLOR_GRAY2BGR)\n",
    "\n",
    "if circles is not None:\n",
    "    for i in range(circles.shape[1]):\n",
    "        cx, cy, radius = circles[0][i]\n",
    "        cv2.circle(dst, (np.uint32(cx), np.uint32(cy)), np.uint32(radius), (0, 0, 255), 2)\n",
    "\n",
    "cv2.imshow('src',src)\n",
    "cv2.imshow('dst',dst)\n",
    "cv2.imshow('blurred',blurred)\n",
    "cv2.waitKey()\n",
    "cv2.destroyAllWindows()"
   ]
  }
 ],
 "metadata": {
  "kernelspec": {
   "display_name": "Python 3 (ipykernel)",
   "language": "python",
   "name": "python3"
  },
  "language_info": {
   "codemirror_mode": {
    "name": "ipython",
    "version": 3
   },
   "file_extension": ".py",
   "mimetype": "text/x-python",
   "name": "python",
   "nbconvert_exporter": "python",
   "pygments_lexer": "ipython3",
   "version": "3.9.5"
  }
 },
 "nbformat": 4,
 "nbformat_minor": 5
}
