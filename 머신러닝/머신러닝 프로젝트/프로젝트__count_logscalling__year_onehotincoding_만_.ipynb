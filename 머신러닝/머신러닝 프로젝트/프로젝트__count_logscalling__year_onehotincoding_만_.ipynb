{
  "nbformat": 4,
  "nbformat_minor": 0,
  "metadata": {
    "colab": {
      "name": "프로젝트_#count logscalling_#year onehotincoding 만 .ipynb",
      "provenance": [],
      "collapsed_sections": []
    },
    "kernelspec": {
      "name": "python3",
      "display_name": "Python 3"
    },
    "language_info": {
      "name": "python"
    }
  },
  "cells": [
    {
      "cell_type": "code",
      "execution_count": null,
      "metadata": {
        "id": "iJHRZaVblzGN"
      },
      "outputs": [],
      "source": [
        "import numpy as np # linear algebra\n",
        "import pandas as pd # data processing, CSV file I/O (e.g. pd.read_csv)\n",
        "\n",
        "# Input data files are available in the read-only \"../input/\" directory\n",
        "# For example, running this (by clicking run or pressing Shift+Enter) will list all files under the input directory\n",
        "\n",
        "import os\n",
        "for dirname, _, filenames in os.walk('/kaggle/input'):\n",
        "    for filename in filenames:\n",
        "        print(os.path.join(dirname, filename))\n",
        "\n",
        "# You can write up to 20GB to the current directory (/kaggle/working/) that gets preserved as output when you create a version using \"Save & Run All\" \n",
        "# You can also write temporary files to /kaggle/temp/, but they won't be saved outside of the current session"
      ]
    },
    {
      "cell_type": "code",
      "source": [
        "import matplotlib.pyplot as plt\n",
        "import seaborn as sns\n",
        "%matplotlib inline"
      ],
      "metadata": {
        "id": "T5cYLURrmGIj"
      },
      "execution_count": null,
      "outputs": []
    },
    {
      "cell_type": "code",
      "source": [
        "train_df = pd.read_csv('/content/train.csv')\n",
        "test_df = pd.read_csv('/content/test.csv')"
      ],
      "metadata": {
        "id": "JvFx0KJ1mGF0"
      },
      "execution_count": null,
      "outputs": []
    },
    {
      "cell_type": "code",
      "source": [
        "train_df['datetime'] = pd.to_datetime(train_df['datetime'])\n",
        "test_df['datetime'] = pd.to_datetime(test_df['datetime'])"
      ],
      "metadata": {
        "id": "-hQloSD-mGDe"
      },
      "execution_count": null,
      "outputs": []
    },
    {
      "cell_type": "code",
      "source": [
        "train_df['year'] = train_df['datetime'].apply(lambda x: x.year)\n",
        "train_df['month'] = train_df['datetime'].apply(lambda x: x.month)\n",
        "train_df['day'] = train_df['datetime'].apply(lambda x: x.day)\n",
        "train_df['hour'] = train_df['datetime'].apply(lambda x: x.hour)\n",
        "\n",
        "test_df['year'] = test_df['datetime'].apply(lambda x: x.year)\n",
        "test_df['month'] = test_df['datetime'].apply(lambda x: x.month)\n",
        "test_df['day'] = test_df['datetime'].apply(lambda x: x.day)\n",
        "test_df['hour'] = test_df['datetime'].apply(lambda x: x.hour)"
      ],
      "metadata": {
        "id": "WzBQr903mGA7"
      },
      "execution_count": null,
      "outputs": []
    },
    {
      "cell_type": "code",
      "source": [
        "train_df = train_df.drop(['datetime', 'casual', 'registered'], axis=1)\n",
        "test_df = test_df.drop(['datetime'], axis=1)"
      ],
      "metadata": {
        "id": "-YSOPlAzmF-S"
      },
      "execution_count": null,
      "outputs": []
    },
    {
      "cell_type": "code",
      "source": [
        "from collections import Counter \n",
        "\n",
        "def detect_outliers(df, n, features):\n",
        "    outlier_indices = []\n",
        "    for col in features:\n",
        "        Q1 = np.percentile(df[col], 25)\n",
        "        Q3 = np.percentile(df[col], 75)\n",
        "        IQR = Q3 - Q1\n",
        "        \n",
        "        outlier_step = 1.5 * IQR\n",
        "        \n",
        "        outlier_list_col = df[(df[col] < Q1 - outlier_step) | (df[col] > Q3 + outlier_step)].index\n",
        "        outlier_indices.extend(outlier_list_col)\n",
        "    outlier_indices = Counter(outlier_indices)\n",
        "    multiple_outliers = list(k for k, v in outlier_indices.items() if v > n)\n",
        "        \n",
        "    return multiple_outliers\n",
        "        \n",
        "Outliers_to_drop = detect_outliers(train, 2, [\"temp\", \"atemp\", \"humidity\", \"windspeed\",\"registered\", \"casual\",\"count\"])"
      ],
      "metadata": {
        "id": "OyyD_lF4tgt9"
      },
      "execution_count": null,
      "outputs": []
    },
    {
      "cell_type": "code",
      "source": [
        "def rmsle(y, pred):\n",
        "    log_y = np.log1p(y)\n",
        "    log_pred = np.log1p(pred)\n",
        "    squared_error = (log_y - log_pred)**2\n",
        "    rmsle = np.sqrt(np.mean(squared_error))\n",
        "    return rmsle"
      ],
      "metadata": {
        "id": "DcefioW7mF5d"
      },
      "execution_count": null,
      "outputs": []
    },
    {
      "cell_type": "code",
      "source": [
        "sns.distplot(np.log1p(train_df['count']))"
      ],
      "metadata": {
        "colab": {
          "base_uri": "https://localhost:8080/",
          "height": 355
        },
        "id": "w58aozZOmF3B",
        "outputId": "b6c71ebf-3c3e-4618-c9fe-67ca79bb6f4c"
      },
      "execution_count": null,
      "outputs": [
        {
          "output_type": "stream",
          "name": "stderr",
          "text": [
            "/usr/local/lib/python3.7/dist-packages/seaborn/distributions.py:2619: FutureWarning: `distplot` is a deprecated function and will be removed in a future version. Please adapt your code to use either `displot` (a figure-level function with similar flexibility) or `histplot` (an axes-level function for histograms).\n",
            "  warnings.warn(msg, FutureWarning)\n"
          ]
        },
        {
          "output_type": "execute_result",
          "data": {
            "text/plain": [
              "<matplotlib.axes._subplots.AxesSubplot at 0x7f800bb86990>"
            ]
          },
          "metadata": {},
          "execution_count": 8
        },
        {
          "output_type": "display_data",
          "data": {
            "text/plain": [
              "<Figure size 432x288 with 1 Axes>"
            ],
            "image/png": "[encoded data removed]"
          },
          "metadata": {
            "needs_background": "light"
          }
        }
      ]
    },
    {
      "cell_type": "code",
      "source": [
        "train_df['count'] = np.log1p(train_df['count'])"
      ],
      "metadata": {
        "id": "b5G0QWFHmF0Z"
      },
      "execution_count": null,
      "outputs": []
    },
    {
      "cell_type": "code",
      "source": [
        "from sklearn.model_selection import train_test_split, GridSearchCV\n",
        "from sklearn.linear_model import LinearRegression, Ridge, Lasso\n",
        "\n",
        "X_train, X_test, y_train, y_test = train_test_split(train_df.drop(['count'], axis=1), train_df['count'], test_size=0.3)"
      ],
      "metadata": {
        "id": "67xuucYMmFxz"
      },
      "execution_count": null,
      "outputs": []
    },
    {
      "cell_type": "code",
      "source": [
        "lr_reg = LinearRegression()\n",
        "lr_reg.fit(X_train, y_train)\n",
        "pred = lr_reg.predict(X_test)\n",
        "\n",
        "y_test_exp = np.expm1(y_test)\n",
        "pred_exp = np.expm1(pred)\n",
        "print('RMSLE:', rmsle(y_test_exp, pred_exp))"
      ],
      "metadata": {
        "colab": {
          "base_uri": "https://localhost:8080/"
        },
        "id": "CKKBBdLYmxk1",
        "outputId": "6357846c-1aac-4d74-dddf-3a2d2050f805"
      },
      "execution_count": null,
      "outputs": [
        {
          "output_type": "stream",
          "name": "stdout",
          "text": [
            "RMSLE: 1.012747014102974\n"
          ]
        }
      ]
    },
    {
      "cell_type": "code",
      "source": [
        "coef = pd.Series(lr_reg.coef_, index=X_train.columns)\n",
        "coef_sort = coef.sort_values(ascending=False)\n",
        "sns.barplot(x=coef_sort.values, y=coef_sort.index)"
      ],
      "metadata": {
        "colab": {
          "base_uri": "https://localhost:8080/",
          "height": 284
        },
        "id": "AlwD5al_nY7D",
        "outputId": "c0478e36-1fe9-440d-cafd-7d245d597b77"
      },
      "execution_count": null,
      "outputs": [
        {
          "output_type": "execute_result",
          "data": {
            "text/plain": [
              "<matplotlib.axes._subplots.AxesSubplot at 0x7f80060519d0>"
            ]
          },
          "metadata": {},
          "execution_count": 13
        },
        {
          "output_type": "display_data",
          "data": {
            "text/plain": [
              "<Figure size 432x288 with 1 Axes>"
            ],
            "image/png": "[encoded data removed]"
          },
          "metadata": {
            "needs_background": "light"
          }
        }
      ]
    },
    {
      "cell_type": "code",
      "source": [
        "train_df = pd.get_dummies(train_df, columns=['year', 'month', 'day', 'hour', 'holiday', 'workingday', 'season', 'weather'])\n",
        "test_df = pd.get_dummies(test_df, columns=['year', 'month', 'day', 'hour', 'holiday', 'workingday', 'season', 'weather'])"
      ],
      "metadata": {
        "id": "6uiOGcJxmxi2"
      },
      "execution_count": null,
      "outputs": []
    },
    {
      "cell_type": "code",
      "source": [
        "train_df, test_df = train_df.align(test_df, join='left', axis=1)\n",
        "test_df = test_df.drop(['count'], axis=1)"
      ],
      "metadata": {
        "id": "wyrMArRUmxgg"
      },
      "execution_count": null,
      "outputs": []
    },
    {
      "cell_type": "code",
      "source": [
        " X_train, X_test, y_train, y_test = train_test_split(train_df.drop(['count'], axis=1), train_df['count'], test_size=0.3)"
      ],
      "metadata": {
        "id": "H_o8InUYnw9D"
      },
      "execution_count": null,
      "outputs": []
    },
    {
      "cell_type": "code",
      "source": [
        "lr_reg = LinearRegression()\n",
        "lr_reg.fit(X_train, y_train)\n",
        "pred = lr_reg.predict(X_test)\n",
        "\n",
        "y_test_exp = np.expm1(y_test)\n",
        "pred_exp = np.expm1(pred)\n",
        "print('LinearRegression RMSLE:', rmsle(y_test_exp, pred_exp))"
      ],
      "metadata": {
        "colab": {
          "base_uri": "https://localhost:8080/"
        },
        "id": "OAMhjGlnn0I5",
        "outputId": "aabff1d5-3aed-4457-ca22-31ea6580d991"
      },
      "execution_count": null,
      "outputs": [
        {
          "output_type": "stream",
          "name": "stdout",
          "text": [
            "LinearRegression RMSLE: inf\n"
          ]
        },
        {
          "output_type": "stream",
          "name": "stderr",
          "text": [
            "/usr/local/lib/python3.7/dist-packages/ipykernel_launcher.py:6: RuntimeWarning: overflow encountered in expm1\n",
            "  \n"
          ]
        }
      ]
    },
    {
      "cell_type": "code",
      "source": [
        "ridge_reg = Ridge(alpha=10)\n",
        "ridge_reg.fit(X_train, y_train)\n",
        "pred = ridge_reg.predict(X_test)\n",
        "\n",
        "y_test_exp = np.expm1(y_test)\n",
        "pred_exp = np.expm1(pred)\n",
        "print('Ridge RMSLE:', rmsle(y_test_exp, pred_exp))"
      ],
      "metadata": {
        "colab": {
          "base_uri": "https://localhost:8080/"
        },
        "id": "ZAg3awAHoBuG",
        "outputId": "293a5136-f3aa-4d90-cde3-7e1b8c55b582"
      },
      "execution_count": null,
      "outputs": [
        {
          "output_type": "stream",
          "name": "stdout",
          "text": [
            "Ridge RMSLE: 0.5844481961712159\n"
          ]
        }
      ]
    },
    {
      "cell_type": "code",
      "source": [
        "lasso_reg = Lasso(alpha=0.01)\n",
        "lasso_reg.fit(X_train, y_train)\n",
        "pred = lasso_reg.predict(X_test)\n",
        "\n",
        "y_test_exp = np.expm1(y_test)\n",
        "pred_exp = np.expm1(pred)\n",
        "print('Lasso RMSLE:', rmsle(y_test_exp, pred_exp))"
      ],
      "metadata": {
        "colab": {
          "base_uri": "https://localhost:8080/"
        },
        "id": "iS1UwvqEoFqC",
        "outputId": "5b9fc35f-831c-45e2-8b59-12ca7ba53d70"
      },
      "execution_count": null,
      "outputs": [
        {
          "output_type": "stream",
          "name": "stdout",
          "text": [
            "Lasso RMSLE: 0.643241027577229\n"
          ]
        }
      ]
    },
    {
      "cell_type": "code",
      "source": [
        "from sklearn.ensemble import RandomForestRegressor, GradientBoostingRegressor\n",
        "from xgboost import XGBRegressor\n",
        "from lightgbm import LGBMRegressor"
      ],
      "metadata": {
        "id": "LN9qJVM7obgj"
      },
      "execution_count": null,
      "outputs": []
    },
    {
      "cell_type": "code",
      "source": [
        "rf_reg = RandomForestRegressor(n_estimators=500)\n",
        "rf_reg.fit(X_train, y_train)\n",
        "pred = rf_reg.predict(X_test)\n",
        "\n",
        "y_test_exp = np.expm1(y_test)\n",
        "pred_exp = np.expm1(pred)\n",
        "print('RandomForestRegressor RMSLE:', rmsle(y_test_exp, pred_exp))"
      ],
      "metadata": {
        "colab": {
          "base_uri": "https://localhost:8080/"
        },
        "id": "HAiBTTUoogw4",
        "outputId": "7771e02e-e5dd-472d-9efb-a73d00fd0852"
      },
      "execution_count": null,
      "outputs": [
        {
          "output_type": "stream",
          "name": "stdout",
          "text": [
            "RandomForestRegressor RMSLE: 0.3531622723557044\n"
          ]
        }
      ]
    },
    {
      "cell_type": "code",
      "source": [
        "gbm_reg = GradientBoostingRegressor(n_estimators=500)\n",
        "gbm_reg.fit(X_train, y_train)\n",
        "pred = gbm_reg.predict(X_test)\n",
        "\n",
        "y_test_exp = np.expm1(y_test)\n",
        "pred_exp = np.expm1(pred)\n",
        "print('GradientBoostingRegressor RMSLE:', rmsle(y_test_exp, pred_exp))"
      ],
      "metadata": {
        "colab": {
          "base_uri": "https://localhost:8080/"
        },
        "id": "Ial8dupao2ik",
        "outputId": "189605b2-5f3d-408e-8d4e-87b90fdfc2be"
      },
      "execution_count": null,
      "outputs": [
        {
          "output_type": "stream",
          "name": "stdout",
          "text": [
            "GradientBoostingRegressor RMSLE: 0.3425101664910409\n"
          ]
        }
      ]
    }
  ]
}