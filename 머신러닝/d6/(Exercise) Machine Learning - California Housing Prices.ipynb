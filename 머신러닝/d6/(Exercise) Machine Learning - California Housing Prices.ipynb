{
 "cells": [
  {
   "cell_type": "markdown",
   "id": "5936b16b",
   "metadata": {},
   "source": [
    "# 캘리포니아 주택 가격 예측 모델 만들기"
   ]
  },
  {
   "cell_type": "markdown",
   "id": "234bf2a1",
   "metadata": {},
   "source": [
    "## Import resource"
   ]
  },
  {
   "cell_type": "code",
   "execution_count": 1,
   "id": "c4ae362d",
   "metadata": {},
   "outputs": [],
   "source": [
    "import numpy as np\n",
    "import pandas as pd\n",
    "import sklearn\n",
    "import matplotlib.pyplot as plt\n",
    "from sklearn.model_selection import train_test_split"
   ]
  },
  {
   "cell_type": "markdown",
   "id": "a662273e",
   "metadata": {},
   "source": [
    "## 1. 데이터 가져오기"
   ]
  },
  {
   "cell_type": "code",
   "execution_count": null,
   "id": "62efd46f",
   "metadata": {},
   "outputs": [],
   "source": []
  },
  {
   "cell_type": "markdown",
   "id": "aa7d13ba",
   "metadata": {},
   "source": [
    "## 2. 데이터 훑어보기"
   ]
  },
  {
   "cell_type": "code",
   "execution_count": null,
   "id": "da03464e",
   "metadata": {},
   "outputs": [],
   "source": []
  },
  {
   "cell_type": "code",
   "execution_count": null,
   "id": "ababccc5",
   "metadata": {},
   "outputs": [],
   "source": []
  },
  {
   "cell_type": "code",
   "execution_count": null,
   "id": "99729a45",
   "metadata": {},
   "outputs": [],
   "source": []
  },
  {
   "cell_type": "code",
   "execution_count": null,
   "id": "7ed5a92d",
   "metadata": {},
   "outputs": [],
   "source": []
  },
  {
   "cell_type": "code",
   "execution_count": null,
   "id": "2cadcfc1",
   "metadata": {},
   "outputs": [],
   "source": []
  },
  {
   "cell_type": "markdown",
   "id": "5e4cb2e9",
   "metadata": {},
   "source": [
    "## 3. 데이터 세트 분리"
   ]
  },
  {
   "cell_type": "code",
   "execution_count": null,
   "id": "ebdf77a0",
   "metadata": {},
   "outputs": [],
   "source": []
  },
  {
   "cell_type": "code",
   "execution_count": null,
   "id": "cb5bf035",
   "metadata": {},
   "outputs": [],
   "source": []
  },
  {
   "cell_type": "code",
   "execution_count": null,
   "id": "7c5a936e",
   "metadata": {},
   "outputs": [],
   "source": []
  },
  {
   "cell_type": "code",
   "execution_count": null,
   "id": "39b99637",
   "metadata": {},
   "outputs": [],
   "source": []
  },
  {
   "cell_type": "markdown",
   "id": "1ec5cecc",
   "metadata": {},
   "source": [
    "## 4. 데이터 탐색"
   ]
  },
  {
   "cell_type": "code",
   "execution_count": null,
   "id": "352a3124",
   "metadata": {},
   "outputs": [],
   "source": []
  },
  {
   "cell_type": "markdown",
   "id": "47cf5520",
   "metadata": {},
   "source": [
    "### 4.1 지리적 데이터 시각화"
   ]
  },
  {
   "cell_type": "code",
   "execution_count": null,
   "id": "6246b8fe",
   "metadata": {},
   "outputs": [],
   "source": []
  },
  {
   "cell_type": "markdown",
   "id": "aefbda03",
   "metadata": {},
   "source": [
    "- (Question) 지리 정보를 통해 알수 있는것은?\n",
    "- (Answer) "
   ]
  },
  {
   "cell_type": "markdown",
   "id": "a7756c11",
   "metadata": {},
   "source": [
    "### 4.2 상관관계 조사"
   ]
  },
  {
   "cell_type": "code",
   "execution_count": null,
   "id": "4620bd0c",
   "metadata": {},
   "outputs": [],
   "source": []
  },
  {
   "cell_type": "code",
   "execution_count": null,
   "id": "f522137b",
   "metadata": {},
   "outputs": [],
   "source": []
  },
  {
   "cell_type": "markdown",
   "id": "c081cbd0",
   "metadata": {},
   "source": [
    "### 4.3 특성 조합으로 실험"
   ]
  },
  {
   "cell_type": "code",
   "execution_count": null,
   "id": "567fc8f4",
   "metadata": {},
   "outputs": [],
   "source": []
  },
  {
   "cell_type": "code",
   "execution_count": null,
   "id": "ceb3ca65",
   "metadata": {},
   "outputs": [],
   "source": []
  },
  {
   "cell_type": "markdown",
   "id": "cf13be90",
   "metadata": {},
   "source": [
    "## 5. 데이터 전처리 (머신러닝 알고리즘을 위한 데이터 준비)"
   ]
  },
  {
   "cell_type": "code",
   "execution_count": null,
   "id": "189ca0cb",
   "metadata": {},
   "outputs": [],
   "source": []
  },
  {
   "cell_type": "markdown",
   "id": "658f8e3b",
   "metadata": {},
   "source": [
    "### 5.1 데이터 전처리(1) - 결손값 처리"
   ]
  },
  {
   "cell_type": "code",
   "execution_count": null,
   "id": "e6a84a55",
   "metadata": {},
   "outputs": [],
   "source": []
  },
  {
   "cell_type": "code",
   "execution_count": null,
   "id": "18c37906",
   "metadata": {},
   "outputs": [],
   "source": []
  },
  {
   "cell_type": "markdown",
   "id": "273bd1d1",
   "metadata": {},
   "source": [
    "### 데이터 전처리(2) - 데이터 인코딩"
   ]
  },
  {
   "cell_type": "code",
   "execution_count": null,
   "id": "394165a1",
   "metadata": {},
   "outputs": [],
   "source": []
  },
  {
   "cell_type": "code",
   "execution_count": null,
   "id": "c199b0dc",
   "metadata": {},
   "outputs": [],
   "source": []
  },
  {
   "cell_type": "markdown",
   "id": "847c2844",
   "metadata": {},
   "source": [
    "#### 1) 레이블 인코딩"
   ]
  },
  {
   "cell_type": "code",
   "execution_count": null,
   "id": "8a06f641",
   "metadata": {},
   "outputs": [],
   "source": []
  },
  {
   "cell_type": "markdown",
   "id": "ed1de615",
   "metadata": {},
   "source": [
    "#### 2) 원-핫 인코딩"
   ]
  },
  {
   "cell_type": "code",
   "execution_count": null,
   "id": "72c13a10",
   "metadata": {},
   "outputs": [],
   "source": []
  },
  {
   "cell_type": "markdown",
   "id": "52d43539",
   "metadata": {},
   "source": [
    "### 데이터 전처리(3) - 특성 스케일링"
   ]
  },
  {
   "cell_type": "code",
   "execution_count": null,
   "id": "b4a05a41",
   "metadata": {},
   "outputs": [],
   "source": []
  },
  {
   "cell_type": "code",
   "execution_count": null,
   "id": "ba8c7f32",
   "metadata": {},
   "outputs": [],
   "source": []
  },
  {
   "cell_type": "markdown",
   "id": "0c906a7f",
   "metadata": {},
   "source": [
    "### 데이터 전처리(4) - 변환 파이프라인"
   ]
  },
  {
   "cell_type": "code",
   "execution_count": null,
   "id": "4886cacf",
   "metadata": {},
   "outputs": [],
   "source": []
  },
  {
   "cell_type": "code",
   "execution_count": null,
   "id": "44d9c6e3",
   "metadata": {},
   "outputs": [],
   "source": []
  },
  {
   "cell_type": "markdown",
   "id": "3af0b7e0",
   "metadata": {},
   "source": [
    "## 6. 모델 선택과 훈련"
   ]
  },
  {
   "cell_type": "markdown",
   "id": "1d3ce892",
   "metadata": {},
   "source": [
    "### 선형회귀 모델"
   ]
  },
  {
   "cell_type": "code",
   "execution_count": null,
   "id": "edb0f14c",
   "metadata": {},
   "outputs": [],
   "source": []
  },
  {
   "cell_type": "code",
   "execution_count": null,
   "id": "f5939d3f",
   "metadata": {},
   "outputs": [],
   "source": []
  },
  {
   "cell_type": "markdown",
   "id": "5987a4e0",
   "metadata": {},
   "source": [
    "### 결정 트리 모델"
   ]
  },
  {
   "cell_type": "code",
   "execution_count": null,
   "id": "95f6fa18",
   "metadata": {},
   "outputs": [],
   "source": []
  },
  {
   "cell_type": "code",
   "execution_count": null,
   "id": "e5d0f94d",
   "metadata": {},
   "outputs": [],
   "source": []
  },
  {
   "cell_type": "markdown",
   "id": "f2786544",
   "metadata": {},
   "source": [
    "### 교차 검증을 사용한 평가"
   ]
  },
  {
   "cell_type": "code",
   "execution_count": null,
   "id": "cdaf5d3e",
   "metadata": {},
   "outputs": [],
   "source": []
  },
  {
   "cell_type": "code",
   "execution_count": null,
   "id": "882b5f90",
   "metadata": {},
   "outputs": [],
   "source": []
  },
  {
   "cell_type": "markdown",
   "id": "cae40bba",
   "metadata": {},
   "source": [
    "### 랜덤 포레스트 모델"
   ]
  },
  {
   "cell_type": "code",
   "execution_count": null,
   "id": "82e11c1c",
   "metadata": {},
   "outputs": [],
   "source": []
  },
  {
   "cell_type": "code",
   "execution_count": null,
   "id": "1d96fcf9",
   "metadata": {},
   "outputs": [],
   "source": []
  },
  {
   "cell_type": "markdown",
   "id": "4cc04e9e",
   "metadata": {},
   "source": [
    "## 7. 모델 세부 튜닝"
   ]
  },
  {
   "cell_type": "markdown",
   "id": "c71d11bb",
   "metadata": {},
   "source": [
    "### 그리드 탐색"
   ]
  },
  {
   "cell_type": "code",
   "execution_count": null,
   "id": "32fa3130",
   "metadata": {},
   "outputs": [],
   "source": []
  },
  {
   "cell_type": "code",
   "execution_count": null,
   "id": "f8b636a4",
   "metadata": {},
   "outputs": [],
   "source": []
  },
  {
   "cell_type": "markdown",
   "id": "0bb5f791",
   "metadata": {},
   "source": [
    "### 랜덤 탐색"
   ]
  },
  {
   "cell_type": "code",
   "execution_count": null,
   "id": "75bd3c6f",
   "metadata": {},
   "outputs": [],
   "source": []
  },
  {
   "cell_type": "code",
   "execution_count": null,
   "id": "9dde23b2",
   "metadata": {},
   "outputs": [],
   "source": []
  },
  {
   "cell_type": "markdown",
   "id": "491afa1a",
   "metadata": {},
   "source": [
    "## 예측과 성능 평가"
   ]
  },
  {
   "cell_type": "code",
   "execution_count": null,
   "id": "98b39f39",
   "metadata": {},
   "outputs": [],
   "source": []
  },
  {
   "cell_type": "code",
   "execution_count": null,
   "id": "40594aef",
   "metadata": {},
   "outputs": [],
   "source": []
  },
  {
   "cell_type": "markdown",
   "id": "3f58a84e",
   "metadata": {},
   "source": [
    "## joblib를 사용한 모델 저장"
   ]
  },
  {
   "cell_type": "code",
   "execution_count": null,
   "id": "98288fe9",
   "metadata": {},
   "outputs": [],
   "source": []
  },
  {
   "cell_type": "code",
   "execution_count": null,
   "id": "8293cb9f",
   "metadata": {},
   "outputs": [],
   "source": []
  },
  {
   "cell_type": "code",
   "execution_count": null,
   "id": "1e2f18af",
   "metadata": {},
   "outputs": [],
   "source": []
  }
 ],
 "metadata": {
  "kernelspec": {
   "display_name": "Python 3 (ipykernel)",
   "language": "python",
   "name": "python3"
  },
  "language_info": {
   "codemirror_mode": {
    "name": "ipython",
    "version": 3
   },
   "file_extension": ".py",
   "mimetype": "text/x-python",
   "name": "python",
   "nbconvert_exporter": "python",
   "pygments_lexer": "ipython3",
   "version": "3.9.5"
  }
 },
 "nbformat": 4,
 "nbformat_minor": 5
}
